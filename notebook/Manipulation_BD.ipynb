{
 "cells": [
  {
   "cell_type": "markdown",
   "metadata": {},
   "source": [
    "# Debut"
   ]
  },
  {
   "cell_type": "code",
   "execution_count": 95,
   "metadata": {},
   "outputs": [],
   "source": [
    "import sqlite3\n",
    "\n",
    "# Connexion à la base de données (ou création de celle-ci)\n",
    "conn = sqlite3.connect('Gestion_eau.db')\n",
    "cursor = conn.cursor()"
   ]
  },
  {
   "cell_type": "code",
   "execution_count": 87,
   "metadata": {},
   "outputs": [
    {
     "name": "stdout",
     "output_type": "stream",
     "text": [
      "Colonne 'Index_precedent' ajoutée avec succès.\n",
      "Erreur lors de la mise à jour de la colonne : near \"Index\": syntax error\n",
      "Colonne 'gestion' ajoutée avec succès.\n",
      "Colonne 'perte' ajoutée avec succès.\n"
     ]
    }
   ],
   "source": [
    "import sqlite3\n",
    "\n",
    "# Connexion à la base de données\n",
    "conn = sqlite3.connect('Gestion_eau.db')  # Remplacez par le nom de votre base de données\n",
    "cursor = conn.cursor()\n",
    "\n",
    "\n",
    "# 1. Ajouter la colonne `Index_precedent`\n",
    "try:\n",
    "    cursor.execute('''\n",
    "        ALTER TABLE Qte_Consommation ADD COLUMN Index_precedent REAL;\n",
    "    ''')\n",
    "    print(\"Colonne 'Index_precedent' ajoutée avec succès.\")\n",
    "except sqlite3.OperationalError as e:\n",
    "    print(f\"Erreur lors de l'ajout de la colonne : {e}\")\n",
    "\n",
    "# 2. Remplir la colonne `Index_precedent` avec les valeurs appropriées\n",
    "try:\n",
    "    cursor.execute('''\n",
    "        UPDATE Qte_Consommation\n",
    "        SET Index_precedent = (\n",
    "            SELECT Index\n",
    "            FROM Qte_Consommation AS prev\n",
    "            WHERE prev.N_contrat = Qte_Consommation.N_contrat\n",
    "              AND prev.mois_consome < Qte_Consommation.mois_consome\n",
    "            ORDER BY prev.mois_consome DESC\n",
    "            LIMIT 1\n",
    "        );\n",
    "    ''')\n",
    "    print(\"Colonne 'Index_precedent' remplie avec succès.\")\n",
    "except sqlite3.OperationalError as e:\n",
    "    print(f\"Erreur lors de la mise à jour de la colonne : {e}\")\n",
    "\n",
    "\n",
    "# 1. Ajouter la colonne `gestion`\n",
    "try:\n",
    "    cursor.execute('''\n",
    "        ALTER TABLE Qte_Consommation ADD COLUMN gestion REAL;\n",
    "    ''')\n",
    "    print(\"Colonne 'gestion' ajoutée avec succès.\")\n",
    "except sqlite3.OperationalError as e:\n",
    "    print(f\"Erreur lors de l'ajout de la colonne : {e}\")\n",
    "\n",
    "# 1. Ajouter la colonne `perte`\n",
    "try:\n",
    "    cursor.execute('''\n",
    "        ALTER TABLE Qte_Consommation ADD COLUMN perte REAL;\n",
    "    ''')\n",
    "    print(\"Colonne 'perte' ajoutée avec succès.\")\n",
    "except sqlite3.OperationalError as e:\n",
    "    print(f\"Erreur lors de l'ajout de la colonne : {e}\")\n",
    "\n",
    "# 3. Valider les modifications et fermer la connexion\n",
    "conn.commit()\n",
    "conn.close()"
   ]
  },
  {
   "cell_type": "code",
   "execution_count": 10,
   "metadata": {},
   "outputs": [
    {
     "name": "stdout",
     "output_type": "stream",
     "text": [
      "[]\n"
     ]
    }
   ],
   "source": [
    "DELETE FROM Produit_Utiliser;\n",
    "DELETE FROM Produit_Acheter;\n",
    "DELETE FROM Qte_Consommation;\n",
    "DELETE FROM Pay_Consommation;\n",
    "DELETE FROM ONEP_Payment;\n",
    "DELETE FROM ONEP_Credit;\n",
    "DELETE FROM Maintenance_Details;\n",
    "DELETE FROM Achat;\n",
    "\n",
    "\n",
    "DELETE FROM Produit;\n",
    "DELETE FROM Abonnement;\n",
    "DELETE FROM Maintenance;\n",
    "DELETE FROM Blocks;\n",
    "DELETE FROM info_personne"
   ]
  },
  {
   "cell_type": "code",
   "execution_count": 206,
   "metadata": {},
   "outputs": [],
   "source": [
    "import sqlite3\n",
    "\n",
    "# Connexion à la base de données (ou création de celle-ci)\n",
    "conn = sqlite3.connect('Gestion_eau.db')\n",
    "cursor = conn.cursor()\n",
    "cursor.execute('''\n",
    "DELETE FROM Abonnement\n",
    "''')\n",
    "conn.commit()\n",
    "conn.close()"
   ]
  },
  {
   "cell_type": "code",
   "execution_count": 15,
   "metadata": {},
   "outputs": [],
   "source": [
    "import sqlite3\n",
    "\n",
    "# Connexion à la base de données (ou création de celle-ci)\n",
    "conn = sqlite3.connect('Gestion_eau.db')\n",
    "cursor = conn.cursor()\n",
    "cursor.execute('''\n",
    "               ALTER TABLE Pay_Consommation ADD COLUMN Perte REAL DEFAULT 0.0;\n",
    "               ALTER TABLE Pay_Consommation ADD COLUMN Gestion REAL DEFAULT 0.0;\n",
    "\n",
    "''')\n",
    "\n",
    "conn.commit()\n",
    "conn.close()"
   ]
  },
  {
   "cell_type": "code",
   "execution_count": 16,
   "metadata": {},
   "outputs": [],
   "source": [
    "import sqlite3\n",
    "\n",
    "# Connexion à la base de données\n",
    "conn = sqlite3.connect('Gestion_eau.db')  # Remplacez par le nom de votre base de données\n",
    "cursor = conn.cursor()\n",
    "cursor.execute('DROP VIEW IF EXISTS Mouvements_Caisse;')\n",
    "conn.close()"
   ]
  },
  {
   "cell_type": "code",
   "execution_count": 13,
   "metadata": {},
   "outputs": [
    {
     "name": "stdout",
     "output_type": "stream",
     "text": [
      "Table 'info_personne' supprimée.\n",
      "Table 'Abonnement' supprimée.\n",
      "Table 'Qte_Consommation' supprimée.\n",
      "Table 'Pay_Consommation' supprimée.\n",
      "Table 'Produit_Acheter' supprimée.\n",
      "Table 'Produit' supprimée.\n",
      "Table 'Produit_Utiliser' supprimée.\n",
      "Table 'ONEP_Payment' supprimée.\n",
      "Table 'ONEP_Credit' supprimée.\n",
      "Table 'Maintenance' supprimée.\n",
      "Table 'Maintenance_Details' supprimée.\n",
      "Table 'Blocks' supprimée.\n",
      "Table 'Achat' supprimée.\n"
     ]
    }
   ],
   "source": [
    "import sqlite3\n",
    "\n",
    "# Connexion à la base de données SQLite\n",
    "conn = sqlite3.connect('Gestion_eau.db')\n",
    "cursor = conn.cursor()\n",
    "\n",
    "# Liste des tables à supprimer\n",
    "tables = [\n",
    "    \"info_personne\",\n",
    "    \"Abonnement\",\n",
    "    \"Qte_Consommation\",\n",
    "    \"Pay_Consommation\",\n",
    "    \"Produit_Acheter\",\n",
    "    \"Produit\",\n",
    "    \"Produit_Utiliser\",\n",
    "    \"ONEP_Payment\",\n",
    "    \"ONEP_Credit\",\n",
    "    \"Maintenance\",\n",
    "    \"Maintenance_Details\",\n",
    "    \"Blocks\",\n",
    "    \"Achat\"\n",
    "]\n",
    "\n",
    "# Générer et exécuter les commandes DROP TABLE IF EXISTS\n",
    "for table in tables:\n",
    "    cursor.execute(f\"DROP TABLE IF EXISTS {table}\")\n",
    "    print(f\"Table '{table}' supprimée.\")\n",
    "\n",
    "# Valider les modifications et fermer la connexion\n",
    "conn.commit()\n",
    "conn.close()\n"
   ]
  },
  {
   "cell_type": "code",
   "execution_count": 58,
   "metadata": {},
   "outputs": [
    {
     "data": {
      "text/plain": [
       "<sqlite3.Cursor at 0x1075b76c0>"
      ]
     },
     "execution_count": 58,
     "metadata": {},
     "output_type": "execute_result"
    }
   ],
   "source": [
    "cursor.execute('''\n",
    "CREATE VIEW IF NOT EXISTS Mouvements_Caisse AS\n",
    "SELECT N_contrat AS ID, Date_payement AS Date_Mouvement, 'Adhision' AS Motif, Mnt_paye AS Montant\n",
    "FROM Abonnement\n",
    "UNION ALL\n",
    "SELECT N_contrat AS ID, Date_payement AS Date_Mouvement, 'Consommation' AS Motif, Mnt_paye AS Montant\n",
    "FROM Pay_Consommation\n",
    "UNION ALL\n",
    "SELECT ID_Payment AS ID, Date_Reglement AS Date_Mouvement, 'ONEP' AS Motif, Mnt_paye AS Montant\n",
    "FROM ONEP_Payment\n",
    "UNION ALL\n",
    "SELECT ID_Maintenance AS ID, Date_operation AS Date_Mouvement, 'Maintenance' AS Motif, Mnt_ouvrier AS Montant \n",
    "FROM Maintenance\n",
    "UNION ALL\n",
    "SELECT ID_Achat AS ID, Date_Achat AS Date_Mouvement, 'Charge Materiel' AS Motif, -Montant_total AS Montant\n",
    "FROM Produit_Acheter\n",
    "''')\n"
   ]
  },
  {
   "cell_type": "code",
   "execution_count": 55,
   "metadata": {},
   "outputs": [
    {
     "data": {
      "text/plain": [
       "<sqlite3.Cursor at 0x1075b76c0>"
      ]
     },
     "execution_count": 55,
     "metadata": {},
     "output_type": "execute_result"
    }
   ],
   "source": [
    "cursor.execute(\"DROP VIEW IF EXISTS Mouvements_Caisse\")\n"
   ]
  },
  {
   "cell_type": "code",
   "execution_count": 2,
   "metadata": {},
   "outputs": [
    {
     "name": "stdout",
     "output_type": "stream",
     "text": [
      "La clé primaire a été supprimée avec succès.\n"
     ]
    }
   ],
   "source": [
    "# Étape 1 : Créer une table temporaire sans clé primaire\n",
    "cursor.execute('''\n",
    "CREATE TABLE IF NOT EXISTS Blocks_temp (\n",
    "    Block_ID INTEGER,\n",
    "    Index_m3 REAL,\n",
    "    Date_consome DATE\n",
    ");\n",
    "''')\n",
    "\n",
    "# Étape 2 : Copier les données de l'ancienne table vers la nouvelle table\n",
    "cursor.execute('''\n",
    "INSERT INTO Blocks_temp (Block_ID, Index_m3, Date_consome)\n",
    "SELECT Block_ID, Index_m3, Date_consome FROM Blocks;\n",
    "''')\n",
    "\n",
    "# Étape 3 : Supprimer l'ancienne table\n",
    "cursor.execute('DROP TABLE Blocks;')\n",
    "\n",
    "# Étape 4 : Renommer la table temporaire\n",
    "cursor.execute('ALTER TABLE Blocks_temp RENAME TO Blocks;')\n",
    "\n",
    "# Sauvegarder les modifications\n",
    "conn.commit()\n",
    "conn.close()\n",
    "\n",
    "print(\"La clé primaire a été supprimée avec succès.\")\n",
    "\n"
   ]
  },
  {
   "cell_type": "code",
   "execution_count": null,
   "metadata": {},
   "outputs": [],
   "source": [
    "\n",
    "cursor.execute('''DELETE FROM ONEP_Payment\n",
    "WHERE Recu = 4444;''')\n"
   ]
  },
  {
   "cell_type": "code",
   "execution_count": 2,
   "metadata": {},
   "outputs": [
    {
     "data": {
      "text/plain": [
       "<sqlite3.Cursor at 0x10676d8f0>"
      ]
     },
     "execution_count": 2,
     "metadata": {},
     "output_type": "execute_result"
    }
   ],
   "source": [
    "cursor.execute('''\n",
    "INSERT INTO Produit (Nom_Produit) VALUES\n",
    "    ('Compteur'),\n",
    "    ('Pompe'),\n",
    "    ('Filtre'),\n",
    "    ('Réservoir'),\n",
    "    ('Tuyau irrigation'),\n",
    "    ('Capteur de niveau'),\n",
    "    ('Vanne à bille'),\n",
    "    ('Distributeur'),\n",
    "    ('Adoucisseur'),\n",
    "    ('Kit de traitement'),\n",
    "    ('Divers');\n",
    "''')\n"
   ]
  },
  {
   "cell_type": "markdown",
   "metadata": {},
   "source": [
    "# Table "
   ]
  },
  {
   "cell_type": "code",
   "execution_count": 14,
   "metadata": {},
   "outputs": [
    {
     "data": {
      "text/plain": [
       "<sqlite3.Cursor at 0x10ad387a0>"
      ]
     },
     "execution_count": 14,
     "metadata": {},
     "output_type": "execute_result"
    }
   ],
   "source": [
    "import sqlite3\n",
    "\n",
    "# Connexion à la base de données (ou création de celle-ci)\n",
    "conn = sqlite3.connect('Gestion_eau.db')\n",
    "cursor = conn.cursor()\n",
    "\n",
    "# Création de la table info_personne\n",
    "cursor.execute('''\n",
    "CREATE TABLE IF NOT EXISTS info_personne (\n",
    "    N_contrat TEXT PRIMARY KEY,\n",
    "    Cin TEXT,\n",
    "    N_conpteur_B TEXT,\n",
    "    N_conpteur_P TEXT,\n",
    "    Nom TEXT NOT NULL,\n",
    "    Mnt_due REAL,\n",
    "    Date_Adhesion DATE,\n",
    "    Adresse TEXT\n",
    ")\n",
    "''')\n",
    "\n",
    "# Création de la table Abonnement\n",
    "cursor.execute('''\n",
    "CREATE TABLE IF NOT EXISTS Abonnement (\n",
    "    N_contrat TEXT,\n",
    "    N_recue TEXT,\n",
    "    Mnt_paye REAL,\n",
    "    Date_payement DATE,\n",
    "    FOREIGN KEY (N_contrat) REFERENCES info_personne(N_contrat)\n",
    ")\n",
    "''')\n",
    "\n",
    "# Création de la table Qte_Consommation\n",
    "cursor.execute('''\n",
    "CREATE TABLE IF NOT EXISTS Qte_Consommation (\n",
    "    N_contrat TEXT,\n",
    "    Date_consome DATE,\n",
    "    Quantite REAL,\n",
    "    FOREIGN KEY (N_contrat) REFERENCES info_personne(N_contrat)\n",
    ")\n",
    "''')\n",
    "\n",
    "# Création de la table Pay_Consommation\n",
    "cursor.execute('''\n",
    "CREATE TABLE IF NOT EXISTS Pay_Consommation (\n",
    "    N_contrat TEXT,\n",
    "    N_recue TEXT,\n",
    "    Mnt_paye REAL,\n",
    "    Date_paye Date,\n",
    "    Date_payement DATE,\n",
    "    FOREIGN KEY (N_contrat) REFERENCES info_personne(N_contrat))\n",
    "''')\n",
    "\n",
    "\"\"\"# Table Mouvement_Stock \n",
    "cursor.execute('''\n",
    "    CREATE TABLE IF NOT EXISTS Mouvement_Stock (\n",
    "    ID_Mouvement INTEGER PRIMARY KEY AUTOINCREMENT,\n",
    "    Nom_Produit TEXT REFERENCES Produit(Nom_Produit),\n",
    "    Date_Mouvement DATE,\n",
    "    Type_Mouvement TEXT,  -- Par exemple : \"entrée\", \"sortie\", \"retour\"\n",
    "    Quantite REAL,  -- Quantité ajoutée ou retirée\n",
    "    Description TEXT  -- Détails du mouvement (par exemple : \"Sortie pour installation\")\n",
    ")\n",
    "''')\"\"\"\n",
    "\n",
    "# Table Achat \n",
    "cursor.execute('''\n",
    "CREATE TABLE IF NOT EXISTS Produit_Acheter (\n",
    "    ID_Achat INTEGER PRIMARY KEY AUTOINCREMENT,\n",
    "    Nom_Produit TEXT REFERENCES Produit(Nom_Produit),\n",
    "    Date_Achat DATE,\n",
    "    Quantite_achetee REAL,\n",
    "    Prix_unitaire REAL,\n",
    "    Montant_total REAL AS (Quantite_achetee * Prix_unitaire),\n",
    "    N_recu TEXT,\n",
    "    Fournisseur TEXT\n",
    ")\n",
    "''')\n",
    "\n",
    "# Table Produit\n",
    "cursor.execute('''\n",
    "CREATE TABLE IF NOT EXISTS Produit (\n",
    "    Nom_Produit TEXT PRIMARY KEY NOT NULL\n",
    ")\n",
    "''')\n",
    "\n",
    "# Table Produit_Utiliser\n",
    "cursor.execute('''\n",
    "CREATE TABLE IF NOT EXISTS Produit_Utiliser (\n",
    "    ID_utils INTEGER PRIMARY KEY AUTOINCREMENT,\n",
    "    Nom_Produit TEXT REFERENCES Produit(Nom_Produit),\n",
    "    Date_utils DATE,\n",
    "    Quantite_utuli REAL,\n",
    "    Description TEXT\n",
    ")\n",
    "''')\n",
    "\n",
    "#Table ONEP_Payement\n",
    "cursor.execute('''CREATE TABLE IF NOT EXISTS ONEP_Payment (\n",
    "    ID_Payment INTEGER PRIMARY KEY AUTOINCREMENT, \n",
    "    Mois_consome TEXT NOT NULL,            \n",
    "    Mnt_paye REAL NOT NULL,                \n",
    "    Recu TEXT NOT NULL,                    \n",
    "    Date_Reglement DATE NOT NULL                  \n",
    ")''')\n",
    "\n",
    "# Table ONEP_Charge\n",
    "cursor.execute('''CREATE TABLE IF NOT EXISTS ONEP_Credit (\n",
    "    ID_Charge INTEGER PRIMARY KEY AUTOINCREMENT,  \n",
    "    Mois_consome TEXT NOT NULL,  \n",
    "    Quantite_Consome REAL,\n",
    "    Mnt_a_paye REAL NOT NULL,                \n",
    "    Facture TEXT                             \n",
    ") ''')\n",
    "\n",
    "# Table Maintenance\n",
    "cursor.execute(''' CREATE TABLE IF NOT EXISTS Maintenance (\n",
    "    ID_Maintenance INTEGER PRIMARY KEY AUTOINCREMENT,\n",
    "    Date_operation DATE NOT NULL,\n",
    "    Description TEXT,\n",
    "    Nom_ouvrier TEXT,\n",
    "    Mnt_ouvrier REAL\n",
    ")\n",
    "''')\n",
    "               \n",
    "# Table Maintenance en detail\n",
    "cursor.execute(''' CREATE TABLE IF NOT EXISTS Maintenance_Details (\n",
    "    ID_Detail INTEGER PRIMARY KEY AUTOINCREMENT,\n",
    "    ID_Maintenance INTEGER REFERENCES Maintenance(ID_Maintenance) ON DELETE CASCADE,\n",
    "    Nom_produit TEXT REFERENCES Produit(Nom_Produit),\n",
    "    Quantite_produit REAL NOT NULL,\n",
    "    FOREIGN KEY (ID_Maintenance) REFERENCES Maintenance(ID_Maintenance)\n",
    ")\n",
    "''')\n",
    "\n",
    "cursor.execute('''CREATE TABLE IF NOT EXISTS Blocks (\n",
    "    Block_ID INTEGER ,\n",
    "    Index_m3 REAL NOT NULL,\n",
    "    Date_consome Date\n",
    ");\n",
    "       ''')"
   ]
  },
  {
   "cell_type": "markdown",
   "metadata": {},
   "source": [
    "# Inserion "
   ]
  },
  {
   "cell_type": "code",
   "execution_count": 15,
   "metadata": {},
   "outputs": [
    {
     "name": "stdout",
     "output_type": "stream",
     "text": [
      "Données insérées avec succès.\n"
     ]
    }
   ],
   "source": [
    "import sqlite3\n",
    "\n",
    "# Connexion à la base de données\n",
    "conn = sqlite3.connect('Gestion_eau.db')\n",
    "cursor = conn.cursor()\n",
    "\n",
    "# Données à insérer\n",
    "data_info_personne = [\n",
    "    ('01', 'Bk234', '1', 'CP001', 'John Doe', 1500.50, '2024-01-01', 'hamou'),\n",
    "    ('02', 'BK123', '2', 'CP002', 'Jane Smith', 2000.00, '2024-02-01', 'baala'),\n",
    "    ('03', 'BK45', '3', 'CP003', 'Ahmed Ali', 1750.75, '2024-03-10', '789 Boulevard Zerktouni, Fès'),\n",
    "    ('04', 'CIN004', '2', 'CP004', 'Sarah Karim', 1850.00, '2024-03-15', '321 Rue Ibn Battuta, Marrakech'),\n",
    "    ('05', 'CIN005', '3', 'CP005', 'Youssef Haddad', 1450.25, '2024-04-01', '654 Avenue Hassan II, Tanger'),\n",
    "    ('06', 'CIN006', '4', 'CP006', 'Fatima Zahra', 2100.00, '2024-04-20', '876 Rue Oqba Ibn Nafia, Agadir'),\n",
    "    ('07', 'CIN007', '4', 'CP007', 'Mohamed Chraibi', 1950.30, '2024-05-01', '543 Boulevard Moulay Youssef, Oujda'),\n",
    "    ('08', 'CIN008', '4', 'CP008', 'Hajar El Alaoui', 1800.00, '2024-05-10', '234 Rue Al Mounir, Meknès'),\n",
    "    ('09', 'CIN009', '1', 'CP009', 'Rachid Benomar', 1650.60, '2024-06-01', '123 Rue Dakhla, Tétouan'),\n",
    "    ('10', 'CIN010', '3', 'CP010', 'Samira Lahlou', 1750.80, '2024-06-15', '456 Avenue Abdelmoumen, Laâyoune')\n",
    "]\n",
    "\n",
    "# Insertion des données\n",
    "cursor.executemany('''\n",
    "INSERT INTO info_personne (N_contrat, Cin, N_conpteur_B, N_conpteur_P, Nom, Mnt_due, Date_Adhesion, Adresse)\n",
    "VALUES (?, ?, ?, ?, ?, ?, ?, ?)\n",
    "''', data_info_personne)\n",
    "\n",
    "# Validation des modifications et fermeture de la connexion\n",
    "conn.commit()\n",
    "conn.close()\n",
    "\n",
    "print(\"Données insérées avec succès.\")\n"
   ]
  },
  {
   "cell_type": "code",
   "execution_count": 16,
   "metadata": {},
   "outputs": [
    {
     "name": "stdout",
     "output_type": "stream",
     "text": [
      "Données insérées avec succès dans la table Abonnement.\n"
     ]
    }
   ],
   "source": [
    "import sqlite3\n",
    "\n",
    "# Connexion à la base de données\n",
    "conn = sqlite3.connect('Gestion_eau.db')\n",
    "cursor = conn.cursor()\n",
    "\n",
    "# Données à insérer dans la table Abonnement\n",
    "data_abonnement = [\n",
    "    ('01', '1', 500.00, '2024-01-10'),\n",
    "    ('01', '2', 500.00, '2024-02-10'),\n",
    "    ('01', '3', 500.00, '2024-03-10'),\n",
    "    ('01', '4', 0.50, '2024-04-01'),\n",
    "    ('02', '5', 1000.00, '2024-02-15'),\n",
    "    ('02', '6', 1000.00, '2024-03-15'),\n",
    "    ('03', '7', 500.00, '2024-03-15'),\n",
    "    ('03', '8', 500.00, '2024-04-05'),\n",
    "    ('04', '9', 800.00, '2024-03-20'),\n",
    "    ('04', '10', 800.00, '2024-04-05'),\n",
    "    ('05', '11', 800.00, '2024-04-10'),\n",
    "    ('06', '12', 500.00, '2024-04-25'),\n",
    "    ('06', '13', 500.00, '2024-05-05'),\n",
    "    ('07', '14', 1000.00, '2024-05-15'),\n",
    "    ('08', '15', 1800.00, '2024-05-25'),\n",
    "    ('09', '16', 1650.60, '2024-06-10'),\n",
    "    ('10', '17', 600.00, '2024-06-20'),\n",
    "    ('10', '18', 1150.80, '2024-07-01')\n",
    "]\n",
    "\n",
    "# Insertion des données dans la table Abonnement\n",
    "cursor.executemany('''\n",
    "INSERT INTO Abonnement (N_contrat, N_recue, Mnt_paye, Date_payement)\n",
    "VALUES (?, ?, ?, ?)\n",
    "''', data_abonnement)\n",
    "\n",
    "# Validation des modifications et fermeture de la connexion\n",
    "conn.commit()\n",
    "conn.close()\n",
    "\n",
    "print(\"Données insérées avec succès dans la table Abonnement.\")\n"
   ]
  },
  {
   "cell_type": "code",
   "execution_count": 8,
   "metadata": {},
   "outputs": [],
   "source": [
    "import sqlite3\n",
    "\n",
    "# Connexion à la base de données\n",
    "conn = sqlite3.connect('Gestion_eau.db')\n",
    "cursor = conn.cursor()\n",
    "\n",
    "# Données de consommation à insérer\n",
    "data_consommation = [\n",
    "    ('01', 2, '2024-06-01'),\n",
    "    ('01', 4, '2024-07-01'),\n",
    "    ('01', 5, '2024-08-01'),\n",
    "    ('01', 6, '2024-09-01'),\n",
    "    ('01', 7, '2024-10-01'),\n",
    "    ('01', 10, '2024-11-01'),\n",
    "    ('02', 3, '2024-06-01'),\n",
    "    ('02', 9, '2024-07-01'),\n",
    "    ('02', 14, '2024-08-01'),\n",
    "    ('02', 18, '2024-09-01'),\n",
    "    ('02', 19, '2024-10-01'),\n",
    "    ('02', 22, '2024-11-01'),\n",
    "    ('03', 1, '2024-06-01'),\n",
    "    ('03', 7, '2024-07-01'),\n",
    "    ('03', 10, '2024-08-01'),\n",
    "    ('03', 11, '2024-09-01'),\n",
    "    ('03', 15, '2024-10-01'),\n",
    "    ('03', 20, '2024-11-01'),\n",
    "    ('04', 10, '2024-06-01'),\n",
    "    ('04', 13, '2024-07-01'),\n",
    "    ('04', 19, '2024-08-01'),\n",
    "    ('04', 22, '2024-09-01'),\n",
    "    ('04', 26, '2024-10-01'),\n",
    "    ('04', 28, '2024-11-01'),\n",
    "    ('05', 1, '2024-06-01'),\n",
    "    ('05', 7, '2024-07-01'),\n",
    "    ('05', 9, '2024-08-01'),\n",
    "    ('05', 17, '2024-09-01'),\n",
    "    ('05', 20, '2024-10-01'),\n",
    "    ('05', 28, '2024-11-01')\n",
    "]\n",
    "\n",
    "# Insertion des données dans la table Consommation\n",
    "cursor.executemany('''\n",
    "INSERT INTO Qte_Consommation (N_contrat, Quantite, Date_consome)\n",
    "VALUES (?, ?, ?)\n",
    "''', data_consommation)\n",
    "\n",
    "# Validation des modifications et fermeture de la connexion\n",
    "conn.commit()\n",
    "conn.close()\n"
   ]
  },
  {
   "cell_type": "code",
   "execution_count": 11,
   "metadata": {},
   "outputs": [
    {
     "name": "stdout",
     "output_type": "stream",
     "text": [
      "Les données ont été insérées dans la table Pay_Consommation avec succès.\n"
     ]
    }
   ],
   "source": [
    "import sqlite3\n",
    "\n",
    "# Connexion à la base de données\n",
    "conn = sqlite3.connect('Gestion_eau.db')\n",
    "cursor = conn.cursor()\n",
    "\n",
    "# Données à insérer\n",
    "data_pay_consommation = [\n",
    "    ('01', '1', 14.00, '2024-06-15', '2024-06-16'),\n",
    "    ('01', '6', 14.00, '2024-07-01', '2024-07-02'),\n",
    "    ('01', '5', 7.00, '2024-08-15', '2024-08-16'),\n",
    "    ('01', '6', 7.00, '2024-09-01', '2024-09-02'),\n",
    "    ('01', '2', 7.00, '2024-10-15', '2024-10-16'),\n",
    "\n",
    "    ('02', '2', 21.00, '2024-06-15', '2024-06-16'),\n",
    "    ('02', '7', 42.00, '2024-07-01', '2024-07-02'),\n",
    "    ('02', '11', 35.00, '2024-08-15', '2024-08-16'),\n",
    "    ('02', '15', 28.00, '2024-09-01', '2024-09-02'),\n",
    "    \n",
    "    ('03', '9', 7.00, '2024-06-15', '2024-06-16'),\n",
    "    ('03', '16', 42.00, '2024-07-01', '2024-07-02'),\n",
    "    ('03', '15', 21.00, '2024-08-15', '2024-08-16'),\n",
    "    ('03', '16', 7.00, '2024-09-01', '2024-09-02'),\n",
    "    ('03', '12', 28.00, '2024-10-15', '2024-10-16'),\n",
    "    ('03', '10', 35.00, '2024-11-15', '2024-11-16'),\n",
    "\n",
    "    ('04', '3', 21.00, '2024-09-01', '2024-10-02'),\n",
    "    ('04', '7', 70.00, '2024-06-15', '2024-08-16'),\n",
    "    ('04', '12', 14.00, '2024-11-01', '2024-11-02'),\n",
    "\n",
    "    ('05', '12', 7.00, '2024-06-01', '2024-06-02'),\n",
    "    \n",
    "]\n",
    "\n",
    "# Insertion des données\n",
    "cursor.executemany('''\n",
    "INSERT INTO Pay_Consommation (N_contrat, N_recue, Mnt_paye, Date_paye, Date_payement)\n",
    "VALUES (?, ?, ?, ?, ?)\n",
    "''', data_pay_consommation)\n",
    "\n",
    "# Validation des changements\n",
    "conn.commit()\n",
    "\n",
    "# Fermeture de la connexion\n",
    "conn.close()\n",
    "\n",
    "print(\"Les données ont été insérées dans la table Pay_Consommation avec succès.\")\n"
   ]
  },
  {
   "cell_type": "markdown",
   "metadata": {},
   "source": [
    "# XXX"
   ]
  },
  {
   "cell_type": "code",
   "execution_count": 5,
   "metadata": {},
   "outputs": [],
   "source": [
    "cursor.execute(\"DROP VIEW IF EXISTS Mouvements_Caisse\")\n",
    "\n",
    "# Valider et fermer la connexion\n",
    "conn.commit()\n",
    "conn.close()"
   ]
  },
  {
   "cell_type": "code",
   "execution_count": null,
   "metadata": {},
   "outputs": [
    {
     "name": "stdout",
     "output_type": "stream",
     "text": [
      "('000', '2024-12', '2024-12-01', 90.0, 90.0)\n",
      "('100', '2024-11', '2024-11-01', 0.0, 0.0)\n",
      "('100', '2024-11', '2024-11-01', 0.0, 0.0)\n",
      "('11', '2024-08', '2024-08-01', 60.0, 60.0)\n",
      "('111', '2024-10', '2024-10-01', 70.0, 70.0)\n",
      "('111', '2024-11', '2024-11-01', 77.0, 7.0)\n",
      "('111', '2024-11', '2024-11-13', 129.0, 52.0)\n",
      "('111', '2024-12', '2024-12-01', 90.0, -39.0)\n",
      "('123', '2024-11', '2024-11-01', 301.0, 301.0)\n",
      "('123', '2024-12', '2024-12-01', 12345.0, 12044.0)\n",
      "('124', '2024-11', '2024-11-01', 56.0, 56.0)\n",
      "('222', '2024-11', '2024-11-07', 145.0, 145.0)\n",
      "('222', '2024-12', '2024-12-03', 160.0, 15.0)\n",
      "('222', '2025-01', '2025-01-02', 179.0, 19.0)\n",
      "('333', '2024-10', '2024-10-01', 50.0, 50.0)\n",
      "('333', '2024-11', '2024-11-02', 56.0, 6.0)\n",
      "('55', '2024-09', '2024-09-01', 5.0, 5.0)\n",
      "('55', '2024-10', '2024-10-01', 10.0, 5.0)\n",
      "('55', '2024-11', '2024-11-01', 15.0, 5.0)\n",
      "('78', '2024-08', '2024-08-01', 12.0, 12.0)\n",
      "('78', '2024-09', '2024-09-02', 18.0, 6.0)\n",
      "('78', '2024-10', '2024-10-03', 25.0, 7.0)\n",
      "('78', '2024-11', '2024-11-02', 32.0, 7.0)\n",
      "('888', '2024-10', '2024-10-01', 10.0, 10.0)\n",
      "('9090', '2024-10', '2024-10-01', 89.0, 89.0)\n",
      "('9090', '2024-11', '2024-11-02', 95.0, 6.0)\n",
      "('9090', '2024-12', '2024-12-03', 123.0, 28.0)\n",
      "('999', '2024-11', '2024-11-07', 0.0, 0.0)\n",
      "('999', '2024-12', '2024-12-01', 17.0, 17.0)\n",
      "('999', '2025-01', '2025-01-02', 12.0, -5.0)\n"
     ]
    }
   ],
   "source": [
    "import sqlite3\n",
    "\n",
    "# Connexion à la base de données (remplacez par votre connexion de base de données)\n",
    "conn = sqlite3.connect('Gestion_eau.db')\n",
    "cursor = conn.cursor()\n",
    "\n",
    "# Exécuter la requête SQL\n",
    "query = '''\n",
    "SELECT \n",
    "    q.N_contrat,\n",
    "    strftime('%Y-%m', q.Date_consome) AS Mois_Consome,\n",
    "    q.Date_consome,\n",
    "    q.Quantite AS Index_m3,\n",
    "    COALESCE(q.Quantite - LAG(q.Quantite) OVER (PARTITION BY q.N_contrat ORDER BY q.Date_consome), q.Quantite) AS Qte_Consomme_m3,\n",
    "    (COALESCE(q.Quantite - LAG(q.Quantite) OVER (PARTITION BY q.N_contrat ORDER BY q.Date_consome), q.Quantite) * 7) AS Montant_dh\n",
    "FROM \n",
    "    Qte_Consommation q;\n",
    "\n",
    "'''\n",
    "\n",
    "cursor.execute(query)\n",
    "\n",
    "# Récupérer les résultats\n",
    "results = cursor.fetchall()\n",
    "\n",
    "# Afficher les résultats\n",
    "for row in results:\n",
    "    print(row)\n",
    "\n",
    "# Fermer la connexion\n",
    "conn.close()\n"
   ]
  },
  {
   "cell_type": "code",
   "execution_count": 13,
   "metadata": {},
   "outputs": [
    {
     "name": "stdout",
     "output_type": "stream",
     "text": [
      "Tables dans la base de données Gestion_eau :\n",
      "info_personne\n",
      "Abonnement\n",
      "Qte_Consommation\n",
      "Pay_Consommation\n"
     ]
    }
   ],
   "source": [
    "import sqlite3\n",
    "\n",
    "# Connexion à la base de données\n",
    "conn = sqlite3.connect('Gestion_eau.db')\n",
    "\n",
    "# Création d'un curseur\n",
    "cursor = conn.cursor()\n",
    "\n",
    "# Exécution de la requête pour lister les tables\n",
    "cursor.execute(\"SELECT name FROM sqlite_master WHERE type='table';\")\n",
    "\n",
    "# Récupération et affichage des noms de tables\n",
    "tables = cursor.fetchall()\n",
    "print(\"Tables dans la base de données Gestion_eau :\")\n",
    "for table in tables:\n",
    "    print(table[0])\n",
    "\n",
    "# Fermeture de la connexion\n",
    "conn.close()\n"
   ]
  },
  {
   "cell_type": "code",
   "execution_count": 85,
   "metadata": {},
   "outputs": [],
   "source": [
    "# Enregistrer les modifications et fermer la connexion\n",
    "conn.commit()\n",
    "conn.close()"
   ]
  },
  {
   "cell_type": "markdown",
   "metadata": {},
   "source": [
    "# Insertion des donnees reelles"
   ]
  },
  {
   "cell_type": "markdown",
   "metadata": {},
   "source": [
    "## Info personnelle"
   ]
  },
  {
   "cell_type": "code",
   "execution_count": 1,
   "metadata": {},
   "outputs": [],
   "source": [
    "import pandas as pd "
   ]
  },
  {
   "cell_type": "code",
   "execution_count": 53,
   "metadata": {},
   "outputs": [
    {
     "data": {
      "text/html": [
       "<div>\n",
       "<style scoped>\n",
       "    .dataframe tbody tr th:only-of-type {\n",
       "        vertical-align: middle;\n",
       "    }\n",
       "\n",
       "    .dataframe tbody tr th {\n",
       "        vertical-align: top;\n",
       "    }\n",
       "\n",
       "    .dataframe thead th {\n",
       "        text-align: right;\n",
       "    }\n",
       "</style>\n",
       "<table border=\"1\" class=\"dataframe\">\n",
       "  <thead>\n",
       "    <tr style=\"text-align: right;\">\n",
       "      <th></th>\n",
       "      <th>N_Contrat</th>\n",
       "      <th>Nom_complet</th>\n",
       "      <th>Mnt_due</th>\n",
       "      <th>Mnt_paye</th>\n",
       "    </tr>\n",
       "  </thead>\n",
       "  <tbody>\n",
       "    <tr>\n",
       "      <th>0</th>\n",
       "      <td>1</td>\n",
       "      <td>عبد الحق الحمزوي</td>\n",
       "      <td>3600</td>\n",
       "      <td>3600</td>\n",
       "    </tr>\n",
       "    <tr>\n",
       "      <th>1</th>\n",
       "      <td>2</td>\n",
       "      <td>صالح حمدي</td>\n",
       "      <td>3600</td>\n",
       "      <td>3600</td>\n",
       "    </tr>\n",
       "    <tr>\n",
       "      <th>2</th>\n",
       "      <td>3</td>\n",
       "      <td>العربي الزعاري</td>\n",
       "      <td>3600</td>\n",
       "      <td>3600</td>\n",
       "    </tr>\n",
       "    <tr>\n",
       "      <th>3</th>\n",
       "      <td>4</td>\n",
       "      <td>أحمد لعناني</td>\n",
       "      <td>3600</td>\n",
       "      <td>1000</td>\n",
       "    </tr>\n",
       "    <tr>\n",
       "      <th>4</th>\n",
       "      <td>5</td>\n",
       "      <td>عبد الكريم النخالي</td>\n",
       "      <td>3600</td>\n",
       "      <td>3600</td>\n",
       "    </tr>\n",
       "    <tr>\n",
       "      <th>...</th>\n",
       "      <td>...</td>\n",
       "      <td>...</td>\n",
       "      <td>...</td>\n",
       "      <td>...</td>\n",
       "    </tr>\n",
       "    <tr>\n",
       "      <th>149</th>\n",
       "      <td>150</td>\n",
       "      <td>نبيل حمدي</td>\n",
       "      <td>3600</td>\n",
       "      <td>3600</td>\n",
       "    </tr>\n",
       "    <tr>\n",
       "      <th>150</th>\n",
       "      <td>151</td>\n",
       "      <td>مصطفى كعموش</td>\n",
       "      <td>4000</td>\n",
       "      <td>1500</td>\n",
       "    </tr>\n",
       "    <tr>\n",
       "      <th>151</th>\n",
       "      <td>152</td>\n",
       "      <td>نعيمة مداح</td>\n",
       "      <td>4000</td>\n",
       "      <td>4000</td>\n",
       "    </tr>\n",
       "    <tr>\n",
       "      <th>152</th>\n",
       "      <td>153</td>\n",
       "      <td>مباركة حمدان</td>\n",
       "      <td>4000</td>\n",
       "      <td>4000</td>\n",
       "    </tr>\n",
       "    <tr>\n",
       "      <th>153</th>\n",
       "      <td>154</td>\n",
       "      <td>عبد القادر الزهري</td>\n",
       "      <td>4000</td>\n",
       "      <td>3600</td>\n",
       "    </tr>\n",
       "  </tbody>\n",
       "</table>\n",
       "<p>154 rows × 4 columns</p>\n",
       "</div>"
      ],
      "text/plain": [
       "     N_Contrat         Nom_complet  Mnt_due  Mnt_paye\n",
       "0            1    عبد الحق الحمزوي     3600      3600\n",
       "1            2           صالح حمدي     3600      3600\n",
       "2            3      العربي الزعاري     3600      3600\n",
       "3            4         أحمد لعناني     3600      1000\n",
       "4            5  عبد الكريم النخالي     3600      3600\n",
       "..         ...                 ...      ...       ...\n",
       "149        150           نبيل حمدي     3600      3600\n",
       "150        151         مصطفى كعموش     4000      1500\n",
       "151        152          نعيمة مداح     4000      4000\n",
       "152        153        مباركة حمدان     4000      4000\n",
       "153        154   عبد القادر الزهري     4000      3600\n",
       "\n",
       "[154 rows x 4 columns]"
      ]
     },
     "execution_count": 53,
     "metadata": {},
     "output_type": "execute_result"
    }
   ],
   "source": [
    "fichier_excel= \"/Users/mac/Desktop/Gestion-Eau-Association-Nasr/Donnee Brute/MB suivi de compte.xlsx\"\n",
    "noms_colonnes = [\"N_Contrat\", \"Nom_complet\", \"Mnt_due\", \"Mnt_paye\"]\n",
    "df = pd.read_excel(fichier_excel, sheet_name=\"Sheet1\",names=noms_colonnes)\n",
    "df"
   ]
  },
  {
   "cell_type": "code",
   "execution_count": 54,
   "metadata": {},
   "outputs": [
    {
     "name": "stdout",
     "output_type": "stream",
     "text": [
      "Données insérées avec succès dans la table info_personne.\n"
     ]
    }
   ],
   "source": [
    "import pandas as pd\n",
    "import sqlite3  # Remplacez par le module approprié si vous utilisez une autre base de données\n",
    "\n",
    "# 1. Importer les données depuis le fichier Excel\n",
    "fichier_excel= \"/Users/mac/Desktop/Gestion-Eau-Association-Nasr/Donnee Brute/MB suivi de compte.xlsx\"\n",
    "feuille = \"Sheet1\"\n",
    "df = pd.read_excel(fichier_excel, sheet_name=feuille)\n",
    "\n",
    "# 2. Sélectionner les colonnes nécessaires\n",
    "colonnes_a_inserer = [\"N_Contrat\", \"Nom_complet\", \"Mnt_due\"]\n",
    "df_selectionne = df[colonnes_a_inserer]\n",
    "\n",
    "# 3. Se connecter à la base de données\n",
    "# Remplacez 'Gestion_eau.db' par le nom de votre base de données\n",
    "conn = sqlite3.connect('Gestion_eau.db')\n",
    "cursor = conn.cursor()\n",
    "\n",
    "# 4. Insérer les données dans la table info_personne\n",
    "for _, row in df_selectionne.iterrows():\n",
    "    cursor.execute('''\n",
    "        INSERT INTO info_personne (N_contrat, Nom, Mnt_due)\n",
    "        VALUES (?, ?, ?)\n",
    "    ''', (row[\"N_Contrat\"], row[\"Nom_complet\"], row[\"Mnt_due\"]))\n",
    "\n",
    "# 5. Valider les changements et fermer la connexion\n",
    "conn.commit()\n",
    "conn.close()\n",
    "\n",
    "print(\"Données insérées avec succès dans la table info_personne.\")"
   ]
  },
  {
   "cell_type": "markdown",
   "metadata": {},
   "source": [
    "## Consommation"
   ]
  },
  {
   "cell_type": "code",
   "execution_count": 88,
   "metadata": {},
   "outputs": [
    {
     "data": {
      "text/html": [
       "<div>\n",
       "<style scoped>\n",
       "    .dataframe tbody tr th:only-of-type {\n",
       "        vertical-align: middle;\n",
       "    }\n",
       "\n",
       "    .dataframe tbody tr th {\n",
       "        vertical-align: top;\n",
       "    }\n",
       "\n",
       "    .dataframe thead th {\n",
       "        text-align: right;\n",
       "    }\n",
       "</style>\n",
       "<table border=\"1\" class=\"dataframe\">\n",
       "  <thead>\n",
       "    <tr style=\"text-align: right;\">\n",
       "      <th></th>\n",
       "      <th>N_contrat</th>\n",
       "      <th>Nom</th>\n",
       "      <th>Index_initial</th>\n",
       "      <th>Jan</th>\n",
       "      <th>Fev</th>\n",
       "      <th>Mars</th>\n",
       "      <th>Avr</th>\n",
       "      <th>Mai</th>\n",
       "      <th>Juin</th>\n",
       "      <th>Juil</th>\n",
       "      <th>Aout</th>\n",
       "      <th>Sep</th>\n",
       "      <th>Oct</th>\n",
       "    </tr>\n",
       "  </thead>\n",
       "  <tbody>\n",
       "    <tr>\n",
       "      <th>0</th>\n",
       "      <td>6</td>\n",
       "      <td>حسن البرني</td>\n",
       "      <td>608.0</td>\n",
       "      <td>608.0</td>\n",
       "      <td>608.0</td>\n",
       "      <td>611.0</td>\n",
       "      <td>617.0</td>\n",
       "      <td>628.0</td>\n",
       "      <td>636.0</td>\n",
       "      <td>649.0</td>\n",
       "      <td>660.0</td>\n",
       "      <td>671.0</td>\n",
       "      <td>677.0</td>\n",
       "    </tr>\n",
       "    <tr>\n",
       "      <th>1</th>\n",
       "      <td>73</td>\n",
       "      <td>سعيد البرني</td>\n",
       "      <td>145.0</td>\n",
       "      <td>145.0</td>\n",
       "      <td>145.0</td>\n",
       "      <td>1.0</td>\n",
       "      <td>6.0</td>\n",
       "      <td>11.0</td>\n",
       "      <td>16.0</td>\n",
       "      <td>21.0</td>\n",
       "      <td>28.0</td>\n",
       "      <td>35.0</td>\n",
       "      <td>39.0</td>\n",
       "    </tr>\n",
       "    <tr>\n",
       "      <th>2</th>\n",
       "      <td>55</td>\n",
       "      <td>البرني لحسن (مليكة)</td>\n",
       "      <td>318.0</td>\n",
       "      <td>318.0</td>\n",
       "      <td>318.0</td>\n",
       "      <td>319.0</td>\n",
       "      <td>320.0</td>\n",
       "      <td>323.0</td>\n",
       "      <td>330.0</td>\n",
       "      <td>338.0</td>\n",
       "      <td>344.0</td>\n",
       "      <td>354.0</td>\n",
       "      <td>364.0</td>\n",
       "    </tr>\n",
       "    <tr>\n",
       "      <th>3</th>\n",
       "      <td>30</td>\n",
       "      <td>المصطفى البرني</td>\n",
       "      <td>579.0</td>\n",
       "      <td>580.0</td>\n",
       "      <td>580.0</td>\n",
       "      <td>582.0</td>\n",
       "      <td>590.0</td>\n",
       "      <td>600.0</td>\n",
       "      <td>607.0</td>\n",
       "      <td>613.0</td>\n",
       "      <td>621.0</td>\n",
       "      <td>628.0</td>\n",
       "      <td>633.0</td>\n",
       "    </tr>\n",
       "    <tr>\n",
       "      <th>4</th>\n",
       "      <td>69</td>\n",
       "      <td>رشيد النافع</td>\n",
       "      <td>291.0</td>\n",
       "      <td>292.0</td>\n",
       "      <td>292.0</td>\n",
       "      <td>294.0</td>\n",
       "      <td>298.0</td>\n",
       "      <td>302.0</td>\n",
       "      <td>307.0</td>\n",
       "      <td>311.0</td>\n",
       "      <td>316.0</td>\n",
       "      <td>322.0</td>\n",
       "      <td>327.0</td>\n",
       "    </tr>\n",
       "    <tr>\n",
       "      <th>...</th>\n",
       "      <td>...</td>\n",
       "      <td>...</td>\n",
       "      <td>...</td>\n",
       "      <td>...</td>\n",
       "      <td>...</td>\n",
       "      <td>...</td>\n",
       "      <td>...</td>\n",
       "      <td>...</td>\n",
       "      <td>...</td>\n",
       "      <td>...</td>\n",
       "      <td>...</td>\n",
       "      <td>...</td>\n",
       "      <td>...</td>\n",
       "    </tr>\n",
       "    <tr>\n",
       "      <th>150</th>\n",
       "      <td>111</td>\n",
       "      <td>محمد الزعاري</td>\n",
       "      <td>NaN</td>\n",
       "      <td>NaN</td>\n",
       "      <td>NaN</td>\n",
       "      <td>NaN</td>\n",
       "      <td>NaN</td>\n",
       "      <td>NaN</td>\n",
       "      <td>NaN</td>\n",
       "      <td>NaN</td>\n",
       "      <td>NaN</td>\n",
       "      <td>NaN</td>\n",
       "      <td>NaN</td>\n",
       "    </tr>\n",
       "    <tr>\n",
       "      <th>151</th>\n",
       "      <td>114</td>\n",
       "      <td>محمد وجيه</td>\n",
       "      <td>81.0</td>\n",
       "      <td>81.0</td>\n",
       "      <td>81.0</td>\n",
       "      <td>81.0</td>\n",
       "      <td>81.0</td>\n",
       "      <td>81.0</td>\n",
       "      <td>81.0</td>\n",
       "      <td>81.0</td>\n",
       "      <td>81.0</td>\n",
       "      <td>81.0</td>\n",
       "      <td>81.0</td>\n",
       "    </tr>\n",
       "    <tr>\n",
       "      <th>152</th>\n",
       "      <td>133</td>\n",
       "      <td>محمد محمد أوساني</td>\n",
       "      <td>NaN</td>\n",
       "      <td>NaN</td>\n",
       "      <td>NaN</td>\n",
       "      <td>NaN</td>\n",
       "      <td>0.0</td>\n",
       "      <td>NaN</td>\n",
       "      <td>NaN</td>\n",
       "      <td>NaN</td>\n",
       "      <td>NaN</td>\n",
       "      <td>NaN</td>\n",
       "      <td>NaN</td>\n",
       "    </tr>\n",
       "    <tr>\n",
       "      <th>153</th>\n",
       "      <td>145</td>\n",
       "      <td>محمد بن احمد نافع</td>\n",
       "      <td>NaN</td>\n",
       "      <td>NaN</td>\n",
       "      <td>NaN</td>\n",
       "      <td>NaN</td>\n",
       "      <td>NaN</td>\n",
       "      <td>NaN</td>\n",
       "      <td>NaN</td>\n",
       "      <td>NaN</td>\n",
       "      <td>NaN</td>\n",
       "      <td>NaN</td>\n",
       "      <td>NaN</td>\n",
       "    </tr>\n",
       "    <tr>\n",
       "      <th>154</th>\n",
       "      <td>146</td>\n",
       "      <td>عبد الحق البرني</td>\n",
       "      <td>203.0</td>\n",
       "      <td>203.0</td>\n",
       "      <td>203.0</td>\n",
       "      <td>203.0</td>\n",
       "      <td>203.0</td>\n",
       "      <td>203.0</td>\n",
       "      <td>203.0</td>\n",
       "      <td>203.0</td>\n",
       "      <td>203.0</td>\n",
       "      <td>203.0</td>\n",
       "      <td>203.0</td>\n",
       "    </tr>\n",
       "  </tbody>\n",
       "</table>\n",
       "<p>155 rows × 13 columns</p>\n",
       "</div>"
      ],
      "text/plain": [
       "     N_contrat                  Nom  Index_initial    Jan    Fev   Mars  \\\n",
       "0            6           حسن البرني          608.0  608.0  608.0  611.0   \n",
       "1           73          سعيد البرني          145.0  145.0  145.0    1.0   \n",
       "2           55  البرني لحسن (مليكة)          318.0  318.0  318.0  319.0   \n",
       "3           30       المصطفى البرني          579.0  580.0  580.0  582.0   \n",
       "4           69          رشيد النافع          291.0  292.0  292.0  294.0   \n",
       "..         ...                  ...            ...    ...    ...    ...   \n",
       "150        111         محمد الزعاري            NaN    NaN    NaN    NaN   \n",
       "151        114            محمد وجيه           81.0   81.0   81.0   81.0   \n",
       "152        133     محمد محمد أوساني            NaN    NaN    NaN    NaN   \n",
       "153        145    محمد بن احمد نافع            NaN    NaN    NaN    NaN   \n",
       "154        146      عبد الحق البرني          203.0  203.0  203.0  203.0   \n",
       "\n",
       "       Avr    Mai   Juin   Juil   Aout    Sep    Oct  \n",
       "0    617.0  628.0  636.0  649.0  660.0  671.0  677.0  \n",
       "1      6.0   11.0   16.0   21.0   28.0   35.0   39.0  \n",
       "2    320.0  323.0  330.0  338.0  344.0  354.0  364.0  \n",
       "3    590.0  600.0  607.0  613.0  621.0  628.0  633.0  \n",
       "4    298.0  302.0  307.0  311.0  316.0  322.0  327.0  \n",
       "..     ...    ...    ...    ...    ...    ...    ...  \n",
       "150    NaN    NaN    NaN    NaN    NaN    NaN    NaN  \n",
       "151   81.0   81.0   81.0   81.0   81.0   81.0   81.0  \n",
       "152    0.0    NaN    NaN    NaN    NaN    NaN    NaN  \n",
       "153    NaN    NaN    NaN    NaN    NaN    NaN    NaN  \n",
       "154  203.0  203.0  203.0  203.0  203.0  203.0  203.0  \n",
       "\n",
       "[155 rows x 13 columns]"
      ]
     },
     "execution_count": 88,
     "metadata": {},
     "output_type": "execute_result"
    }
   ],
   "source": [
    "fichier_excel= \"/Users/mac/Desktop/Gestion-Eau-Association-Nasr/Donnee Brute/MB suivi de compte.xlsx\"\n",
    "#noms_colonnes = [\"N_Contrat\", \"Nom_complet\", \"Index_initial\", \"Index_NV\"]\n",
    "df = pd.read_excel(fichier_excel, sheet_name=\"Sheet6\")\n",
    "df"
   ]
  },
  {
   "cell_type": "code",
   "execution_count": 48,
   "metadata": {},
   "outputs": [
    {
     "data": {
      "text/plain": [
       "N_contrat         0\n",
       "Nom_complet       0\n",
       "Index_initial    10\n",
       "Jan              12\n",
       "Fev               9\n",
       "Mars             12\n",
       "Avr               8\n",
       "Mai               8\n",
       "Juin              8\n",
       "Juil              8\n",
       "Aout              7\n",
       "Sep               7\n",
       "Oct               7\n",
       "dtype: int64"
      ]
     },
     "execution_count": 48,
     "metadata": {},
     "output_type": "execute_result"
    }
   ],
   "source": [
    "df.isna().sum()\n"
   ]
  },
  {
   "cell_type": "code",
   "execution_count": 89,
   "metadata": {},
   "outputs": [
    {
     "data": {
      "text/plain": [
       "N_contrat        0\n",
       "Nom              0\n",
       "Index_initial    0\n",
       "Jan              0\n",
       "Fev              0\n",
       "Mars             0\n",
       "Avr              0\n",
       "Mai              0\n",
       "Juin             0\n",
       "Juil             0\n",
       "Aout             0\n",
       "Sep              0\n",
       "Oct              0\n",
       "dtype: int64"
      ]
     },
     "metadata": {},
     "output_type": "display_data"
    }
   ],
   "source": [
    "df.fillna(0, inplace=True)\n",
    "display(df.isna().sum())"
   ]
  },
  {
   "cell_type": "code",
   "execution_count": null,
   "metadata": {},
   "outputs": [],
   "source": [
    "for i in df['N_contrat']:\n",
    "    display(df[df['N_contrat']==i])"
   ]
  },
  {
   "cell_type": "code",
   "execution_count": 90,
   "metadata": {},
   "outputs": [
    {
     "name": "stdout",
     "output_type": "stream",
     "text": [
      "Données insérées avec succès dans la table Qte_Consommation.\n"
     ]
    }
   ],
   "source": [
    "import pandas as pd\n",
    "import sqlite3\n",
    "\n",
    "# Connexion à la base de données\n",
    "conn = sqlite3.connect('Gestion_eau.db')  # Remplacez par le nom de votre base de données\n",
    "cursor = conn.cursor()\n",
    "\n",
    "# Mois et années correspondants\n",
    "mois = {\n",
    "    \"Dec\": (\"2023-12-01\", \"Index_initial\"),  # Décembre 2023\n",
    "    \"Jan\": (\"2024-01-01\", \"Jan\"),            # Janvier 2024\n",
    "    \"Fev\": (\"2024-02-01\", \"Fev\"),            # Février 2024\n",
    "    \"Mars\": (\"2024-03-01\", \"Mars\"),          # Mars 2024\n",
    "    \"Avr\": (\"2024-04-01\", \"Avr\"),            # Avril 2024\n",
    "    \"Mai\": (\"2024-05-01\", \"Mai\"),            # Mai 2024\n",
    "    \"Juin\": (\"2024-06-01\", \"Juin\"),          # Juin 2024\n",
    "    \"Juil\": (\"2024-07-01\", \"Juil\"),          # Juillet 2024\n",
    "    \"Aout\": (\"2024-08-01\", \"Aout\"),          # Août 2024\n",
    "    \"Sep\": (\"2024-09-01\", \"Sep\"),            # Septembre 2024\n",
    "    \"Oct\": (\"2024-10-01\", \"Oct\")             # Octobre 2024\n",
    "}\n",
    "\n",
    "# Insérer les données dans la table Qte_Consommation\n",
    "for mois_nom, (date, colonne) in mois.items():\n",
    "    for _, row in df.iterrows():\n",
    "        # Calculer l'index précédent\n",
    "        if mois_nom == \"Dec\":\n",
    "            index_precedent = None  # Pas de mois précédent pour Décembre\n",
    "        else:\n",
    "            # Récupérer l'index du mois précédent\n",
    "            mois_precedent = list(mois.keys())[list(mois.keys()).index(mois_nom) - 1]\n",
    "            index_precedent = row[mois[mois_precedent][1]]  # Accéder à la valeur du mois précédent\n",
    "\n",
    "        # Définir la valeur de `perte`\n",
    "        if mois_nom in [\"Dec\", \"Jan\", \"Fev\", \"Mars\", \"Avr\", \"Mai\", \"Juin\"]:\n",
    "            perte = 0.0\n",
    "        else:\n",
    "            perte = 5.0\n",
    "\n",
    "        # Définir la valeur de `gestion`\n",
    "        if mois_nom in [\"Dec\", \"Jan\", \"Fev\"]:\n",
    "            gestion = 0.0\n",
    "        else:\n",
    "            gestion = 10.0\n",
    "\n",
    "        # Insérer les données\n",
    "        cursor.execute('''\n",
    "            INSERT INTO Qte_Consommation (N_Contrat, date_consome, Quantite, gestion, perte, index_precedent)\n",
    "            VALUES (?, ?, ?, ?, ?, ?)\n",
    "        ''', (row[\"N_contrat\"], date, row[colonne], gestion, perte, index_precedent))\n",
    "\n",
    "# Valider les modifications et fermer la connexion\n",
    "conn.commit()\n",
    "conn.close()\n",
    "\n",
    "print(\"Données insérées avec succès dans la table Qte_Consommation.\")"
   ]
  },
  {
   "cell_type": "code",
   "execution_count": null,
   "metadata": {},
   "outputs": [],
   "source": [
    "'''\n",
    "probleme dans les indexs\n",
    "N_Contrat: \n",
    "3mars,73mars,147mars,72juin,127juin,10mars,102Dec\n",
    "102mars,106mars,33mai,11mars,137mars,53Juin\n",
    "'''\n",
    "\n",
    "import sqlite3\n",
    "\n",
    "# Connexion à la base de données (ou création de celle-ci)\n",
    "conn = sqlite3.connect('Gestion_eau.db')\n",
    "cursor = conn.cursor()\n",
    "\n",
    "cursor.execute('''\n",
    "    UPDATE Qte_Consommation\n",
    "    SET Index_precedent = -4\n",
    "    WHERE N_contrat = 73 AND Quantite = 1\n",
    "''')\n",
    "cursor.execute('''\n",
    "    UPDATE Qte_Consommation\n",
    "    SET Index_precedent = -2\n",
    "    WHERE N_contrat = 147 AND Quantite = 1\n",
    "''')\n",
    "cursor.execute('''\n",
    "    UPDATE Qte_Consommation\n",
    "    SET Index_precedent = -7\n",
    "    WHERE N_contrat = 72 AND Quantite = 6\n",
    "''')\n",
    "cursor.execute('''\n",
    "    UPDATE Qte_Consommation\n",
    "    SET Index_precedent = -1\n",
    "    WHERE N_contrat = 127 AND Quantite = 7\n",
    "''')\n",
    "cursor.execute('''\n",
    "    UPDATE Qte_Consommation\n",
    "    SET Index_precedent = 1\n",
    "    WHERE N_contrat = 102 AND Quantite = 1\n",
    "''')\n",
    "cursor.execute('''\n",
    "    UPDATE Qte_Consommation\n",
    "    SET Index_precedent = -6\n",
    "    WHERE N_contrat = 106 AND Quantite = 1\n",
    "''')\n",
    "cursor.execute('''\n",
    "    UPDATE Qte_Consommation\n",
    "    SET Index_precedent = 0\n",
    "    WHERE N_contrat = 33 AND Quantite = 2\n",
    "''')\n",
    "cursor.execute('''\n",
    "    UPDATE Qte_Consommation\n",
    "    SET Index_precedent = 6\n",
    "    WHERE N_contrat = 11 AND Quantite = 7\n",
    "''')\n",
    "cursor.execute('''\n",
    "    UPDATE Qte_Consommation\n",
    "    SET Index_precedent = -8\n",
    "    WHERE N_contrat = 137 AND Quantite = 1\n",
    "''')\n",
    "cursor.execute('''\n",
    "    UPDATE Qte_Consommation\n",
    "    SET Index_precedent = -11\n",
    "    WHERE N_contrat = 10 AND Quantite = 4\n",
    "''')\n",
    "cursor.execute('''\n",
    "    UPDATE Qte_Consommation\n",
    "    SET Index_precedent = 1\n",
    "    WHERE N_contrat = 53 AND Quantite = 12\n",
    "''')\n",
    "cursor.execute('''\n",
    "    UPDATE Qte_Consommation\n",
    "    SET Index_precedent = 286\n",
    "    WHERE N_contrat = 102 AND Date_consome like '2024-01-01'\n",
    "''')\n",
    "cursor.execute('''\n",
    "    UPDATE Qte_Consommation\n",
    "    SET Index_precedent = 308\n",
    "    WHERE N_contrat = 3 AND Date_consome like '2024-03-01'\n",
    "''')\n",
    "\n",
    "# 3. Valider les modifications et fermer la connexion\n",
    "conn.commit()\n",
    "conn.close()"
   ]
  },
  {
   "cell_type": "code",
   "execution_count": 26,
   "metadata": {},
   "outputs": [],
   "source": [
    "import sqlite3\n",
    "\n",
    "# Connexion à la base de données (ou création de celle-ci)\n",
    "conn = sqlite3.connect('Gestion_eau.db')\n",
    "cursor = conn.cursor()\n",
    "\n",
    "cursor.execute('''\n",
    "    UPDATE Qte_Consommation\n",
    "    SET Index_precedent = 308\n",
    "    WHERE N_contrat = 3 AND Date_consome like '2024-03-01'\n",
    "''')\n",
    "\n",
    "# 3. Valider les modifications et fermer la connexion\n",
    "conn.commit()\n",
    "conn.close()"
   ]
  },
  {
   "cell_type": "markdown",
   "metadata": {},
   "source": [
    "## Payement Consommation"
   ]
  },
  {
   "cell_type": "code",
   "execution_count": 16,
   "metadata": {},
   "outputs": [],
   "source": [
    "import pandas as pd\n",
    "fichier_excel= \"/Users/mac/Desktop/Gestion-Eau-Association-Nasr/Donnee Brute/MB suivi de compte.xlsx\"\n",
    "df1 = pd.read_excel(fichier_excel, sheet_name=\"Sheet2\")\n",
    "df2 = pd.read_excel(fichier_excel, sheet_name=\"Sheet7\")"
   ]
  },
  {
   "cell_type": "code",
   "execution_count": 17,
   "metadata": {},
   "outputs": [
    {
     "data": {
      "application/vnd.microsoft.datawrangler.viewer.v0+json": {
       "columns": [
        {
         "name": "index",
         "rawType": "int64",
         "type": "integer"
        },
        {
         "name": "الاسم الكامل",
         "rawType": "object",
         "type": "string"
        },
        {
         "name": "N_contrat",
         "rawType": "object",
         "type": "string"
        },
        {
         "name": "الاسم الكامل.1",
         "rawType": "object",
         "type": "string"
        },
        {
         "name": "MOIS",
         "rawType": "datetime64[ns]",
         "type": "datetime"
        },
        {
         "name": "Crédit",
         "rawType": "object",
         "type": "string"
        },
        {
         "name": "Consom Mensuelle",
         "rawType": "float64",
         "type": "float"
        },
        {
         "name": "Consolidation perte_1",
         "rawType": "float64",
         "type": "float"
        },
        {
         "name": "FG_1",
         "rawType": "float64",
         "type": "float"
        },
        {
         "name": "Total",
         "rawType": "float64",
         "type": "float"
        },
        {
         "name": "Total SANS FG",
         "rawType": "float64",
         "type": "float"
        },
        {
         "name": "Caissier",
         "rawType": "object",
         "type": "string"
        },
        {
         "name": "Date encaissement",
         "rawType": "object",
         "type": "string"
        },
        {
         "name": "Reçu N°",
         "rawType": "object",
         "type": "string"
        },
        {
         "name": "Montants Brut",
         "rawType": "float64",
         "type": "float"
        },
        {
         "name": "Consolidation perte",
         "rawType": "float64",
         "type": "float"
        },
        {
         "name": "FG",
         "rawType": "float64",
         "type": "float"
        },
        {
         "name": "Montants Net",
         "rawType": "float64",
         "type": "float"
        },
        {
         "name": "Total Tecettes",
         "rawType": "float64",
         "type": "float"
        },
        {
         "name": "Soldes",
         "rawType": "float64",
         "type": "float"
        }
       ],
       "conversionMethod": "pd.DataFrame",
       "ref": "aa877674-d395-4cc6-8219-846c62b66a8d",
       "rows": [
        [
         "0",
         "عبد الحق الحمزوي",
         "1",
         "عبد الحق الحمزوي",
         "2023-12-01 00:00:00",
         null,
         null,
         null,
         "0.0",
         "0.0",
         "0.0",
         null,
         null,
         null,
         null,
         null,
         null,
         "0.0",
         "0.0",
         "0.0"
        ],
        [
         "1",
         "عبد الحق الحمزوي",
         "1",
         "عبد الحق الحمزوي",
         "2024-01-01 00:00:00",
         null,
         "189.0",
         null,
         "10.0",
         "199.0",
         "189.0",
         "ZR",
         "2024-04-12 00:00:00",
         "162",
         "416.0",
         null,
         "20.0",
         "396.0",
         "416.0",
         "-217.0"
        ],
        [
         "2",
         "عبد الحق الحمزوي",
         "1",
         "عبد الحق الحمزوي",
         "2024-02-01 00:00:00",
         null,
         "0.0",
         null,
         "0.0",
         "0.0",
         "0.0",
         null,
         null,
         null,
         null,
         null,
         null,
         "0.0",
         "0.0",
         "0.0"
        ],
        [
         "3",
         "عبد الحق الحمزوي",
         "1",
         "عبد الحق الحمزوي",
         "2024-03-01 00:00:00",
         null,
         null,
         null,
         null,
         "0.0",
         "0.0",
         null,
         "2024-05-25 00:00:00",
         "117",
         "94.0",
         null,
         "10.0",
         "84.0",
         "94.0",
         "-94.0"
        ],
        [
         "4",
         "عبد الحق الحمزوي",
         "1",
         "عبد الحق الحمزوي",
         "2024-04-01 00:00:00",
         null,
         "70.0",
         null,
         "10.0",
         "80.0",
         "70.0",
         null,
         "2024-06-20 00:00:00",
         "106",
         "31.0",
         null,
         "10.0",
         "21.0",
         "31.0",
         "49.0"
        ]
       ],
       "shape": {
        "columns": 19,
        "rows": 5
       }
      },
      "text/html": [
       "<div>\n",
       "<style scoped>\n",
       "    .dataframe tbody tr th:only-of-type {\n",
       "        vertical-align: middle;\n",
       "    }\n",
       "\n",
       "    .dataframe tbody tr th {\n",
       "        vertical-align: top;\n",
       "    }\n",
       "\n",
       "    .dataframe thead th {\n",
       "        text-align: right;\n",
       "    }\n",
       "</style>\n",
       "<table border=\"1\" class=\"dataframe\">\n",
       "  <thead>\n",
       "    <tr style=\"text-align: right;\">\n",
       "      <th></th>\n",
       "      <th>الاسم الكامل</th>\n",
       "      <th>N_contrat</th>\n",
       "      <th>الاسم الكامل.1</th>\n",
       "      <th>MOIS</th>\n",
       "      <th>Crédit</th>\n",
       "      <th>Consom Mensuelle</th>\n",
       "      <th>Consolidation perte_1</th>\n",
       "      <th>FG_1</th>\n",
       "      <th>Total</th>\n",
       "      <th>Total SANS FG</th>\n",
       "      <th>Caissier</th>\n",
       "      <th>Date encaissement</th>\n",
       "      <th>Reçu N°</th>\n",
       "      <th>Montants Brut</th>\n",
       "      <th>Consolidation perte</th>\n",
       "      <th>FG</th>\n",
       "      <th>Montants Net</th>\n",
       "      <th>Total Tecettes</th>\n",
       "      <th>Soldes</th>\n",
       "    </tr>\n",
       "  </thead>\n",
       "  <tbody>\n",
       "    <tr>\n",
       "      <th>0</th>\n",
       "      <td>عبد الحق الحمزوي</td>\n",
       "      <td>1</td>\n",
       "      <td>عبد الحق الحمزوي</td>\n",
       "      <td>2023-12-01</td>\n",
       "      <td>NaN</td>\n",
       "      <td>NaN</td>\n",
       "      <td>NaN</td>\n",
       "      <td>0.0</td>\n",
       "      <td>0.0</td>\n",
       "      <td>0.0</td>\n",
       "      <td>NaN</td>\n",
       "      <td>NaN</td>\n",
       "      <td>NaN</td>\n",
       "      <td>NaN</td>\n",
       "      <td>NaN</td>\n",
       "      <td>NaN</td>\n",
       "      <td>0.0</td>\n",
       "      <td>0.0</td>\n",
       "      <td>0.0</td>\n",
       "    </tr>\n",
       "    <tr>\n",
       "      <th>1</th>\n",
       "      <td>عبد الحق الحمزوي</td>\n",
       "      <td>1</td>\n",
       "      <td>عبد الحق الحمزوي</td>\n",
       "      <td>2024-01-01</td>\n",
       "      <td>NaN</td>\n",
       "      <td>189.0</td>\n",
       "      <td>NaN</td>\n",
       "      <td>10.0</td>\n",
       "      <td>199.0</td>\n",
       "      <td>189.0</td>\n",
       "      <td>ZR</td>\n",
       "      <td>2024-04-12 00:00:00</td>\n",
       "      <td>162</td>\n",
       "      <td>416.0</td>\n",
       "      <td>NaN</td>\n",
       "      <td>20.0</td>\n",
       "      <td>396.0</td>\n",
       "      <td>416.0</td>\n",
       "      <td>-217.0</td>\n",
       "    </tr>\n",
       "    <tr>\n",
       "      <th>2</th>\n",
       "      <td>عبد الحق الحمزوي</td>\n",
       "      <td>1</td>\n",
       "      <td>عبد الحق الحمزوي</td>\n",
       "      <td>2024-02-01</td>\n",
       "      <td>NaN</td>\n",
       "      <td>0.0</td>\n",
       "      <td>NaN</td>\n",
       "      <td>0.0</td>\n",
       "      <td>0.0</td>\n",
       "      <td>0.0</td>\n",
       "      <td>NaN</td>\n",
       "      <td>NaN</td>\n",
       "      <td>NaN</td>\n",
       "      <td>NaN</td>\n",
       "      <td>NaN</td>\n",
       "      <td>NaN</td>\n",
       "      <td>0.0</td>\n",
       "      <td>0.0</td>\n",
       "      <td>0.0</td>\n",
       "    </tr>\n",
       "    <tr>\n",
       "      <th>3</th>\n",
       "      <td>عبد الحق الحمزوي</td>\n",
       "      <td>1</td>\n",
       "      <td>عبد الحق الحمزوي</td>\n",
       "      <td>2024-03-01</td>\n",
       "      <td>NaN</td>\n",
       "      <td>NaN</td>\n",
       "      <td>NaN</td>\n",
       "      <td>NaN</td>\n",
       "      <td>0.0</td>\n",
       "      <td>0.0</td>\n",
       "      <td>NaN</td>\n",
       "      <td>2024-05-25 00:00:00</td>\n",
       "      <td>117</td>\n",
       "      <td>94.0</td>\n",
       "      <td>NaN</td>\n",
       "      <td>10.0</td>\n",
       "      <td>84.0</td>\n",
       "      <td>94.0</td>\n",
       "      <td>-94.0</td>\n",
       "    </tr>\n",
       "    <tr>\n",
       "      <th>4</th>\n",
       "      <td>عبد الحق الحمزوي</td>\n",
       "      <td>1</td>\n",
       "      <td>عبد الحق الحمزوي</td>\n",
       "      <td>2024-04-01</td>\n",
       "      <td>NaN</td>\n",
       "      <td>70.0</td>\n",
       "      <td>NaN</td>\n",
       "      <td>10.0</td>\n",
       "      <td>80.0</td>\n",
       "      <td>70.0</td>\n",
       "      <td>NaN</td>\n",
       "      <td>2024-06-20 00:00:00</td>\n",
       "      <td>106</td>\n",
       "      <td>31.0</td>\n",
       "      <td>NaN</td>\n",
       "      <td>10.0</td>\n",
       "      <td>21.0</td>\n",
       "      <td>31.0</td>\n",
       "      <td>49.0</td>\n",
       "    </tr>\n",
       "  </tbody>\n",
       "</table>\n",
       "</div>"
      ],
      "text/plain": [
       "       الاسم الكامل N_contrat    الاسم الكامل.1       MOIS Crédit  \\\n",
       "0  عبد الحق الحمزوي         1  عبد الحق الحمزوي 2023-12-01    NaN   \n",
       "1  عبد الحق الحمزوي         1  عبد الحق الحمزوي 2024-01-01    NaN   \n",
       "2  عبد الحق الحمزوي         1  عبد الحق الحمزوي 2024-02-01    NaN   \n",
       "3  عبد الحق الحمزوي         1  عبد الحق الحمزوي 2024-03-01    NaN   \n",
       "4  عبد الحق الحمزوي         1  عبد الحق الحمزوي 2024-04-01    NaN   \n",
       "\n",
       "   Consom Mensuelle  Consolidation perte_1  FG_1  Total  Total SANS FG  \\\n",
       "0               NaN                    NaN   0.0    0.0            0.0   \n",
       "1             189.0                    NaN  10.0  199.0          189.0   \n",
       "2               0.0                    NaN   0.0    0.0            0.0   \n",
       "3               NaN                    NaN   NaN    0.0            0.0   \n",
       "4              70.0                    NaN  10.0   80.0           70.0   \n",
       "\n",
       "  Caissier    Date encaissement Reçu N°  Montants Brut  Consolidation perte  \\\n",
       "0      NaN                  NaN     NaN            NaN                  NaN   \n",
       "1       ZR  2024-04-12 00:00:00     162          416.0                  NaN   \n",
       "2      NaN                  NaN     NaN            NaN                  NaN   \n",
       "3      NaN  2024-05-25 00:00:00     117           94.0                  NaN   \n",
       "4      NaN  2024-06-20 00:00:00     106           31.0                  NaN   \n",
       "\n",
       "     FG  Montants Net  Total Tecettes  Soldes  \n",
       "0   NaN           0.0             0.0     0.0  \n",
       "1  20.0         396.0           416.0  -217.0  \n",
       "2   NaN           0.0             0.0     0.0  \n",
       "3  10.0          84.0            94.0   -94.0  \n",
       "4  10.0          21.0            31.0    49.0  "
      ]
     },
     "execution_count": 17,
     "metadata": {},
     "output_type": "execute_result"
    }
   ],
   "source": [
    "# Afficher les premières lignes\n",
    "df1.head()"
   ]
  },
  {
   "cell_type": "code",
   "execution_count": 18,
   "metadata": {},
   "outputs": [
    {
     "name": "stdout",
     "output_type": "stream",
     "text": [
      "Index(['الاسم الكامل', 'N_contrat', 'الاسم الكامل.1', 'MOIS', 'Crédit',\n",
      "       'Consom Mensuelle', 'Consolidation perte_1', 'FG_1', 'Total',\n",
      "       'Total SANS FG', 'Caissier', 'Date encaissement', 'Reçu N°',\n",
      "       'Montants Brut', 'Consolidation perte', 'FG', 'Montants Net',\n",
      "       'Total Tecettes', 'Soldes'],\n",
      "      dtype='object')\n",
      "Index(['الاسم الكامل', 'N_contrat', 'MOIS', 'Crédit', 'Total',\n",
      "       'Date encaissement', 'Reçu N°', 'Montants Brut', 'Consolidation perte',\n",
      "       'FG', 'Montants Net', 'Total Tecettes', 'Soldes'],\n",
      "      dtype='object')\n"
     ]
    }
   ],
   "source": [
    "print(df1.columns)\n",
    "df1 = df1.drop(columns=['Consom Mensuelle', 'Consolidation perte_1', 'FG_1', 'Total SANS FG', 'Caissier','الاسم الكامل.1'])\n",
    "print(df1.columns)"
   ]
  },
  {
   "cell_type": "code",
   "execution_count": 19,
   "metadata": {},
   "outputs": [
    {
     "name": "stdout",
     "output_type": "stream",
     "text": [
      "['U', 'T', 'O', 'O', 'Z', 'E', 'I', 'O', 'M', 'A', 'O', 'Z', 'M', 'O', 'U', 'M', 'M', 'M', 'U', 'U', 'M', 'U', 'O', 'I', 'O', 'E', 'P', 'M', 'U', 'I', 'O', 'O', 'E', 'U', 'U', 'U', 'M', 'M', 'M', 'O', 'B', 'T', 'U', 'U', 'M', 'R', 'O', 'A', 'U', 'U', 'I', 'I', 'P', 'E', 'E', 'O', 'Z', 'Z', 'Z', 'O', 'M', 'E', 'P']\n",
      "[]\n"
     ]
    }
   ],
   "source": [
    "a=[]\n",
    "for i in df1['Date encaissement'].astype(str):\n",
    "    if (len(i) < 4) & (i != 'nan'):\n",
    "        a.append(i)\n",
    "\n",
    "print(a)     \n",
    "\n",
    "# solution\n",
    "df1['Date encaissement'] = df1['Date encaissement'].apply(lambda x: None if str(x) in a else x)\n",
    "\n",
    "b=[]\n",
    "for i in df1['Date encaissement'].astype(str):\n",
    "    if (len(i) < 4) & (i != 'nan'):\n",
    "        b.append(i)\n",
    "\n",
    "print(b) "
   ]
  },
  {
   "cell_type": "code",
   "execution_count": 20,
   "metadata": {},
   "outputs": [
    {
     "name": "stdout",
     "output_type": "stream",
     "text": [
      "<class 'pandas.core.frame.DataFrame'>\n",
      "RangeIndex: 2461 entries, 0 to 2460\n",
      "Data columns (total 13 columns):\n",
      " #   Column               Non-Null Count  Dtype  \n",
      "---  ------               --------------  -----  \n",
      " 0   الاسم الكامل         2236 non-null   object \n",
      " 1   N_contrat            2461 non-null   object \n",
      " 2   MOIS                 2275 non-null   object \n",
      " 3   Crédit               308 non-null    object \n",
      " 4   Total                2454 non-null   float64\n",
      " 5   Date encaissement    821 non-null    object \n",
      " 6   Reçu N°              2461 non-null   object \n",
      " 7   Montants Brut        1321 non-null   float64\n",
      " 8   Consolidation perte  558 non-null    float64\n",
      " 9   FG                   1144 non-null   float64\n",
      " 10  Montants Net         2456 non-null   float64\n",
      " 11  Total Tecettes       2456 non-null   float64\n",
      " 12  Soldes               2456 non-null   float64\n",
      "dtypes: float64(7), object(6)\n",
      "memory usage: 250.1+ KB\n"
     ]
    }
   ],
   "source": [
    "# reformuler df2\n",
    "df1['N_contrat'] = df1['N_contrat'].astype(str)\n",
    "\n",
    "df1['Reçu N°'] = df1['Reçu N°'].astype(str)\n",
    "\n",
    "mask1 = pd.to_datetime(df1['Date encaissement'], errors='coerce').notna()\n",
    "#df1['Date encaissement'] = df1.loc[mask1, 'Date encaissement']\n",
    "df1['Date encaissement'] = pd.to_datetime(df1['Date encaissement'], errors='coerce').dt.date \n",
    "\n",
    "mask2 = pd.to_datetime(df1['MOIS'], errors='coerce').notna()\n",
    "#df1['MOIS'] = df1.loc[mask2, 'MOIS']\n",
    "df1['MOIS'] = pd.to_datetime(df1['MOIS'], errors='coerce').dt.date  # Gestion des erreurs\n",
    "\n",
    "df1.info()"
   ]
  },
  {
   "cell_type": "code",
   "execution_count": 21,
   "metadata": {},
   "outputs": [
    {
     "data": {
      "text/plain": [
       "Index(['الاسم الكامل', 'N_contrat', 'Mois_consome', 'Crédit', 'Total',\n",
       "       'Date_payement', 'N_recue', 'Montants Brut', 'perte', 'gestion',\n",
       "       'Montants Net', 'Mnt_paye', 'Soldes'],\n",
       "      dtype='object')"
      ]
     },
     "execution_count": 21,
     "metadata": {},
     "output_type": "execute_result"
    }
   ],
   "source": [
    "# Renomer les colonne\n",
    "df1 = df1.rename(columns={\"N_Contrat\": \"N_contrat\", \"Total Tecettes\": \"Mnt_paye\", \"Date_paye\": \"Date_paye\", \n",
    "                          \"Date encaissement\": \"Date_payement\", 'Reçu N°': 'N_recue', 'MOIS': 'Mois_consome',\n",
    "                          \"FG\": \"gestion\", \"Consolidation perte\": \"perte\"})\n",
    "df1.columns"
   ]
  },
  {
   "cell_type": "code",
   "execution_count": 23,
   "metadata": {},
   "outputs": [
    {
     "name": "stdout",
     "output_type": "stream",
     "text": [
      "<class 'pandas.core.frame.DataFrame'>\n",
      "Int64Index: 2276 entries, 33 to 2459\n",
      "Data columns (total 13 columns):\n",
      " #   Column         Non-Null Count  Dtype  \n",
      "---  ------         --------------  -----  \n",
      " 0   الاسم الكامل   2053 non-null   object \n",
      " 1   N_contrat      2276 non-null   object \n",
      " 2   Mois_consome   2244 non-null   object \n",
      " 3   Crédit         2276 non-null   object \n",
      " 4   Total          2269 non-null   float64\n",
      " 5   Date_payement  2247 non-null   object \n",
      " 6   N_recue        2276 non-null   object \n",
      " 7   Montants Brut  1150 non-null   float64\n",
      " 8   perte          2276 non-null   float64\n",
      " 9   gestion        2276 non-null   float64\n",
      " 10  Montants Net   2271 non-null   float64\n",
      " 11  Mnt_paye       2271 non-null   float64\n",
      " 12  Soldes         2271 non-null   float64\n",
      "dtypes: float64(7), object(6)\n",
      "memory usage: 248.9+ KB\n"
     ]
    }
   ],
   "source": [
    "# gerer les valeur null\n",
    "df1['N_contrat'] = df1['N_contrat'].astype(str)\n",
    "df1['N_recue'] = df1['N_recue'].astype(str)\n",
    "df1['gestion'] = df1['gestion'].fillna(0)\n",
    "df1['perte'] = df1['perte'].fillna(0)\n",
    "df1['Crédit'] = df1['Crédit'].fillna(0)\n",
    "\n",
    "# supprimer les ligne de 001 pour les verifier apres\n",
    "df1 = df1.iloc[16:,:]\n",
    "\n",
    "#Supprimer les ligne ou il ya total\n",
    "df1 = df1[~df1['N_contrat'].str.startswith('Total')]\n",
    "\n",
    "from datetime import datetime, timedelta\n",
    "# Fonction pour obtenir le dernier jour du mois\n",
    "def dernier_jour_du_mois(date):\n",
    "    if pd.isna(date):\n",
    "        return None\n",
    "    # Premier jour du mois suivant\n",
    "    premier_jour_mois_suivant = (date.replace(day=1) + timedelta(days=32)).replace(day=1)\n",
    "    # Dernier jour du mois actuel\n",
    "    dernier_jour = premier_jour_mois_suivant - timedelta(days=1)\n",
    "    return dernier_jour\n",
    "\n",
    "# Appliquer la logique\n",
    "df1['Date_payement'] = df1.apply(\n",
    "    lambda row: row['Date_payement'] if pd.notna(row['Date_payement']) \n",
    "    else dernier_jour_du_mois(row['Mois_consome']), \n",
    "    axis=1\n",
    ")\n",
    "\n",
    "df1['Date_payement'] = pd.to_datetime(df1['Date_payement']).dt.date\n",
    "df1['Mois_consome'] = pd.to_datetime(df1['Mois_consome']).dt.date\n",
    "# Ne conserver que la date (sans heure, minute, seconde)\n",
    "\n",
    "#mask1 = pd.to_datetime(df1['Date encaissement'], errors='coerce').notna()\n",
    "#df1['Date encaissement'] = df1.loc[mask1, 'Date encaissement']\n",
    "#df1['Date encaissement'] = pd.to_datetime(df1['Date encaissement'], errors='coerce').dt.date \n",
    "\n",
    "#mask2 = pd.to_datetime(df1['MOIS'], errors='coerce').notna()\n",
    "#df1['MOIS'] = df1.loc[mask2, 'MOIS']\n",
    "#df1['MOIS'] = pd.to_datetime(df1['MOIS'], errors='coerce').dt.date  # Gestion des erreurs\n",
    "\n",
    "df1.info()"
   ]
  },
  {
   "cell_type": "code",
   "execution_count": 24,
   "metadata": {},
   "outputs": [],
   "source": [
    "# Remplacer les NaN dans les colonnes numériques\n",
    "numeric_columns = ['Total', 'Montants Brut', 'perte', 'gestion', 'Montants Net', 'Mnt_paye', 'Soldes']\n",
    "#df1[numeric_columns] = df1[numeric_columns].fillna(0)\n",
    "\n",
    "# Remplacer les NaN dans les colonnes de texte\n",
    "text_columns = ['الاسم الكامل', 'N_contrat', 'Crédit', 'N_recue']\n",
    "#df1[text_columns] = df1[text_columns].fillna('')\n",
    "\n",
    "df1['Mois_consome'] = pd.to_datetime(df1['Mois_consome'], errors='coerce')\n",
    "df1['Mois_consome'] = pd.to_datetime(df1['Mois_consome']).dt.date\n",
    "df1['Date_payement'] = pd.to_datetime(df1['Date_payement'], errors='coerce')\n",
    "df1['Date_payement'] = pd.to_datetime(df1['Date_payement']).dt.date\n",
    "\n",
    "#df1['N_contrat'] = pd.to_numeric(df1['N_contrat'], errors='coerce').fillna(0).astype(str)\n",
    "#df1['Crédit'] = pd.to_numeric(df1['Crédit'], errors='coerce').fillna(0).astype(int)\n",
    "#df1['N_recue'] = pd.to_numeric(df1['N_recue'], errors='coerce').fillna(0).astype(str)\n"
   ]
  },
  {
   "cell_type": "code",
   "execution_count": 25,
   "metadata": {},
   "outputs": [
    {
     "name": "stdout",
     "output_type": "stream",
     "text": [
      "Lignes avec des dates problématiques :\n",
      "Empty DataFrame\n",
      "Columns: [الاسم الكامل, N_contrat, Mois_consome, Crédit, Total, Date_payement, N_recue, Montants Brut, perte, gestion, Montants Net, Mnt_paye, Soldes]\n",
      "Index: []\n",
      "\n",
      "Lignes avec des valeurs numériques problématiques :\n",
      "Empty DataFrame\n",
      "Columns: [الاسم الكامل, N_contrat, Mois_consome, Crédit, Total, Date_payement, N_recue, Montants Brut, perte, gestion, Montants Net, Mnt_paye, Soldes]\n",
      "Index: []\n"
     ]
    }
   ],
   "source": [
    "# supprimer les date null et les ligne avec tous les colonne null\n",
    "df1 = df1.dropna(subset=['Mois_consome'])\n",
    "df1 = df1.dropna(how='all')\n",
    "\n",
    "problematic_dates = df1[df1['Mois_consome'].isna() | df1['Date_payement'].isna()]\n",
    "problematic_numeric = df1[df1['N_contrat'].isna() | df1['Crédit'].isna() | df1['N_recue'].isna()]\n",
    "\n",
    "print(\"Lignes avec des dates problématiques :\")\n",
    "print(problematic_dates)\n",
    "\n",
    "print(\"\\nLignes avec des valeurs numériques problématiques :\")\n",
    "print(problematic_numeric)"
   ]
  },
  {
   "cell_type": "code",
   "execution_count": 27,
   "metadata": {},
   "outputs": [
    {
     "data": {
      "text/plain": [
       "الاسم الكامل      216\n",
       "N_contrat           0\n",
       "Mois_consome        0\n",
       "Crédit              0\n",
       "Total               0\n",
       "Date_payement       0\n",
       "N_recue             0\n",
       "Montants Brut    1098\n",
       "perte               0\n",
       "gestion             0\n",
       "Montants Net        0\n",
       "Mnt_paye            0\n",
       "Soldes              0\n",
       "dtype: int64"
      ]
     },
     "metadata": {},
     "output_type": "display_data"
    },
    {
     "name": "stdout",
     "output_type": "stream",
     "text": [
      "<class 'pandas.core.frame.DataFrame'>\n",
      "Int64Index: 2244 entries, 33 to 2459\n",
      "Data columns (total 13 columns):\n",
      " #   Column         Non-Null Count  Dtype  \n",
      "---  ------         --------------  -----  \n",
      " 0   الاسم الكامل   2028 non-null   object \n",
      " 1   N_contrat      2244 non-null   object \n",
      " 2   Mois_consome   2244 non-null   object \n",
      " 3   Crédit         2244 non-null   object \n",
      " 4   Total          2244 non-null   float64\n",
      " 5   Date_payement  2244 non-null   object \n",
      " 6   N_recue        2244 non-null   object \n",
      " 7   Montants Brut  1146 non-null   float64\n",
      " 8   perte          2244 non-null   float64\n",
      " 9   gestion        2244 non-null   float64\n",
      " 10  Montants Net   2244 non-null   float64\n",
      " 11  Mnt_paye       2244 non-null   float64\n",
      " 12  Soldes         2244 non-null   float64\n",
      "dtypes: float64(7), object(6)\n",
      "memory usage: 245.4+ KB\n"
     ]
    },
    {
     "data": {
      "text/plain": [
       "None"
      ]
     },
     "metadata": {},
     "output_type": "display_data"
    }
   ],
   "source": [
    "display(df1.isna().sum())\n",
    "display(df1.info())"
   ]
  },
  {
   "cell_type": "code",
   "execution_count": 28,
   "metadata": {},
   "outputs": [],
   "source": [
    "import sqlite3\n",
    "conn = sqlite3.connect('Gestion_eau.db')\n",
    "cursor = conn.cursor()\n",
    "from datetime import datetime\n",
    "\n",
    "for index, row in df1.iterrows():\n",
    "    try:\n",
    "        cursor.execute(\"\"\"\n",
    "            INSERT INTO Pay_Consommation (N_contrat, N_recue, Mnt_paye, Date_paye, Date_payement, Gestion, Perte)\n",
    "            VALUES (?, ?, ?, ?, ?, ?, ?)\n",
    "        \"\"\", (row['N_contrat'], row['N_recue'], row['Mnt_paye'], row['Mois_consome'], row['Date_payement'], row['gestion'], row['perte']))\n",
    "    except Exception as e:\n",
    "        print(f\"Erreur lors de l'insertion de la ligne {index}: {e}\")\n",
    "        conn.rollback() \n",
    "        break \n",
    "\n",
    "conn.commit() \n",
    "conn.close() "
   ]
  },
  {
   "cell_type": "code",
   "execution_count": 29,
   "metadata": {},
   "outputs": [
    {
     "data": {
      "text/plain": [
       "الاسم الكامل     أحمد لعناني\n",
       "N_contrat                  4\n",
       "Mois_consome      2024-02-01\n",
       "Crédit                     0\n",
       "Total                    0.0\n",
       "Date_payement     2024-02-29\n",
       "N_recue                  nan\n",
       "Montants Brut            NaN\n",
       "perte                    0.0\n",
       "gestion                  0.0\n",
       "Montants Net             0.0\n",
       "Mnt_paye                 0.0\n",
       "Soldes                   0.0\n",
       "Name: 50, dtype: object"
      ]
     },
     "execution_count": 29,
     "metadata": {},
     "output_type": "execute_result"
    }
   ],
   "source": [
    "df1.iloc[16]"
   ]
  },
  {
   "cell_type": "code",
   "execution_count": 171,
   "metadata": {},
   "outputs": [
    {
     "name": "stdout",
     "output_type": "stream",
     "text": [
      "<class 'pandas.core.frame.DataFrame'>\n",
      "Int64Index: 2292 entries, 16 to 2459\n",
      "Data columns (total 13 columns):\n",
      " #   Column         Non-Null Count  Dtype  \n",
      "---  ------         --------------  -----  \n",
      " 0   الاسم الكامل   2067 non-null   object \n",
      " 1   N_contrat      2292 non-null   object \n",
      " 2   Mois_consome   2260 non-null   object \n",
      " 3   Crédit         2292 non-null   object \n",
      " 4   Total          2285 non-null   float64\n",
      " 5   Date_payement  2263 non-null   object \n",
      " 6   N_recue        2292 non-null   object \n",
      " 7   Montants Brut  1159 non-null   float64\n",
      " 8   perte          2292 non-null   float64\n",
      " 9   gestion        2292 non-null   float64\n",
      " 10  Montants Net   2287 non-null   float64\n",
      " 11  Mnt_paye       2287 non-null   float64\n",
      " 12  Soldes         2287 non-null   float64\n",
      "dtypes: float64(7), object(6)\n",
      "memory usage: 250.7+ KB\n"
     ]
    }
   ],
   "source": [
    "df1.info()"
   ]
  },
  {
   "cell_type": "code",
   "execution_count": null,
   "metadata": {},
   "outputs": [],
   "source": []
  },
  {
   "cell_type": "code",
   "execution_count": 107,
   "metadata": {},
   "outputs": [
    {
     "ename": "KeyError",
     "evalue": "'MOIS'",
     "output_type": "error",
     "traceback": [
      "\u001b[0;31m---------------------------------------------------------------------------\u001b[0m",
      "\u001b[0;31mKeyError\u001b[0m                                  Traceback (most recent call last)",
      "File \u001b[0;32m~/anaconda3/envs/Master_DS_1/lib/python3.8/site-packages/pandas/core/indexes/base.py:3361\u001b[0m, in \u001b[0;36mIndex.get_loc\u001b[0;34m(self, key, method, tolerance)\u001b[0m\n\u001b[1;32m   3360\u001b[0m \u001b[38;5;28;01mtry\u001b[39;00m:\n\u001b[0;32m-> 3361\u001b[0m     \u001b[38;5;28;01mreturn\u001b[39;00m \u001b[38;5;28;43mself\u001b[39;49m\u001b[38;5;241;43m.\u001b[39;49m\u001b[43m_engine\u001b[49m\u001b[38;5;241;43m.\u001b[39;49m\u001b[43mget_loc\u001b[49m\u001b[43m(\u001b[49m\u001b[43mcasted_key\u001b[49m\u001b[43m)\u001b[49m\n\u001b[1;32m   3362\u001b[0m \u001b[38;5;28;01mexcept\u001b[39;00m \u001b[38;5;167;01mKeyError\u001b[39;00m \u001b[38;5;28;01mas\u001b[39;00m err:\n",
      "File \u001b[0;32m~/anaconda3/envs/Master_DS_1/lib/python3.8/site-packages/pandas/_libs/index.pyx:76\u001b[0m, in \u001b[0;36mpandas._libs.index.IndexEngine.get_loc\u001b[0;34m()\u001b[0m\n",
      "File \u001b[0;32m~/anaconda3/envs/Master_DS_1/lib/python3.8/site-packages/pandas/_libs/index.pyx:108\u001b[0m, in \u001b[0;36mpandas._libs.index.IndexEngine.get_loc\u001b[0;34m()\u001b[0m\n",
      "File \u001b[0;32mpandas/_libs/hashtable_class_helper.pxi:5198\u001b[0m, in \u001b[0;36mpandas._libs.hashtable.PyObjectHashTable.get_item\u001b[0;34m()\u001b[0m\n",
      "File \u001b[0;32mpandas/_libs/hashtable_class_helper.pxi:5206\u001b[0m, in \u001b[0;36mpandas._libs.hashtable.PyObjectHashTable.get_item\u001b[0;34m()\u001b[0m\n",
      "\u001b[0;31mKeyError\u001b[0m: 'MOIS'",
      "\nThe above exception was the direct cause of the following exception:\n",
      "\u001b[0;31mKeyError\u001b[0m                                  Traceback (most recent call last)",
      "Cell \u001b[0;32mIn[107], line 6\u001b[0m\n\u001b[1;32m      1\u001b[0m \u001b[38;5;28;01mimport\u001b[39;00m \u001b[38;5;21;01mpandas\u001b[39;00m \u001b[38;5;28;01mas\u001b[39;00m \u001b[38;5;21;01mpd\u001b[39;00m\n\u001b[1;32m      3\u001b[0m \u001b[38;5;66;03m# Supposons que df1 et df2 sont déjà chargés en tant que DataFrames\u001b[39;00m\n\u001b[1;32m      4\u001b[0m \n\u001b[1;32m      5\u001b[0m \u001b[38;5;66;03m# Convertir la colonne MOIS en datetime pour faciliter la comparaison\u001b[39;00m\n\u001b[0;32m----> 6\u001b[0m df1[\u001b[38;5;124m'\u001b[39m\u001b[38;5;124mMOIS\u001b[39m\u001b[38;5;124m'\u001b[39m] \u001b[38;5;241m=\u001b[39m pd\u001b[38;5;241m.\u001b[39mto_datetime(\u001b[43mdf1\u001b[49m\u001b[43m[\u001b[49m\u001b[38;5;124;43m'\u001b[39;49m\u001b[38;5;124;43mMOIS\u001b[39;49m\u001b[38;5;124;43m'\u001b[39;49m\u001b[43m]\u001b[49m)\n\u001b[1;32m      8\u001b[0m \u001b[38;5;66;03m# Créer un dictionnaire pour mapper les mois aux colonnes correspondantes dans df2\u001b[39;00m\n\u001b[1;32m      9\u001b[0m mois_mapping \u001b[38;5;241m=\u001b[39m {\n\u001b[1;32m     10\u001b[0m     \u001b[38;5;124m'\u001b[39m\u001b[38;5;124m03\u001b[39m\u001b[38;5;124m'\u001b[39m: (\u001b[38;5;124m'\u001b[39m\u001b[38;5;124mN_recue_mars\u001b[39m\u001b[38;5;124m'\u001b[39m, \u001b[38;5;124m'\u001b[39m\u001b[38;5;124mDate_mars\u001b[39m\u001b[38;5;124m'\u001b[39m),\n\u001b[1;32m     11\u001b[0m     \u001b[38;5;124m'\u001b[39m\u001b[38;5;124m04\u001b[39m\u001b[38;5;124m'\u001b[39m: (\u001b[38;5;124m'\u001b[39m\u001b[38;5;124mN_recue_avril\u001b[39m\u001b[38;5;124m'\u001b[39m, \u001b[38;5;124m'\u001b[39m\u001b[38;5;124mDate_avril\u001b[39m\u001b[38;5;124m'\u001b[39m),\n\u001b[1;32m     12\u001b[0m     \u001b[38;5;124m'\u001b[39m\u001b[38;5;124m05\u001b[39m\u001b[38;5;124m'\u001b[39m: (\u001b[38;5;124m'\u001b[39m\u001b[38;5;124mN_recue_mai\u001b[39m\u001b[38;5;124m'\u001b[39m, \u001b[38;5;124m'\u001b[39m\u001b[38;5;124mDate_mai\u001b[39m\u001b[38;5;124m'\u001b[39m),\n\u001b[1;32m     13\u001b[0m     \u001b[38;5;124m'\u001b[39m\u001b[38;5;124m06\u001b[39m\u001b[38;5;124m'\u001b[39m: (\u001b[38;5;124m'\u001b[39m\u001b[38;5;124mN_recue_juin\u001b[39m\u001b[38;5;124m'\u001b[39m, \u001b[38;5;124m'\u001b[39m\u001b[38;5;124mDate_juin\u001b[39m\u001b[38;5;124m'\u001b[39m)\n\u001b[1;32m     14\u001b[0m }\n",
      "File \u001b[0;32m~/anaconda3/envs/Master_DS_1/lib/python3.8/site-packages/pandas/core/frame.py:3458\u001b[0m, in \u001b[0;36mDataFrame.__getitem__\u001b[0;34m(self, key)\u001b[0m\n\u001b[1;32m   3456\u001b[0m \u001b[38;5;28;01mif\u001b[39;00m \u001b[38;5;28mself\u001b[39m\u001b[38;5;241m.\u001b[39mcolumns\u001b[38;5;241m.\u001b[39mnlevels \u001b[38;5;241m>\u001b[39m \u001b[38;5;241m1\u001b[39m:\n\u001b[1;32m   3457\u001b[0m     \u001b[38;5;28;01mreturn\u001b[39;00m \u001b[38;5;28mself\u001b[39m\u001b[38;5;241m.\u001b[39m_getitem_multilevel(key)\n\u001b[0;32m-> 3458\u001b[0m indexer \u001b[38;5;241m=\u001b[39m \u001b[38;5;28;43mself\u001b[39;49m\u001b[38;5;241;43m.\u001b[39;49m\u001b[43mcolumns\u001b[49m\u001b[38;5;241;43m.\u001b[39;49m\u001b[43mget_loc\u001b[49m\u001b[43m(\u001b[49m\u001b[43mkey\u001b[49m\u001b[43m)\u001b[49m\n\u001b[1;32m   3459\u001b[0m \u001b[38;5;28;01mif\u001b[39;00m is_integer(indexer):\n\u001b[1;32m   3460\u001b[0m     indexer \u001b[38;5;241m=\u001b[39m [indexer]\n",
      "File \u001b[0;32m~/anaconda3/envs/Master_DS_1/lib/python3.8/site-packages/pandas/core/indexes/base.py:3363\u001b[0m, in \u001b[0;36mIndex.get_loc\u001b[0;34m(self, key, method, tolerance)\u001b[0m\n\u001b[1;32m   3361\u001b[0m         \u001b[38;5;28;01mreturn\u001b[39;00m \u001b[38;5;28mself\u001b[39m\u001b[38;5;241m.\u001b[39m_engine\u001b[38;5;241m.\u001b[39mget_loc(casted_key)\n\u001b[1;32m   3362\u001b[0m     \u001b[38;5;28;01mexcept\u001b[39;00m \u001b[38;5;167;01mKeyError\u001b[39;00m \u001b[38;5;28;01mas\u001b[39;00m err:\n\u001b[0;32m-> 3363\u001b[0m         \u001b[38;5;28;01mraise\u001b[39;00m \u001b[38;5;167;01mKeyError\u001b[39;00m(key) \u001b[38;5;28;01mfrom\u001b[39;00m \u001b[38;5;21;01merr\u001b[39;00m\n\u001b[1;32m   3365\u001b[0m \u001b[38;5;28;01mif\u001b[39;00m is_scalar(key) \u001b[38;5;129;01mand\u001b[39;00m isna(key) \u001b[38;5;129;01mand\u001b[39;00m \u001b[38;5;129;01mnot\u001b[39;00m \u001b[38;5;28mself\u001b[39m\u001b[38;5;241m.\u001b[39mhasnans:\n\u001b[1;32m   3366\u001b[0m     \u001b[38;5;28;01mraise\u001b[39;00m \u001b[38;5;167;01mKeyError\u001b[39;00m(key)\n",
      "\u001b[0;31mKeyError\u001b[0m: 'MOIS'"
     ]
    }
   ],
   "source": [
    "import pandas as pd\n",
    "\n",
    "# Supposons que df1 et df2 sont déjà chargés en tant que DataFrames\n",
    "\n",
    "# Convertir la colonne MOIS en datetime pour faciliter la comparaison\n",
    "df1['MOIS'] = pd.to_datetime(df1['MOIS'])\n",
    "\n",
    "# Créer un dictionnaire pour mapper les mois aux colonnes correspondantes dans df2\n",
    "mois_mapping = {\n",
    "    '03': ('N_recue_mars', 'Date_mars'),\n",
    "    '04': ('N_recue_avril', 'Date_avril'),\n",
    "    '05': ('N_recue_mai', 'Date_mai'),\n",
    "    '06': ('N_recue_juin', 'Date_juin')\n",
    "}\n",
    "\n",
    "# Parcourir df2 pour remplir les colonnes N_recue et Date\n",
    "for index, row in df2.iterrows():\n",
    "    n_contrat = row['N_contrat']\n",
    "    \n",
    "    for mois, (col_recue, col_date) in mois_mapping.items():\n",
    "        # Trouver la ligne correspondante dans df1\n",
    "        mois_date = pd.to_datetime(f'2024-{mois}-01')\n",
    "        df1_row = df1[(df1['N_contrat'] == n_contrat) & (df1['MOIS'] == mois_date)]\n",
    "        \n",
    "        if not df1_row.empty:\n",
    "            df2.at[index, col_recue] = df1_row['Reçu N°'].values[0]\n",
    "            df2.at[index, col_date] = df1_row['Date encaissement'].values[0]\n",
    "\n",
    "# Afficher le df2 mis à jour\n",
    "df2"
   ]
  },
  {
   "cell_type": "code",
   "execution_count": 142,
   "metadata": {},
   "outputs": [
    {
     "data": {
      "text/plain": [
       "Index(['N_contrat', 'Nom', ' cons_mars', 'N_recue_mars', 'Date_mars',\n",
       "       'redev_mars', ' cons_avril', 'N_recue_avril', 'Date_avril',\n",
       "       'redev_avril', ' cons_mai', 'N_recue_mai', 'Date_mai', 'redev_mai',\n",
       "       ' cons_juin', 'N_recue_juin', 'Date_juin', 'redev_juin'],\n",
       "      dtype='object')"
      ]
     },
     "execution_count": 142,
     "metadata": {},
     "output_type": "execute_result"
    }
   ],
   "source": [
    "df2.columns"
   ]
  },
  {
   "cell_type": "code",
   "execution_count": 146,
   "metadata": {},
   "outputs": [
    {
     "name": "stdout",
     "output_type": "stream",
     "text": [
      "La table Pay_consommation a été remplie avec succès.\n"
     ]
    }
   ],
   "source": [
    "import pandas as pd\n",
    "import sqlite3\n",
    "\n",
    "# Connexion à la base de données SQLite\n",
    "conn = sqlite3.connect('Gestion_eau.db')\n",
    "cursor = conn.cursor()\n",
    "\n",
    "# Dictionnaire pour mapper les mois aux colonnes correspondantes dans df2\n",
    "mois_mapping = {\n",
    "    'mars': (' cons_mars', 'N_recue_mars', 'Date_mars'),\n",
    "    'avril': (' cons_avril', 'N_recue_avril', 'Date_avril'),\n",
    "    'mai': (' cons_mai', 'N_recue_mai', 'Date_mai'),\n",
    "    'juin': (' cons_juin', 'N_recue_juin', 'Date_juin')\n",
    "}\n",
    "\n",
    "# Parcourir df2 pour remplir la table Pay_consommation\n",
    "for index, row in df2.iterrows():\n",
    "    n_contrat = row['N_contrat']\n",
    "    \n",
    "    for mois, (col_cons, col_recue, col_date) in mois_mapping.items():\n",
    "        # Récupérer les valeurs de df2\n",
    "        mnt_paye = row[col_cons]\n",
    "        n_recue = row[col_recue]\n",
    "        date_payement = row[col_date]\n",
    "        \n",
    "        # Nettoyer et valider les données\n",
    "        try:\n",
    "            mnt_paye = float(str(mnt_paye).replace(',', '').strip()) if pd.notna(mnt_paye) else None\n",
    "            date_paye = f\"2024-{list(mois_mapping.keys()).index(mois)+3:02d}-01\"  # Format de la date du mois\n",
    "            date_payement = str(date_payement) if pd.notna(date_payement) else None\n",
    "            n_recue = str(n_recue) if pd.notna(n_recue) else None\n",
    "        except ValueError:\n",
    "            continue  # Si une conversion échoue, on ignore cette ligne\n",
    "        \n",
    "        # Vérifier que toutes les valeurs nécessaires sont présentes\n",
    "        if mnt_paye is not None and n_recue and date_payement:\n",
    "            # Insérer les données dans la table Pay_consommation\n",
    "            cursor.execute('''\n",
    "            INSERT INTO Pay_consommation (N_contrat, N_recue, Mnt_paye, Date_paye, Date_payement, Gestion, Perte)\n",
    "            VALUES (?, ?, ?, ?, ?, ?, ?)\n",
    "            ''', (n_contrat, n_recue, mnt_paye, date_paye, date_payement, 10, 0))\n",
    "\n",
    "# Valider les changements et fermer la connexion\n",
    "conn.commit()\n",
    "conn.close()\n",
    "\n",
    "print(\"La table Pay_consommation a été remplie avec succès.\")\n"
   ]
  },
  {
   "cell_type": "code",
   "execution_count": 149,
   "metadata": {},
   "outputs": [
    {
     "name": "stdout",
     "output_type": "stream",
     "text": [
      "La table Pay_consommation a été remplie avec succès.\n"
     ]
    }
   ],
   "source": [
    "import pandas as pd\n",
    "import sqlite3\n",
    "\n",
    "# Connexion à la base de données SQLite\n",
    "conn = sqlite3.connect('Gestion_eau.db')\n",
    "cursor = conn.cursor()\n",
    "\n",
    "# Dictionnaire pour mapper les mois aux colonnes correspondantes dans df2\n",
    "mois_mapping = {\n",
    "    'mars': (' cons_mars', 'N_recue_mars', 'Date_mars'),\n",
    "    'avril': (' cons_avril', 'N_recue_avril', 'Date_avril'),\n",
    "    'mai': (' cons_mai', 'N_recue_mai', 'Date_mai'),\n",
    "    'juin': (' cons_juin', 'N_recue_juin', 'Date_juin')\n",
    "}\n",
    "\n",
    "# Parcourir df2 pour remplir la table Pay_consommation\n",
    "for index, row in df2.iterrows():\n",
    "    n_contrat = row['N_contrat']\n",
    "    \n",
    "    for mois, (col_cons, col_recue, col_date) in mois_mapping.items():\n",
    "        # Récupérer les valeurs de df2\n",
    "        mnt_paye = row[col_cons]\n",
    "        n_recue = row[col_recue]\n",
    "        date_payement = row[col_date]\n",
    "        \n",
    "        # Nettoyer et valider les données\n",
    "        try:\n",
    "            mnt_paye = float(str(mnt_paye).replace(',', '').strip()) if pd.notna(mnt_paye) else None\n",
    "            date_paye = f\"2024-{list(mois_mapping.keys()).index(mois)+3:02d}-01\"  # Format de la date du mois\n",
    "            # Convertir la date de paiement en format 'YYYY-MM-DD' uniquement\n",
    "            if pd.notna(date_payement):\n",
    "                date_payement = pd.to_datetime(date_payement).strftime('%Y-%m-%d')\n",
    "            else:\n",
    "                date_payement = None\n",
    "            n_recue = str(n_recue) if pd.notna(n_recue) else None\n",
    "        except ValueError:\n",
    "            continue  # Si une conversion échoue, on ignore cette ligne\n",
    "        \n",
    "        # Vérifier que toutes les valeurs nécessaires sont présentes\n",
    "        if mnt_paye is not None and n_recue and date_payement:\n",
    "            # Insérer les données dans la table Pay_consommation\n",
    "            cursor.execute('''\n",
    "            INSERT INTO Pay_consommation (N_contrat, N_recue, Mnt_paye, Date_paye, Date_payement, Gestion, Perte)\n",
    "            VALUES (?, ?, ?, ?, ?, ?, ?)\n",
    "            ''', (n_contrat, n_recue, mnt_paye, date_paye, date_payement, 10, 0))\n",
    "\n",
    "# Valider les changements et fermer la connexion\n",
    "conn.commit()\n",
    "conn.close()\n",
    "\n",
    "print(\"La table Pay_consommation a été remplie avec succès.\")\n"
   ]
  },
  {
   "cell_type": "code",
   "execution_count": null,
   "metadata": {},
   "outputs": [],
   "source": [
    "# probleme dans les credit negatif (116 mois 2024-03 dans le fichier de med)"
   ]
  },
  {
   "cell_type": "markdown",
   "metadata": {},
   "source": [
    "## Payement abonneent"
   ]
  },
  {
   "cell_type": "code",
   "execution_count": null,
   "metadata": {},
   "outputs": [],
   "source": [
    "import sqlite3\n",
    "\n",
    "# Connexion à la base de données (ou création de celle-ci)\n",
    "conn = sqlite3.connect('Gestion_eau.db')\n",
    "cursor = conn.cursor()\n",
    "cursor.execute('''\n",
    "DELETE FROM Abonnement\n",
    "''')\n",
    "conn.commit()\n",
    "conn.close()"
   ]
  },
  {
   "cell_type": "code",
   "execution_count": 207,
   "metadata": {},
   "outputs": [],
   "source": [
    "import pandas as pd\n",
    "\n",
    "fichier_excel= \"/Users/mac/Desktop/Gestion-Eau-Association-Nasr/Donnee Brute/Historique abonement.xlsx\"\n",
    "df = pd.read_excel(fichier_excel, sheet_name=\"Feuil3 (ABON DEF)\")"
   ]
  },
  {
   "cell_type": "code",
   "execution_count": 208,
   "metadata": {},
   "outputs": [
    {
     "data": {
      "text/plain": [
       "Index(['Code', 'الالاسم الكامل', 'Unnamed: 2', 'مبلغ الدين', 'Unnamed: 4',\n",
       "       'Unnamed: 5', 'Unnamed: 6', 'Unnamed: 7', 'Unnamed: 8', 'الرمز',\n",
       "       'الأسماء', 'واجب المساهمة\\n في الربط', 'المؤدى', 'Unnamed: 13',\n",
       "       'Unnamed: 14', 'Unnamed: 15', 'Unnamed: 16',\n",
       "       'Montant payé Abonnements 04 2024',\n",
       "       'Montant payé Abonnements au 080524', 'Reliquats- abonne au 080524',\n",
       "       'Unnamed: 20', 'N.Abont', 'Unnamed: 22', 'NOM', 'Situation',\n",
       "       'مبلغ الدين.1', 'الأداء', 'Reliquat abonnement', 'Montants a payer 2/3',\n",
       "       'DATE REGLEMENT', 'RECU N°', 'Montant payé Abonnements',\n",
       "       'Montant payé Abonnements.1', 'Montant payé Abonnements.2',\n",
       "       'Montant total payé Abonnements'],\n",
       "      dtype='object')"
      ]
     },
     "execution_count": 208,
     "metadata": {},
     "output_type": "execute_result"
    }
   ],
   "source": [
    "df.columns"
   ]
  },
  {
   "cell_type": "code",
   "execution_count": 209,
   "metadata": {},
   "outputs": [],
   "source": [
    "df = df[['Code','الالاسم الكامل','Unnamed: 13','Unnamed: 14','Unnamed: 15','Unnamed: 16','Montant payé Abonnements 04 2024']]\n",
    "\n",
    "df.rename(columns={\n",
    "    'Code': 'N_contrat',\n",
    "    'الالاسم الكامل': 'Nom_complet',\n",
    "    'Unnamed: 13': 'Date_payement',\n",
    "    'Unnamed: 14': 'N_recue',\n",
    "    'Unnamed: 15': 'Mnt_paye',\n",
    "    'Unnamed: 16': 'N_recue_MB',\n",
    "    'Montant payé Abonnements 04 2024': 'Mnt_paye_MB'\n",
    "}, inplace=True)\n",
    "\n",
    "df = df.iloc[:256]\n",
    "df = df.dropna(subset=['N_contrat'])"
   ]
  },
  {
   "cell_type": "code",
   "execution_count": 210,
   "metadata": {},
   "outputs": [
    {
     "data": {
      "application/vnd.microsoft.datawrangler.viewer.v0+json": {
       "columns": [
        {
         "name": "index",
         "rawType": "int64",
         "type": "integer"
        },
        {
         "name": "N_contrat",
         "rawType": "float64",
         "type": "float"
        },
        {
         "name": "Nom_complet",
         "rawType": "object",
         "type": "string"
        },
        {
         "name": "Date_payement",
         "rawType": "object",
         "type": "string"
        },
        {
         "name": "N_recue",
         "rawType": "object",
         "type": "string"
        },
        {
         "name": "Mnt_paye",
         "rawType": "object",
         "type": "string"
        },
        {
         "name": "N_recue_MB",
         "rawType": "object",
         "type": "string"
        },
        {
         "name": "Mnt_paye_MB",
         "rawType": "float64",
         "type": "float"
        }
       ],
       "conversionMethod": "pd.DataFrame",
       "ref": "22ee774c-6b6a-48d5-a45b-be145c1128dc",
       "rows": [
        [
         "0",
         "1.0",
         "عبد الحق الحمزوي",
         null,
         null,
         null,
         null,
         null
        ],
        [
         "1",
         "2.0",
         "صالح حمدي",
         null,
         null,
         null,
         null,
         null
        ],
        [
         "2",
         "3.0",
         "العربي الزعاري",
         null,
         null,
         null,
         null,
         null
        ],
        [
         "3",
         "4.0",
         "أحمد لعناني",
         null,
         null,
         null,
         null,
         null
        ],
        [
         "4",
         "5.0",
         "عبد الكريم النخالي",
         null,
         null,
         null,
         null,
         null
        ]
       ],
       "shape": {
        "columns": 7,
        "rows": 5
       }
      },
      "text/html": [
       "<div>\n",
       "<style scoped>\n",
       "    .dataframe tbody tr th:only-of-type {\n",
       "        vertical-align: middle;\n",
       "    }\n",
       "\n",
       "    .dataframe tbody tr th {\n",
       "        vertical-align: top;\n",
       "    }\n",
       "\n",
       "    .dataframe thead th {\n",
       "        text-align: right;\n",
       "    }\n",
       "</style>\n",
       "<table border=\"1\" class=\"dataframe\">\n",
       "  <thead>\n",
       "    <tr style=\"text-align: right;\">\n",
       "      <th></th>\n",
       "      <th>N_contrat</th>\n",
       "      <th>Nom_complet</th>\n",
       "      <th>Date_payement</th>\n",
       "      <th>N_recue</th>\n",
       "      <th>Mnt_paye</th>\n",
       "      <th>N_recue_MB</th>\n",
       "      <th>Mnt_paye_MB</th>\n",
       "    </tr>\n",
       "  </thead>\n",
       "  <tbody>\n",
       "    <tr>\n",
       "      <th>0</th>\n",
       "      <td>1.0</td>\n",
       "      <td>عبد الحق الحمزوي</td>\n",
       "      <td>NaN</td>\n",
       "      <td>NaN</td>\n",
       "      <td>NaN</td>\n",
       "      <td>NaN</td>\n",
       "      <td>NaN</td>\n",
       "    </tr>\n",
       "    <tr>\n",
       "      <th>1</th>\n",
       "      <td>2.0</td>\n",
       "      <td>صالح حمدي</td>\n",
       "      <td>NaN</td>\n",
       "      <td>NaN</td>\n",
       "      <td>NaN</td>\n",
       "      <td>NaN</td>\n",
       "      <td>NaN</td>\n",
       "    </tr>\n",
       "    <tr>\n",
       "      <th>2</th>\n",
       "      <td>3.0</td>\n",
       "      <td>العربي الزعاري</td>\n",
       "      <td>NaN</td>\n",
       "      <td>NaN</td>\n",
       "      <td>NaN</td>\n",
       "      <td>NaN</td>\n",
       "      <td>NaN</td>\n",
       "    </tr>\n",
       "    <tr>\n",
       "      <th>3</th>\n",
       "      <td>4.0</td>\n",
       "      <td>أحمد لعناني</td>\n",
       "      <td>NaN</td>\n",
       "      <td>NaN</td>\n",
       "      <td>NaN</td>\n",
       "      <td>NaN</td>\n",
       "      <td>NaN</td>\n",
       "    </tr>\n",
       "    <tr>\n",
       "      <th>4</th>\n",
       "      <td>5.0</td>\n",
       "      <td>عبد الكريم النخالي</td>\n",
       "      <td>NaN</td>\n",
       "      <td>NaN</td>\n",
       "      <td>NaN</td>\n",
       "      <td>NaN</td>\n",
       "      <td>NaN</td>\n",
       "    </tr>\n",
       "  </tbody>\n",
       "</table>\n",
       "</div>"
      ],
      "text/plain": [
       "   N_contrat         Nom_complet Date_payement N_recue Mnt_paye N_recue_MB  \\\n",
       "0        1.0    عبد الحق الحمزوي           NaN     NaN      NaN        NaN   \n",
       "1        2.0           صالح حمدي           NaN     NaN      NaN        NaN   \n",
       "2        3.0      العربي الزعاري           NaN     NaN      NaN        NaN   \n",
       "3        4.0         أحمد لعناني           NaN     NaN      NaN        NaN   \n",
       "4        5.0  عبد الكريم النخالي           NaN     NaN      NaN        NaN   \n",
       "\n",
       "   Mnt_paye_MB  \n",
       "0          NaN  \n",
       "1          NaN  \n",
       "2          NaN  \n",
       "3          NaN  \n",
       "4          NaN  "
      ]
     },
     "execution_count": 210,
     "metadata": {},
     "output_type": "execute_result"
    }
   ],
   "source": [
    "df.head()"
   ]
  },
  {
   "cell_type": "code",
   "execution_count": 211,
   "metadata": {},
   "outputs": [],
   "source": [
    "df1= df[['N_contrat','Nom_complet','Mnt_paye','Date_payement','N_recue']]\n",
    "df2 = df[['N_contrat','Nom_complet','Mnt_paye_MB','N_recue_MB']]"
   ]
  },
  {
   "cell_type": "markdown",
   "metadata": {},
   "source": [
    "### Inserer les abonnement encaisser par bureau"
   ]
  },
  {
   "cell_type": "code",
   "execution_count": 212,
   "metadata": {},
   "outputs": [
    {
     "name": "stdout",
     "output_type": "stream",
     "text": [
      "<class 'pandas.core.frame.DataFrame'>\n",
      "Int64Index: 240 entries, 0 to 255\n",
      "Data columns (total 5 columns):\n",
      " #   Column         Non-Null Count  Dtype  \n",
      "---  ------         --------------  -----  \n",
      " 0   N_contrat      240 non-null    float64\n",
      " 1   Nom_complet    233 non-null    object \n",
      " 2   Mnt_paye       107 non-null    object \n",
      " 3   Date_payement  95 non-null     object \n",
      " 4   N_recue        93 non-null     object \n",
      "dtypes: float64(1), object(4)\n",
      "memory usage: 11.2+ KB\n"
     ]
    }
   ],
   "source": [
    "df1.info()"
   ]
  },
  {
   "cell_type": "code",
   "execution_count": 213,
   "metadata": {},
   "outputs": [],
   "source": [
    "df1 = df1.dropna(subset=['Mnt_paye'])\n",
    "\n",
    "# Conversion de N_contrat en chaîne de caractères\n",
    "df1['N_contrat'] = df1['N_contrat'].astype(int).astype(str)\n",
    "\n",
    "# Conversion de Mnt_paye en float64\n",
    "df1['Mnt_paye'] = pd.to_numeric(df1['Mnt_paye'], errors='coerce').astype('float64')\n",
    "\n",
    "# Conversion de Date_payement en date\n",
    "df1['Date_payement'] = pd.to_datetime(df1['Date_payement'], errors='coerce')\n",
    "#df1['Date_payement'] = df1['Date_payement'].dt.date\n"
   ]
  },
  {
   "cell_type": "code",
   "execution_count": 214,
   "metadata": {},
   "outputs": [
    {
     "name": "stdout",
     "output_type": "stream",
     "text": [
      "<class 'pandas.core.frame.DataFrame'>\n",
      "Int64Index: 107 entries, 5 to 252\n",
      "Data columns (total 5 columns):\n",
      " #   Column         Non-Null Count  Dtype         \n",
      "---  ------         --------------  -----         \n",
      " 0   N_contrat      107 non-null    object        \n",
      " 1   Nom_complet    101 non-null    object        \n",
      " 2   Mnt_paye       107 non-null    float64       \n",
      " 3   Date_payement  95 non-null     datetime64[ns]\n",
      " 4   N_recue        93 non-null     object        \n",
      "dtypes: datetime64[ns](1), float64(1), object(3)\n",
      "memory usage: 5.0+ KB\n"
     ]
    }
   ],
   "source": [
    "df1.info()"
   ]
  },
  {
   "cell_type": "code",
   "execution_count": 215,
   "metadata": {},
   "outputs": [
    {
     "data": {
      "application/vnd.microsoft.datawrangler.viewer.v0+json": {
       "columns": [
        {
         "name": "index",
         "rawType": "int64",
         "type": "integer"
        },
        {
         "name": "N_contrat",
         "rawType": "object",
         "type": "string"
        },
        {
         "name": "Nom_complet",
         "rawType": "object",
         "type": "string"
        },
        {
         "name": "Mnt_paye",
         "rawType": "float64",
         "type": "float"
        },
        {
         "name": "Date_payement",
         "rawType": "datetime64[ns]",
         "type": "datetime"
        },
        {
         "name": "N_recue",
         "rawType": "object",
         "type": "string"
        }
       ],
       "conversionMethod": "pd.DataFrame",
       "ref": "950c66b8-9278-46e3-a414-915f0400c172",
       "rows": [
        [
         "5",
         "6",
         "حسن البرني",
         "200.0",
         "2024-07-09 00:00:00",
         "7"
        ],
        [
         "6",
         "6",
         "حسن البرني",
         "100.0",
         "2024-08-15 00:00:00",
         "63"
        ],
        [
         "7",
         "6",
         "حسن البرني",
         "100.0",
         "2024-09-25 00:00:00",
         "74"
        ],
        [
         "8",
         "7",
         "حسن صالح حمدي",
         "175.0",
         "2024-07-30 00:00:00",
         "118"
        ],
        [
         "9",
         "7",
         "حسن صالح حمدي",
         "100.0",
         "2024-08-20 00:00:00",
         "83"
        ],
        [
         "10",
         "7",
         "حسن صالح حمدي",
         "75.0",
         "2024-10-31 00:00:00",
         "113"
        ],
        [
         "14",
         "11",
         "مصطفي أحمد حمدي",
         "100.0",
         "2024-07-15 00:00:00",
         "74"
        ],
        [
         "22",
         "19",
         "عبد الرحمان حمدي",
         "200.0",
         "2024-07-12 00:00:00",
         "48"
        ],
        [
         "23",
         "19",
         "عبد الرحمان حمدي",
         "150.0",
         "2024-08-19 00:00:00",
         "72"
        ],
        [
         "24",
         "19",
         "عبد الرحمان حمدي",
         "100.0",
         "2024-09-21 00:00:00",
         "61"
        ]
       ],
       "shape": {
        "columns": 5,
        "rows": 10
       }
      },
      "text/html": [
       "<div>\n",
       "<style scoped>\n",
       "    .dataframe tbody tr th:only-of-type {\n",
       "        vertical-align: middle;\n",
       "    }\n",
       "\n",
       "    .dataframe tbody tr th {\n",
       "        vertical-align: top;\n",
       "    }\n",
       "\n",
       "    .dataframe thead th {\n",
       "        text-align: right;\n",
       "    }\n",
       "</style>\n",
       "<table border=\"1\" class=\"dataframe\">\n",
       "  <thead>\n",
       "    <tr style=\"text-align: right;\">\n",
       "      <th></th>\n",
       "      <th>N_contrat</th>\n",
       "      <th>Nom_complet</th>\n",
       "      <th>Mnt_paye</th>\n",
       "      <th>Date_payement</th>\n",
       "      <th>N_recue</th>\n",
       "    </tr>\n",
       "  </thead>\n",
       "  <tbody>\n",
       "    <tr>\n",
       "      <th>5</th>\n",
       "      <td>6</td>\n",
       "      <td>حسن البرني</td>\n",
       "      <td>200.0</td>\n",
       "      <td>2024-07-09</td>\n",
       "      <td>7</td>\n",
       "    </tr>\n",
       "    <tr>\n",
       "      <th>6</th>\n",
       "      <td>6</td>\n",
       "      <td>حسن البرني</td>\n",
       "      <td>100.0</td>\n",
       "      <td>2024-08-15</td>\n",
       "      <td>63</td>\n",
       "    </tr>\n",
       "    <tr>\n",
       "      <th>7</th>\n",
       "      <td>6</td>\n",
       "      <td>حسن البرني</td>\n",
       "      <td>100.0</td>\n",
       "      <td>2024-09-25</td>\n",
       "      <td>74</td>\n",
       "    </tr>\n",
       "    <tr>\n",
       "      <th>8</th>\n",
       "      <td>7</td>\n",
       "      <td>حسن صالح حمدي</td>\n",
       "      <td>175.0</td>\n",
       "      <td>2024-07-30</td>\n",
       "      <td>118</td>\n",
       "    </tr>\n",
       "    <tr>\n",
       "      <th>9</th>\n",
       "      <td>7</td>\n",
       "      <td>حسن صالح حمدي</td>\n",
       "      <td>100.0</td>\n",
       "      <td>2024-08-20</td>\n",
       "      <td>83</td>\n",
       "    </tr>\n",
       "    <tr>\n",
       "      <th>10</th>\n",
       "      <td>7</td>\n",
       "      <td>حسن صالح حمدي</td>\n",
       "      <td>75.0</td>\n",
       "      <td>2024-10-31</td>\n",
       "      <td>113</td>\n",
       "    </tr>\n",
       "    <tr>\n",
       "      <th>14</th>\n",
       "      <td>11</td>\n",
       "      <td>مصطفي أحمد حمدي</td>\n",
       "      <td>100.0</td>\n",
       "      <td>2024-07-15</td>\n",
       "      <td>74</td>\n",
       "    </tr>\n",
       "    <tr>\n",
       "      <th>22</th>\n",
       "      <td>19</td>\n",
       "      <td>عبد الرحمان حمدي</td>\n",
       "      <td>200.0</td>\n",
       "      <td>2024-07-12</td>\n",
       "      <td>48</td>\n",
       "    </tr>\n",
       "    <tr>\n",
       "      <th>23</th>\n",
       "      <td>19</td>\n",
       "      <td>عبد الرحمان حمدي</td>\n",
       "      <td>150.0</td>\n",
       "      <td>2024-08-19</td>\n",
       "      <td>72</td>\n",
       "    </tr>\n",
       "    <tr>\n",
       "      <th>24</th>\n",
       "      <td>19</td>\n",
       "      <td>عبد الرحمان حمدي</td>\n",
       "      <td>100.0</td>\n",
       "      <td>2024-09-21</td>\n",
       "      <td>61</td>\n",
       "    </tr>\n",
       "  </tbody>\n",
       "</table>\n",
       "</div>"
      ],
      "text/plain": [
       "   N_contrat       Nom_complet  Mnt_paye Date_payement N_recue\n",
       "5          6        حسن البرني     200.0    2024-07-09       7\n",
       "6          6        حسن البرني     100.0    2024-08-15      63\n",
       "7          6        حسن البرني     100.0    2024-09-25      74\n",
       "8          7     حسن صالح حمدي     175.0    2024-07-30     118\n",
       "9          7     حسن صالح حمدي     100.0    2024-08-20      83\n",
       "10         7     حسن صالح حمدي      75.0    2024-10-31     113\n",
       "14        11   مصطفي أحمد حمدي     100.0    2024-07-15      74\n",
       "22        19  عبد الرحمان حمدي     200.0    2024-07-12      48\n",
       "23        19  عبد الرحمان حمدي     150.0    2024-08-19      72\n",
       "24        19  عبد الرحمان حمدي     100.0    2024-09-21      61"
      ]
     },
     "execution_count": 215,
     "metadata": {},
     "output_type": "execute_result"
    }
   ],
   "source": [
    "df1.head(10)"
   ]
  },
  {
   "cell_type": "code",
   "execution_count": 216,
   "metadata": {},
   "outputs": [
    {
     "name": "stdout",
     "output_type": "stream",
     "text": [
      "Connexion à la base de données réussie.\n",
      "Données insérées avec succès dans la table 'abonnement'.\n",
      "Connexion à la base de données fermée.\n"
     ]
    }
   ],
   "source": [
    "import sqlite3\n",
    "import pandas as pd\n",
    "\n",
    "# Connexion à la base de données SQLite\n",
    "try:\n",
    "    conn = sqlite3.connect('Gestion_eau.db')\n",
    "    cursor = conn.cursor()\n",
    "    print(\"Connexion à la base de données réussie.\")\n",
    "except sqlite3.Error as e:\n",
    "    print(f\"Erreur lors de la connexion à la base de données : {e}\")\n",
    "    exit()\n",
    "\n",
    "# Insérer les données dans la table 'abonnement' avec les conditions\n",
    "try:\n",
    "    for index, row in df1.iterrows():\n",
    "        # Vérifier si N_contrat est null\n",
    "        if pd.notna(row['N_contrat']):\n",
    "            # Formater Date_payement\n",
    "            if pd.notna(row['Date_payement']):\n",
    "                date_payement = row['Date_payement'].strftime('%Y-%m-%d')\n",
    "            else:\n",
    "                date_payement = '2024-03-01'  # Valeur par défaut\n",
    "\n",
    "            # Insérer la ligne dans la table\n",
    "            cursor.execute('''\n",
    "                INSERT INTO abonnement (N_contrat, Date_payement, N_recue, Mnt_paye)\n",
    "                VALUES (?, ?, ?, ?)\n",
    "            ''', (row['N_contrat'], date_payement, row['N_recue'], row['Mnt_paye']))\n",
    "    \n",
    "    # Valider la transaction\n",
    "    conn.commit()\n",
    "    print(\"Données insérées avec succès dans la table 'abonnement'.\")\n",
    "except sqlite3.Error as e:\n",
    "    print(f\"Erreur lors de l'insertion des données : {e}\")\n",
    "    conn.rollback()  # Annuler les modifications en cas d'erreur\n",
    "finally:\n",
    "    # Fermer la connexion\n",
    "    try:\n",
    "        conn.close()\n",
    "        print(\"Connexion à la base de données fermée.\")\n",
    "    except sqlite3.Error as e:\n",
    "        print(f\"Erreur lors de la fermeture de la connexion : {e}\")"
   ]
  },
  {
   "cell_type": "markdown",
   "metadata": {},
   "source": [
    "### Inserer les abonnement encaisser par MB"
   ]
  },
  {
   "cell_type": "code",
   "execution_count": 217,
   "metadata": {},
   "outputs": [
    {
     "data": {
      "application/vnd.microsoft.datawrangler.viewer.v0+json": {
       "columns": [
        {
         "name": "index",
         "rawType": "int64",
         "type": "integer"
        },
        {
         "name": "N_contrat",
         "rawType": "float64",
         "type": "float"
        },
        {
         "name": "Nom_complet",
         "rawType": "object",
         "type": "string"
        },
        {
         "name": "Mnt_paye_MB",
         "rawType": "float64",
         "type": "float"
        },
        {
         "name": "N_recue_MB",
         "rawType": "object",
         "type": "string"
        }
       ],
       "conversionMethod": "pd.DataFrame",
       "ref": "e69c84c1-e65b-4a5f-84db-5ae84e0726d6",
       "rows": [
        [
         "0",
         "1.0",
         "عبد الحق الحمزوي",
         null,
         null
        ],
        [
         "1",
         "2.0",
         "صالح حمدي",
         null,
         null
        ],
        [
         "2",
         "3.0",
         "العربي الزعاري",
         null,
         null
        ],
        [
         "3",
         "4.0",
         "أحمد لعناني",
         null,
         null
        ],
        [
         "4",
         "5.0",
         "عبد الكريم النخالي",
         null,
         null
        ]
       ],
       "shape": {
        "columns": 4,
        "rows": 5
       }
      },
      "text/html": [
       "<div>\n",
       "<style scoped>\n",
       "    .dataframe tbody tr th:only-of-type {\n",
       "        vertical-align: middle;\n",
       "    }\n",
       "\n",
       "    .dataframe tbody tr th {\n",
       "        vertical-align: top;\n",
       "    }\n",
       "\n",
       "    .dataframe thead th {\n",
       "        text-align: right;\n",
       "    }\n",
       "</style>\n",
       "<table border=\"1\" class=\"dataframe\">\n",
       "  <thead>\n",
       "    <tr style=\"text-align: right;\">\n",
       "      <th></th>\n",
       "      <th>N_contrat</th>\n",
       "      <th>Nom_complet</th>\n",
       "      <th>Mnt_paye_MB</th>\n",
       "      <th>N_recue_MB</th>\n",
       "    </tr>\n",
       "  </thead>\n",
       "  <tbody>\n",
       "    <tr>\n",
       "      <th>0</th>\n",
       "      <td>1.0</td>\n",
       "      <td>عبد الحق الحمزوي</td>\n",
       "      <td>NaN</td>\n",
       "      <td>NaN</td>\n",
       "    </tr>\n",
       "    <tr>\n",
       "      <th>1</th>\n",
       "      <td>2.0</td>\n",
       "      <td>صالح حمدي</td>\n",
       "      <td>NaN</td>\n",
       "      <td>NaN</td>\n",
       "    </tr>\n",
       "    <tr>\n",
       "      <th>2</th>\n",
       "      <td>3.0</td>\n",
       "      <td>العربي الزعاري</td>\n",
       "      <td>NaN</td>\n",
       "      <td>NaN</td>\n",
       "    </tr>\n",
       "    <tr>\n",
       "      <th>3</th>\n",
       "      <td>4.0</td>\n",
       "      <td>أحمد لعناني</td>\n",
       "      <td>NaN</td>\n",
       "      <td>NaN</td>\n",
       "    </tr>\n",
       "    <tr>\n",
       "      <th>4</th>\n",
       "      <td>5.0</td>\n",
       "      <td>عبد الكريم النخالي</td>\n",
       "      <td>NaN</td>\n",
       "      <td>NaN</td>\n",
       "    </tr>\n",
       "  </tbody>\n",
       "</table>\n",
       "</div>"
      ],
      "text/plain": [
       "   N_contrat         Nom_complet  Mnt_paye_MB N_recue_MB\n",
       "0        1.0    عبد الحق الحمزوي          NaN        NaN\n",
       "1        2.0           صالح حمدي          NaN        NaN\n",
       "2        3.0      العربي الزعاري          NaN        NaN\n",
       "3        4.0         أحمد لعناني          NaN        NaN\n",
       "4        5.0  عبد الكريم النخالي          NaN        NaN"
      ]
     },
     "execution_count": 217,
     "metadata": {},
     "output_type": "execute_result"
    }
   ],
   "source": [
    "df2.head()"
   ]
  },
  {
   "cell_type": "code",
   "execution_count": 218,
   "metadata": {},
   "outputs": [
    {
     "data": {
      "application/vnd.microsoft.datawrangler.viewer.v0+json": {
       "columns": [
        {
         "name": "index",
         "rawType": "int64",
         "type": "integer"
        },
        {
         "name": "N_contrat",
         "rawType": "float64",
         "type": "float"
        },
        {
         "name": "Nom_complet",
         "rawType": "object",
         "type": "string"
        },
        {
         "name": "Mnt_paye_MB",
         "rawType": "float64",
         "type": "float"
        },
        {
         "name": "N_recue_MB",
         "rawType": "object",
         "type": "string"
        }
       ],
       "conversionMethod": "pd.DataFrame",
       "ref": "66f0ba68-48ff-416e-995a-b553ae484409",
       "rows": [
        [
         "5",
         "6.0",
         "حسن البرني",
         "700.0",
         "MB"
        ],
        [
         "8",
         "7.0",
         "حسن صالح حمدي",
         "750.0",
         "MB"
        ],
        [
         "22",
         "19.0",
         "عبد الرحمان حمدي",
         "600.0",
         "MB"
        ],
        [
         "26",
         "21.0",
         "لكبير أوساني",
         "900.0",
         "MB"
        ],
        [
         "29",
         "24.0",
         "أحمد قبلي",
         "500.0",
         "MB"
        ]
       ],
       "shape": {
        "columns": 4,
        "rows": 5
       }
      },
      "text/html": [
       "<div>\n",
       "<style scoped>\n",
       "    .dataframe tbody tr th:only-of-type {\n",
       "        vertical-align: middle;\n",
       "    }\n",
       "\n",
       "    .dataframe tbody tr th {\n",
       "        vertical-align: top;\n",
       "    }\n",
       "\n",
       "    .dataframe thead th {\n",
       "        text-align: right;\n",
       "    }\n",
       "</style>\n",
       "<table border=\"1\" class=\"dataframe\">\n",
       "  <thead>\n",
       "    <tr style=\"text-align: right;\">\n",
       "      <th></th>\n",
       "      <th>N_contrat</th>\n",
       "      <th>Nom_complet</th>\n",
       "      <th>Mnt_paye_MB</th>\n",
       "      <th>N_recue_MB</th>\n",
       "    </tr>\n",
       "  </thead>\n",
       "  <tbody>\n",
       "    <tr>\n",
       "      <th>5</th>\n",
       "      <td>6.0</td>\n",
       "      <td>حسن البرني</td>\n",
       "      <td>700.0</td>\n",
       "      <td>MB</td>\n",
       "    </tr>\n",
       "    <tr>\n",
       "      <th>8</th>\n",
       "      <td>7.0</td>\n",
       "      <td>حسن صالح حمدي</td>\n",
       "      <td>750.0</td>\n",
       "      <td>MB</td>\n",
       "    </tr>\n",
       "    <tr>\n",
       "      <th>22</th>\n",
       "      <td>19.0</td>\n",
       "      <td>عبد الرحمان حمدي</td>\n",
       "      <td>600.0</td>\n",
       "      <td>MB</td>\n",
       "    </tr>\n",
       "    <tr>\n",
       "      <th>26</th>\n",
       "      <td>21.0</td>\n",
       "      <td>لكبير أوساني</td>\n",
       "      <td>900.0</td>\n",
       "      <td>MB</td>\n",
       "    </tr>\n",
       "    <tr>\n",
       "      <th>29</th>\n",
       "      <td>24.0</td>\n",
       "      <td>أحمد قبلي</td>\n",
       "      <td>500.0</td>\n",
       "      <td>MB</td>\n",
       "    </tr>\n",
       "  </tbody>\n",
       "</table>\n",
       "</div>"
      ],
      "text/plain": [
       "    N_contrat       Nom_complet  Mnt_paye_MB N_recue_MB\n",
       "5         6.0        حسن البرني        700.0         MB\n",
       "8         7.0     حسن صالح حمدي        750.0         MB\n",
       "22       19.0  عبد الرحمان حمدي        600.0         MB\n",
       "26       21.0      لكبير أوساني        900.0         MB\n",
       "29       24.0         أحمد قبلي        500.0         MB"
      ]
     },
     "execution_count": 218,
     "metadata": {},
     "output_type": "execute_result"
    }
   ],
   "source": [
    "df2 = df2.dropna(subset=['Mnt_paye_MB'])\n",
    "df2.head()"
   ]
  },
  {
   "cell_type": "code",
   "execution_count": 219,
   "metadata": {},
   "outputs": [
    {
     "name": "stdout",
     "output_type": "stream",
     "text": [
      "<class 'pandas.core.frame.DataFrame'>\n",
      "Int64Index: 53 entries, 5 to 249\n",
      "Data columns (total 4 columns):\n",
      " #   Column       Non-Null Count  Dtype  \n",
      "---  ------       --------------  -----  \n",
      " 0   N_contrat    53 non-null     float64\n",
      " 1   Nom_complet  53 non-null     object \n",
      " 2   Mnt_paye_MB  53 non-null     float64\n",
      " 3   N_recue_MB   48 non-null     object \n",
      "dtypes: float64(2), object(2)\n",
      "memory usage: 2.1+ KB\n"
     ]
    }
   ],
   "source": [
    "df2.info()"
   ]
  },
  {
   "cell_type": "code",
   "execution_count": 220,
   "metadata": {},
   "outputs": [],
   "source": [
    "# Convertir N_contrat en entier, puis en chaîne de caractères\n",
    "df2['N_contrat'] = df2['N_contrat'].astype(int).astype(str)\n",
    "\n",
    "# Ajouter les colonnes manquantes avec les valeurs spécifiées\n",
    "df2['Date_payement'] = '2024-03-01'\n",
    "df2['N_recue'] = 'MB'\n",
    "\n",
    "# Renommer les colonnes pour correspondre à la table 'abonnement'\n",
    "df2 = df2.rename(columns={\n",
    "    'Mnt_paye_MB': 'Mnt_paye',\n",
    "    'N_recue_MB': 'N_recue'\n",
    "})\n",
    "\n",
    "df2['Date_payement'] = pd.to_datetime(df2['Date_payement'], errors='coerce')"
   ]
  },
  {
   "cell_type": "code",
   "execution_count": 221,
   "metadata": {},
   "outputs": [
    {
     "name": "stdout",
     "output_type": "stream",
     "text": [
      "<class 'pandas.core.frame.DataFrame'>\n",
      "Int64Index: 53 entries, 5 to 249\n",
      "Data columns (total 6 columns):\n",
      " #   Column         Non-Null Count  Dtype         \n",
      "---  ------         --------------  -----         \n",
      " 0   N_contrat      53 non-null     object        \n",
      " 1   Nom_complet    53 non-null     object        \n",
      " 2   Mnt_paye       53 non-null     float64       \n",
      " 3   N_recue        48 non-null     object        \n",
      " 4   Date_payement  53 non-null     datetime64[ns]\n",
      " 5   N_recue        53 non-null     object        \n",
      "dtypes: datetime64[ns](1), float64(1), object(4)\n",
      "memory usage: 2.9+ KB\n"
     ]
    }
   ],
   "source": [
    "df2.info()"
   ]
  },
  {
   "cell_type": "code",
   "execution_count": 222,
   "metadata": {},
   "outputs": [
    {
     "data": {
      "application/vnd.microsoft.datawrangler.viewer.v0+json": {
       "columns": [
        {
         "name": "index",
         "rawType": "int64",
         "type": "integer"
        },
        {
         "name": "N_contrat",
         "rawType": "object",
         "type": "string"
        },
        {
         "name": "Nom_complet",
         "rawType": "object",
         "type": "string"
        },
        {
         "name": "Mnt_paye",
         "rawType": "float64",
         "type": "float"
        },
        {
         "name": "N_recue",
         "rawType": "object",
         "type": "string"
        },
        {
         "name": "Date_payement",
         "rawType": "datetime64[ns]",
         "type": "datetime"
        },
        {
         "name": "N_recue",
         "rawType": "object",
         "type": "string"
        }
       ],
       "conversionMethod": "pd.DataFrame",
       "ref": "d06db46e-1385-4928-a351-905a7405cdbb",
       "rows": [
        [
         "5",
         "6",
         "حسن البرني",
         "700.0",
         "MB",
         "2024-03-01 00:00:00",
         "MB"
        ],
        [
         "8",
         "7",
         "حسن صالح حمدي",
         "750.0",
         "MB",
         "2024-03-01 00:00:00",
         "MB"
        ],
        [
         "22",
         "19",
         "عبد الرحمان حمدي",
         "600.0",
         "MB",
         "2024-03-01 00:00:00",
         "MB"
        ],
        [
         "26",
         "21",
         "لكبير أوساني",
         "900.0",
         "MB",
         "2024-03-01 00:00:00",
         "MB"
        ],
        [
         "29",
         "24",
         "أحمد قبلي",
         "500.0",
         "MB",
         "2024-03-01 00:00:00",
         "MB"
        ]
       ],
       "shape": {
        "columns": 6,
        "rows": 5
       }
      },
      "text/html": [
       "<div>\n",
       "<style scoped>\n",
       "    .dataframe tbody tr th:only-of-type {\n",
       "        vertical-align: middle;\n",
       "    }\n",
       "\n",
       "    .dataframe tbody tr th {\n",
       "        vertical-align: top;\n",
       "    }\n",
       "\n",
       "    .dataframe thead th {\n",
       "        text-align: right;\n",
       "    }\n",
       "</style>\n",
       "<table border=\"1\" class=\"dataframe\">\n",
       "  <thead>\n",
       "    <tr style=\"text-align: right;\">\n",
       "      <th></th>\n",
       "      <th>N_contrat</th>\n",
       "      <th>Nom_complet</th>\n",
       "      <th>Mnt_paye</th>\n",
       "      <th>N_recue</th>\n",
       "      <th>Date_payement</th>\n",
       "      <th>N_recue</th>\n",
       "    </tr>\n",
       "  </thead>\n",
       "  <tbody>\n",
       "    <tr>\n",
       "      <th>5</th>\n",
       "      <td>6</td>\n",
       "      <td>حسن البرني</td>\n",
       "      <td>700.0</td>\n",
       "      <td>MB</td>\n",
       "      <td>2024-03-01</td>\n",
       "      <td>MB</td>\n",
       "    </tr>\n",
       "    <tr>\n",
       "      <th>8</th>\n",
       "      <td>7</td>\n",
       "      <td>حسن صالح حمدي</td>\n",
       "      <td>750.0</td>\n",
       "      <td>MB</td>\n",
       "      <td>2024-03-01</td>\n",
       "      <td>MB</td>\n",
       "    </tr>\n",
       "    <tr>\n",
       "      <th>22</th>\n",
       "      <td>19</td>\n",
       "      <td>عبد الرحمان حمدي</td>\n",
       "      <td>600.0</td>\n",
       "      <td>MB</td>\n",
       "      <td>2024-03-01</td>\n",
       "      <td>MB</td>\n",
       "    </tr>\n",
       "    <tr>\n",
       "      <th>26</th>\n",
       "      <td>21</td>\n",
       "      <td>لكبير أوساني</td>\n",
       "      <td>900.0</td>\n",
       "      <td>MB</td>\n",
       "      <td>2024-03-01</td>\n",
       "      <td>MB</td>\n",
       "    </tr>\n",
       "    <tr>\n",
       "      <th>29</th>\n",
       "      <td>24</td>\n",
       "      <td>أحمد قبلي</td>\n",
       "      <td>500.0</td>\n",
       "      <td>MB</td>\n",
       "      <td>2024-03-01</td>\n",
       "      <td>MB</td>\n",
       "    </tr>\n",
       "  </tbody>\n",
       "</table>\n",
       "</div>"
      ],
      "text/plain": [
       "   N_contrat       Nom_complet  Mnt_paye N_recue Date_payement N_recue\n",
       "5          6        حسن البرني     700.0      MB    2024-03-01      MB\n",
       "8          7     حسن صالح حمدي     750.0      MB    2024-03-01      MB\n",
       "22        19  عبد الرحمان حمدي     600.0      MB    2024-03-01      MB\n",
       "26        21      لكبير أوساني     900.0      MB    2024-03-01      MB\n",
       "29        24         أحمد قبلي     500.0      MB    2024-03-01      MB"
      ]
     },
     "execution_count": 222,
     "metadata": {},
     "output_type": "execute_result"
    }
   ],
   "source": [
    "df2.head()"
   ]
  },
  {
   "cell_type": "code",
   "execution_count": 223,
   "metadata": {},
   "outputs": [
    {
     "name": "stdout",
     "output_type": "stream",
     "text": [
      "Connexion à la base de données réussie.\n",
      "Données insérées avec succès dans la table 'abonnement'.\n",
      "Connexion à la base de données fermée.\n"
     ]
    }
   ],
   "source": [
    "import sqlite3\n",
    "import pandas as pd\n",
    "\n",
    "# Connexion à la base de données SQLite\n",
    "try:\n",
    "    conn = sqlite3.connect('Gestion_eau.db')\n",
    "    cursor = conn.cursor()\n",
    "    print(\"Connexion à la base de données réussie.\")\n",
    "except sqlite3.Error as e:\n",
    "    print(f\"Erreur lors de la connexion à la base de données : {e}\")\n",
    "    exit()\n",
    "\n",
    "# Insérer les données dans la table 'abonnement'\n",
    "try:\n",
    "    for index, row in df2.iterrows():\n",
    "        # Vérifier si N_contrat n'est pas null\n",
    "        if pd.notna(row['N_contrat']):\n",
    "            # Formater Date_payement\n",
    "            if pd.notna(row['Date_payement']):\n",
    "                date_payement = row['Date_payement'].strftime('%Y-%m-%d')\n",
    "            else:\n",
    "                date_payement = '2024-03-01'  # Valeur par défaut\n",
    "\n",
    "            # Insérer la ligne dans la table\n",
    "            cursor.execute('''\n",
    "                INSERT INTO abonnement (N_contrat, Date_payement, N_recue, Mnt_paye)\n",
    "                VALUES (?, ?, ?, ?)\n",
    "            ''', (row['N_contrat'], date_payement, 000, row['Mnt_paye']))\n",
    "    \n",
    "    # Valider la transaction\n",
    "    conn.commit()\n",
    "    print(\"Données insérées avec succès dans la table 'abonnement'.\")\n",
    "except sqlite3.Error as e:\n",
    "    print(f\"Erreur lors de l'insertion des données : {e}\")\n",
    "    conn.rollback()  # Annuler les modifications en cas d'erreur\n",
    "finally:\n",
    "    # Fermer la connexion\n",
    "    try:\n",
    "        conn.close()\n",
    "        print(\"Connexion à la base de données fermée.\")\n",
    "    except sqlite3.Error as e:\n",
    "        print(f\"Erreur lors de la fermeture de la connexion : {e}\")"
   ]
  },
  {
   "cell_type": "markdown",
   "metadata": {},
   "source": [
    "### Inserer les abonnement encaiser par bureau precedent"
   ]
  },
  {
   "cell_type": "code",
   "execution_count": 247,
   "metadata": {},
   "outputs": [],
   "source": [
    "import pandas as pd\n",
    "fichier_excel= \"/Users/mac/Desktop/Gestion-Eau-Association-Nasr/Donnee Brute/MB suivi de compte.xlsx\"\n",
    "df = pd.read_excel(fichier_excel, sheet_name=\"Sheet4\")"
   ]
  },
  {
   "cell_type": "code",
   "execution_count": 248,
   "metadata": {},
   "outputs": [],
   "source": [
    "df3 = df"
   ]
  },
  {
   "cell_type": "code",
   "execution_count": 249,
   "metadata": {},
   "outputs": [
    {
     "data": {
      "application/vnd.microsoft.datawrangler.viewer.v0+json": {
       "columns": [
        {
         "name": "index",
         "rawType": "int64",
         "type": "integer"
        },
        {
         "name": "N_contrat",
         "rawType": "float64",
         "type": "float"
        },
        {
         "name": "Nom_complet",
         "rawType": "object",
         "type": "string"
        },
        {
         "name": "DUE",
         "rawType": "float64",
         "type": "float"
        },
        {
         "name": "PAYE",
         "rawType": "float64",
         "type": "float"
        }
       ],
       "conversionMethod": "pd.DataFrame",
       "ref": "77081d00-ec3f-43ff-b301-1146b4a9b957",
       "rows": [
        [
         "0",
         "1.0",
         "عبد الحق الحمزوي",
         "3600.0",
         "3600.0"
        ],
        [
         "1",
         "2.0",
         "صالح حمدي",
         "3600.0",
         "3600.0"
        ],
        [
         "2",
         "3.0",
         "العربي الزعاري",
         "3600.0",
         "3600.0"
        ],
        [
         "3",
         "5.0",
         "عبد الكريم النخالي",
         "3600.0",
         "3600.0"
        ],
        [
         "4",
         "6.0",
         "حسن البرني",
         "3600.0",
         "2500.0"
        ]
       ],
       "shape": {
        "columns": 4,
        "rows": 5
       }
      },
      "text/html": [
       "<div>\n",
       "<style scoped>\n",
       "    .dataframe tbody tr th:only-of-type {\n",
       "        vertical-align: middle;\n",
       "    }\n",
       "\n",
       "    .dataframe tbody tr th {\n",
       "        vertical-align: top;\n",
       "    }\n",
       "\n",
       "    .dataframe thead th {\n",
       "        text-align: right;\n",
       "    }\n",
       "</style>\n",
       "<table border=\"1\" class=\"dataframe\">\n",
       "  <thead>\n",
       "    <tr style=\"text-align: right;\">\n",
       "      <th></th>\n",
       "      <th>N_contrat</th>\n",
       "      <th>Nom_complet</th>\n",
       "      <th>DUE</th>\n",
       "      <th>PAYE</th>\n",
       "    </tr>\n",
       "  </thead>\n",
       "  <tbody>\n",
       "    <tr>\n",
       "      <th>0</th>\n",
       "      <td>1.0</td>\n",
       "      <td>عبد الحق الحمزوي</td>\n",
       "      <td>3600.0</td>\n",
       "      <td>3600.0</td>\n",
       "    </tr>\n",
       "    <tr>\n",
       "      <th>1</th>\n",
       "      <td>2.0</td>\n",
       "      <td>صالح حمدي</td>\n",
       "      <td>3600.0</td>\n",
       "      <td>3600.0</td>\n",
       "    </tr>\n",
       "    <tr>\n",
       "      <th>2</th>\n",
       "      <td>3.0</td>\n",
       "      <td>العربي الزعاري</td>\n",
       "      <td>3600.0</td>\n",
       "      <td>3600.0</td>\n",
       "    </tr>\n",
       "    <tr>\n",
       "      <th>3</th>\n",
       "      <td>5.0</td>\n",
       "      <td>عبد الكريم النخالي</td>\n",
       "      <td>3600.0</td>\n",
       "      <td>3600.0</td>\n",
       "    </tr>\n",
       "    <tr>\n",
       "      <th>4</th>\n",
       "      <td>6.0</td>\n",
       "      <td>حسن البرني</td>\n",
       "      <td>3600.0</td>\n",
       "      <td>2500.0</td>\n",
       "    </tr>\n",
       "  </tbody>\n",
       "</table>\n",
       "</div>"
      ],
      "text/plain": [
       "   N_contrat         Nom_complet     DUE    PAYE\n",
       "0        1.0    عبد الحق الحمزوي  3600.0  3600.0\n",
       "1        2.0           صالح حمدي  3600.0  3600.0\n",
       "2        3.0      العربي الزعاري  3600.0  3600.0\n",
       "3        5.0  عبد الكريم النخالي  3600.0  3600.0\n",
       "4        6.0          حسن البرني  3600.0  2500.0"
      ]
     },
     "execution_count": 249,
     "metadata": {},
     "output_type": "execute_result"
    }
   ],
   "source": [
    "df3.head()"
   ]
  },
  {
   "cell_type": "code",
   "execution_count": 250,
   "metadata": {},
   "outputs": [
    {
     "name": "stderr",
     "output_type": "stream",
     "text": [
      "/var/folders/jn/9ky4bnns2n72gwm_jg0ksgk80000gn/T/ipykernel_2177/3941810325.py:2: SettingWithCopyWarning: \n",
      "A value is trying to be set on a copy of a slice from a DataFrame.\n",
      "Try using .loc[row_indexer,col_indexer] = value instead\n",
      "\n",
      "See the caveats in the documentation: https://pandas.pydata.org/pandas-docs/stable/user_guide/indexing.html#returning-a-view-versus-a-copy\n",
      "  df3['N_contrat'] = df3['N_contrat'].astype(int).astype(str)  # Convertir N_contrat en chaîne de caractères\n",
      "/var/folders/jn/9ky4bnns2n72gwm_jg0ksgk80000gn/T/ipykernel_2177/3941810325.py:3: SettingWithCopyWarning: \n",
      "A value is trying to be set on a copy of a slice from a DataFrame.\n",
      "Try using .loc[row_indexer,col_indexer] = value instead\n",
      "\n",
      "See the caveats in the documentation: https://pandas.pydata.org/pandas-docs/stable/user_guide/indexing.html#returning-a-view-versus-a-copy\n",
      "  df3['PAYE'] = df3['PAYE'].astype(float)  # Convertir PAYE en float\n",
      "/var/folders/jn/9ky4bnns2n72gwm_jg0ksgk80000gn/T/ipykernel_2177/3941810325.py:4: SettingWithCopyWarning: \n",
      "A value is trying to be set on a copy of a slice from a DataFrame.\n",
      "Try using .loc[row_indexer,col_indexer] = value instead\n",
      "\n",
      "See the caveats in the documentation: https://pandas.pydata.org/pandas-docs/stable/user_guide/indexing.html#returning-a-view-versus-a-copy\n",
      "  df3['Date_payement'] = '2023-12-31'  # Ajouter une colonne Date_payement avec la valeur '2023-12-31'\n",
      "/var/folders/jn/9ky4bnns2n72gwm_jg0ksgk80000gn/T/ipykernel_2177/3941810325.py:5: SettingWithCopyWarning: \n",
      "A value is trying to be set on a copy of a slice from a DataFrame.\n",
      "Try using .loc[row_indexer,col_indexer] = value instead\n",
      "\n",
      "See the caveats in the documentation: https://pandas.pydata.org/pandas-docs/stable/user_guide/indexing.html#returning-a-view-versus-a-copy\n",
      "  df3['Date_payement'] = pd.to_datetime(df3['Date_payement'])\n"
     ]
    }
   ],
   "source": [
    "df3 = df3.dropna(subset=['N_contrat'])\n",
    "df3['N_contrat'] = df3['N_contrat'].astype(int).astype(str)  # Convertir N_contrat en chaîne de caractères\n",
    "df3['PAYE'] = df3['PAYE'].astype(float)  # Convertir PAYE en float\n",
    "df3['Date_payement'] = '2023-12-31'  # Ajouter une colonne Date_payement avec la valeur '2023-12-31'\n",
    "df3['Date_payement'] = pd.to_datetime(df3['Date_payement'])"
   ]
  },
  {
   "cell_type": "code",
   "execution_count": 251,
   "metadata": {},
   "outputs": [
    {
     "name": "stdout",
     "output_type": "stream",
     "text": [
      "<class 'pandas.core.frame.DataFrame'>\n",
      "Int64Index: 152 entries, 0 to 156\n",
      "Data columns (total 5 columns):\n",
      " #   Column         Non-Null Count  Dtype         \n",
      "---  ------         --------------  -----         \n",
      " 0   N_contrat      152 non-null    object        \n",
      " 1   Nom_complet    152 non-null    object        \n",
      " 2   DUE            152 non-null    float64       \n",
      " 3   PAYE           152 non-null    float64       \n",
      " 4   Date_payement  152 non-null    datetime64[ns]\n",
      "dtypes: datetime64[ns](1), float64(2), object(2)\n",
      "memory usage: 7.1+ KB\n"
     ]
    },
    {
     "data": {
      "text/plain": [
       "None"
      ]
     },
     "metadata": {},
     "output_type": "display_data"
    },
    {
     "data": {
      "text/plain": [
       "N_contrat        0\n",
       "Nom_complet      0\n",
       "DUE              0\n",
       "PAYE             0\n",
       "Date_payement    0\n",
       "dtype: int64"
      ]
     },
     "metadata": {},
     "output_type": "display_data"
    }
   ],
   "source": [
    "display(df3.info())\n",
    "display(df3.isna().sum())"
   ]
  },
  {
   "cell_type": "code",
   "execution_count": 253,
   "metadata": {},
   "outputs": [
    {
     "name": "stdout",
     "output_type": "stream",
     "text": [
      "Connexion à la base de données réussie.\n",
      "Données insérées avec succès dans la table 'abonnement'.\n",
      "Connexion à la base de données fermée.\n"
     ]
    }
   ],
   "source": [
    "import sqlite3\n",
    "\n",
    "# Connexion à la base de données SQLite\n",
    "try:\n",
    "    conn = sqlite3.connect('Gestion_eau.db')\n",
    "    cursor = conn.cursor()\n",
    "    print(\"Connexion à la base de données réussie.\")\n",
    "except sqlite3.Error as e:\n",
    "    print(f\"Erreur lors de la connexion à la base de données : {e}\")\n",
    "    exit()\n",
    "\n",
    "# Insérer les données dans la table 'abonnement'\n",
    "try:\n",
    "    for index, row in df3.iterrows():\n",
    "        # Vérifier si N_contrat n'est pas null\n",
    "        if pd.notna(row['N_contrat']):\n",
    "            # Formater Date_payement pour ne garder que la partie date (sans l'heure)\n",
    "            if pd.notna(row['Date_payement']):\n",
    "                date_payement = row['Date_payement'].strftime('%Y-%m-%d')  # Format AAAA-MM-JJ\n",
    "            else:\n",
    "                date_payement = '2023-12-31'  # Valeur par défaut si Date_payement est null\n",
    "\n",
    "            # Insérer la ligne dans la table\n",
    "            cursor.execute('''\n",
    "                INSERT INTO abonnement (N_contrat, Date_payement, N_recue, Mnt_paye)\n",
    "                VALUES (?, ?, ?, ?)\n",
    "            ''', (row['N_contrat'], date_payement, 000, row['PAYE']))\n",
    "    \n",
    "    # Valider la transaction\n",
    "    conn.commit()\n",
    "    print(\"Données insérées avec succès dans la table 'abonnement'.\")\n",
    "except sqlite3.Error as e:\n",
    "    print(f\"Erreur lors de l'insertion des données : {e}\")\n",
    "    conn.rollback()  # Annuler les modifications en cas d'erreur\n",
    "finally:\n",
    "    # Fermer la connexion\n",
    "    try:\n",
    "        conn.close()\n",
    "        print(\"Connexion à la base de données fermée.\")\n",
    "    except sqlite3.Error as e:\n",
    "        print(f\"Erreur lors de la fermeture de la connexion : {e}\")"
   ]
  },
  {
   "cell_type": "code",
   "execution_count": null,
   "metadata": {},
   "outputs": [],
   "source": []
  }
 ],
 "metadata": {
  "kernelspec": {
   "display_name": "Master_DS_1",
   "language": "python",
   "name": "python3"
  },
  "language_info": {
   "codemirror_mode": {
    "name": "ipython",
    "version": 3
   },
   "file_extension": ".py",
   "mimetype": "text/x-python",
   "name": "python",
   "nbconvert_exporter": "python",
   "pygments_lexer": "ipython3",
   "version": "3.8.18"
  }
 },
 "nbformat": 4,
 "nbformat_minor": 2
}
