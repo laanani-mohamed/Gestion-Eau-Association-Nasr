{
 "cells": [
  {
   "cell_type": "code",
   "execution_count": 54,
   "metadata": {},
   "outputs": [],
   "source": [
    "import sqlite3\n",
    "\n",
    "# Connexion à la base de données (ou création de celle-ci)\n",
    "conn = sqlite3.connect('Gestion_eau.db')\n",
    "cursor = conn.cursor()"
   ]
  },
  {
   "cell_type": "code",
   "execution_count": 58,
   "metadata": {},
   "outputs": [
    {
     "data": {
      "text/plain": [
       "<sqlite3.Cursor at 0x1075b76c0>"
      ]
     },
     "execution_count": 58,
     "metadata": {},
     "output_type": "execute_result"
    }
   ],
   "source": [
    "cursor.execute('''\n",
    "CREATE VIEW IF NOT EXISTS Mouvements_Caisse AS\n",
    "SELECT N_contrat AS ID, Date_payement AS Date_Mouvement, 'Adhision' AS Motif, Mnt_paye AS Montant\n",
    "FROM Abonnement\n",
    "UNION ALL\n",
    "SELECT N_contrat AS ID, Date_payement AS Date_Mouvement, 'Consommation' AS Motif, Mnt_paye AS Montant\n",
    "FROM Pay_Consommation\n",
    "UNION ALL\n",
    "SELECT ID_Payment AS ID, Date_Reglement AS Date_Mouvement, 'ONEP' AS Motif, Mnt_paye AS Montant\n",
    "FROM ONEP_Payment\n",
    "UNION ALL\n",
    "SELECT ID_Maintenance AS ID, Date_operation AS Date_Mouvement, 'Maintenance' AS Motif, Mnt_ouvrier AS Montant \n",
    "FROM Maintenance\n",
    "UNION ALL\n",
    "SELECT ID_Achat AS ID, Date_Achat AS Date_Mouvement, 'Charge Materiel' AS Motif, -Montant_total AS Montant\n",
    "FROM Produit_Acheter\n",
    "''')\n"
   ]
  },
  {
   "cell_type": "code",
   "execution_count": 55,
   "metadata": {},
   "outputs": [
    {
     "data": {
      "text/plain": [
       "<sqlite3.Cursor at 0x1075b76c0>"
      ]
     },
     "execution_count": 55,
     "metadata": {},
     "output_type": "execute_result"
    }
   ],
   "source": [
    "cursor.execute(\"DROP VIEW IF EXISTS Mouvements_Caisse\")\n"
   ]
  },
  {
   "cell_type": "code",
   "execution_count": 59,
   "metadata": {},
   "outputs": [],
   "source": [
    "# Valider et fermer la connexion\n",
    "conn.commit()\n",
    "conn.close()"
   ]
  },
  {
   "cell_type": "code",
   "execution_count": null,
   "metadata": {},
   "outputs": [],
   "source": [
    "\n",
    "cursor.execute('''DELETE FROM ONEP_Payment\n",
    "WHERE Recu = 4444;''')\n"
   ]
  },
  {
   "cell_type": "code",
   "execution_count": null,
   "metadata": {},
   "outputs": [],
   "source": [
    "cursor.execute('''\n",
    "INSERT INTO Produit (Nom_produit) VALUES\n",
    "    ('Compteur'),\n",
    "    ('Pompe'),\n",
    "    ('Filtre'),\n",
    "    ('Réservoir'),\n",
    "    ('Tuyau irrigation'),\n",
    "    ('Capteur de niveau'),\n",
    "    ('Vanne à bille'),\n",
    "    ('Distributeur'),\n",
    "    ('Adoucisseur'),\n",
    "    ('Kit de traitement'),\n",
    "    ('Divers');\n",
    "''')\n"
   ]
  },
  {
   "cell_type": "code",
   "execution_count": null,
   "metadata": {},
   "outputs": [
    {
     "data": {
      "text/plain": [
       "<sqlite3.Cursor at 0x109807bc0>"
      ]
     },
     "execution_count": 11,
     "metadata": {},
     "output_type": "execute_result"
    }
   ],
   "source": [
    "# Création de la table info_personne\n",
    "cursor.execute('''\n",
    "CREATE TABLE IF NOT EXISTS info_personne (\n",
    "    N_contrat TEXT PRIMARY KEY,\n",
    "    N_conpteur_B TEXT,\n",
    "    N_conpteur_P TEXT,\n",
    "    Nom TEXT NOT NULL,\n",
    "    Mnt_due REAL,\n",
    "    Date_Adhesion DATE,\n",
    "    Adresse TEXT\n",
    ")\n",
    "''')\n",
    "\n",
    "# Création de la table Abonnement\n",
    "cursor.execute('''\n",
    "CREATE TABLE IF NOT EXISTS Abonnement (\n",
    "    N_contrat TEXT,\n",
    "    N_recue TEXT,\n",
    "    Mnt_paye REAL,\n",
    "    Date_payement DATE,\n",
    "    FOREIGN KEY (N_contrat) REFERENCES info_personne(N_contrat)\n",
    ")\n",
    "''')\n",
    "\n",
    "# Création de la table Qte_Consommation\n",
    "cursor.execute('''\n",
    "CREATE TABLE IF NOT EXISTS Qte_Consommation (\n",
    "    N_contrat TEXT,\n",
    "    Date_consome DATE,\n",
    "    Quantite REAL,\n",
    "    FOREIGN KEY (N_contrat) REFERENCES info_personne(N_contrat)\n",
    ")\n",
    "''')\n",
    "\n",
    "# Création de la table Pay_Consommation\n",
    "cursor.execute('''\n",
    "CREATE TABLE IF NOT EXISTS Pay_Consommation (\n",
    "    N_contrat TEXT,\n",
    "    N_recue TEXT,\n",
    "    Mnt_paye REAL,\n",
    "    Date_paye Date,\n",
    "    Date_payement DATE,\n",
    "    FOREIGN KEY (N_contrat) REFERENCES info_personne(N_contrat))\n",
    "''')\n",
    "\n",
    "\"\"\"# Table Mouvement_Stock \n",
    "cursor.execute('''\n",
    "    CREATE TABLE IF NOT EXISTS Mouvement_Stock (\n",
    "    ID_Mouvement INTEGER PRIMARY KEY AUTOINCREMENT,\n",
    "    Nom_Produit TEXT REFERENCES Produit(Nom_Produit),\n",
    "    Date_Mouvement DATE,\n",
    "    Type_Mouvement TEXT,  -- Par exemple : \"entrée\", \"sortie\", \"retour\"\n",
    "    Quantite REAL,  -- Quantité ajoutée ou retirée\n",
    "    Description TEXT  -- Détails du mouvement (par exemple : \"Sortie pour installation\")\n",
    ")\n",
    "''')\"\"\"\n",
    "\n",
    "# Table Achat \n",
    "cursor.execute('''\n",
    "CREATE TABLE IF NOT EXISTS Produit_Acheter (\n",
    "    ID_Achat INTEGER PRIMARY KEY AUTOINCREMENT,\n",
    "    Nom_Produit TEXT REFERENCES Produit(Nom_Produit),\n",
    "    Date_Achat DATE,\n",
    "    Quantite_achetee REAL,\n",
    "    Prix_unitaire REAL,\n",
    "    Montant_total REAL AS (Quantite_achetee * Prix_unitaire),\n",
    "    N_recu TEXT,\n",
    "    Fournisseur TEXT\n",
    ")\n",
    "''')\n",
    "\n",
    "# Table Produit\n",
    "cursor.execute('''\n",
    "CREATE TABLE IF NOT EXISTS Produit (\n",
    "    Nom_Produit TEXT PRIMARY KEY NOT NULL\n",
    ")\n",
    "''')\n",
    "\n",
    "# Table Produit_Utiliser\n",
    "cursor.execute('''\n",
    "CREATE TABLE IF NOT EXISTS Produit_Utiliser (\n",
    "    ID_utils INTEGER PRIMARY KEY AUTOINCREMENT,\n",
    "    Nom_Produit TEXT REFERENCES Produit(Nom_Produit),\n",
    "    Date_utils DATE,\n",
    "    Quantite_utuli REAL,\n",
    "    Description TEXT\n",
    ")\n",
    "''')\n",
    "\n",
    "#Table ONEP_Payement\n",
    "cursor.execute('''CREATE TABLE IF NOT EXISTS ONEP_Payment (\n",
    "    ID_Payment INTEGER PRIMARY KEY AUTOINCREMENT, \n",
    "    Mois_consome TEXT NOT NULL,            \n",
    "    Mnt_paye REAL NOT NULL,                \n",
    "    Recu TEXT NOT NULL,                    \n",
    "    Date_Reglement DATE NOT NULL                  \n",
    ")''')\n",
    "\n",
    "# Table ONEP_Charge\n",
    "cursor.execute('''CREATE TABLE IF NOT EXISTS ONEP_Credit (\n",
    "    ID_Charge INTEGER PRIMARY KEY AUTOINCREMENT,  \n",
    "    Mois_consome TEXT NOT NULL,  \n",
    "    Quantite_Consome REAL,\n",
    "    Mnt_a_paye REAL NOT NULL,                \n",
    "    Facture TEXT                             \n",
    ") ''')\n",
    "\n",
    "# Table Maintenance\n",
    "cursor.execute(''' CREATE TABLE IF NOT EXISTS Maintenance (\n",
    "    ID_Maintenance INTEGER PRIMARY KEY AUTOINCREMENT,\n",
    "    Date_operation DATE NOT NULL,\n",
    "    Description TEXT,\n",
    "    Nom_ouvrier TEXT,\n",
    "    Mnt_ouvrier REAL\n",
    ")\n",
    "''')\n",
    "               \n",
    "# Table Maintenance en detail\n",
    "cursor.execute(''' CREATE TABLE IF NOT EXISTS Maintenance_Details (\n",
    "    ID_Detail INTEGER PRIMARY KEY AUTOINCREMENT,\n",
    "    ID_Maintenance INTEGER REFERENCES Maintenance(ID_Maintenance) ON DELETE CASCADE,\n",
    "    Nom_produit TEXT REFERENCES Produit(Nom_Produit),\n",
    "    Quantite_produit REAL NOT NULL,\n",
    "    FOREIGN KEY (ID_Maintenance) REFERENCES Maintenance(ID_Maintenance)\n",
    ")\n",
    "''')"
   ]
  },
  {
   "cell_type": "code",
   "execution_count": null,
   "metadata": {},
   "outputs": [],
   "source": [
    "cursor.execute(\"DROP VIEW IF EXISTS Mouvements_Caisse\")\n",
    "\n",
    "# Valider et fermer la connexion\n",
    "conn.commit()\n",
    "conn.close()"
   ]
  },
  {
   "cell_type": "code",
   "execution_count": null,
   "metadata": {},
   "outputs": [
    {
     "name": "stdout",
     "output_type": "stream",
     "text": [
      "('000', '2024-12', '2024-12-01', 90.0, 90.0)\n",
      "('100', '2024-11', '2024-11-01', 0.0, 0.0)\n",
      "('100', '2024-11', '2024-11-01', 0.0, 0.0)\n",
      "('11', '2024-08', '2024-08-01', 60.0, 60.0)\n",
      "('111', '2024-10', '2024-10-01', 70.0, 70.0)\n",
      "('111', '2024-11', '2024-11-01', 77.0, 7.0)\n",
      "('111', '2024-11', '2024-11-13', 129.0, 52.0)\n",
      "('111', '2024-12', '2024-12-01', 90.0, -39.0)\n",
      "('123', '2024-11', '2024-11-01', 301.0, 301.0)\n",
      "('123', '2024-12', '2024-12-01', 12345.0, 12044.0)\n",
      "('124', '2024-11', '2024-11-01', 56.0, 56.0)\n",
      "('222', '2024-11', '2024-11-07', 145.0, 145.0)\n",
      "('222', '2024-12', '2024-12-03', 160.0, 15.0)\n",
      "('222', '2025-01', '2025-01-02', 179.0, 19.0)\n",
      "('333', '2024-10', '2024-10-01', 50.0, 50.0)\n",
      "('333', '2024-11', '2024-11-02', 56.0, 6.0)\n",
      "('55', '2024-09', '2024-09-01', 5.0, 5.0)\n",
      "('55', '2024-10', '2024-10-01', 10.0, 5.0)\n",
      "('55', '2024-11', '2024-11-01', 15.0, 5.0)\n",
      "('78', '2024-08', '2024-08-01', 12.0, 12.0)\n",
      "('78', '2024-09', '2024-09-02', 18.0, 6.0)\n",
      "('78', '2024-10', '2024-10-03', 25.0, 7.0)\n",
      "('78', '2024-11', '2024-11-02', 32.0, 7.0)\n",
      "('888', '2024-10', '2024-10-01', 10.0, 10.0)\n",
      "('9090', '2024-10', '2024-10-01', 89.0, 89.0)\n",
      "('9090', '2024-11', '2024-11-02', 95.0, 6.0)\n",
      "('9090', '2024-12', '2024-12-03', 123.0, 28.0)\n",
      "('999', '2024-11', '2024-11-07', 0.0, 0.0)\n",
      "('999', '2024-12', '2024-12-01', 17.0, 17.0)\n",
      "('999', '2025-01', '2025-01-02', 12.0, -5.0)\n"
     ]
    }
   ],
   "source": [
    "import sqlite3\n",
    "\n",
    "# Connexion à la base de données (remplacez par votre connexion de base de données)\n",
    "conn = sqlite3.connect('Gestion_eau.db')\n",
    "cursor = conn.cursor()\n",
    "\n",
    "# Exécuter la requête SQL\n",
    "query = '''\n",
    "SELECT \n",
    "    q.N_contrat,\n",
    "    strftime('%Y-%m', q.Date_consome) AS Mois_Consome,\n",
    "    q.Date_consome,\n",
    "    q.Quantite AS Index_m3,\n",
    "    COALESCE(q.Quantite - LAG(q.Quantite) OVER (PARTITION BY q.N_contrat ORDER BY q.Date_consome), q.Quantite) AS Qte_Consomme_m3,\n",
    "    (COALESCE(q.Quantite - LAG(q.Quantite) OVER (PARTITION BY q.N_contrat ORDER BY q.Date_consome), q.Quantite) * 7) AS Montant_dh\n",
    "FROM \n",
    "    Qte_Consommation q;\n",
    "\n",
    "'''\n",
    "\n",
    "cursor.execute(query)\n",
    "\n",
    "# Récupérer les résultats\n",
    "results = cursor.fetchall()\n",
    "\n",
    "# Afficher les résultats\n",
    "for row in results:\n",
    "    print(row)\n",
    "\n",
    "# Fermer la connexion\n",
    "conn.close()\n"
   ]
  },
  {
   "cell_type": "code",
   "execution_count": 13,
   "metadata": {},
   "outputs": [
    {
     "name": "stdout",
     "output_type": "stream",
     "text": [
      "Tables dans la base de données Gestion_eau :\n",
      "info_personne\n",
      "Abonnement\n",
      "Qte_Consommation\n",
      "Pay_Consommation\n"
     ]
    }
   ],
   "source": [
    "import sqlite3\n",
    "\n",
    "# Connexion à la base de données\n",
    "conn = sqlite3.connect('Gestion_eau.db')\n",
    "\n",
    "# Création d'un curseur\n",
    "cursor = conn.cursor()\n",
    "\n",
    "# Exécution de la requête pour lister les tables\n",
    "cursor.execute(\"SELECT name FROM sqlite_master WHERE type='table';\")\n",
    "\n",
    "# Récupération et affichage des noms de tables\n",
    "tables = cursor.fetchall()\n",
    "print(\"Tables dans la base de données Gestion_eau :\")\n",
    "for table in tables:\n",
    "    print(table[0])\n",
    "\n",
    "# Fermeture de la connexion\n",
    "conn.close()\n"
   ]
  },
  {
   "cell_type": "code",
   "execution_count": 30,
   "metadata": {},
   "outputs": [],
   "source": [
    "# Enregistrer les modifications et fermer la connexion\n",
    "conn.commit()\n",
    "conn.close()"
   ]
  },
  {
   "cell_type": "code",
   "execution_count": null,
   "metadata": {},
   "outputs": [],
   "source": [
    "Gestion_eau_app/\n",
    "├── app.py                # Fichier principal de l'application Flask\n",
    "├── Gestion_eau.db        # Base de données SQLite (sera créée au premier lancement)\n",
    "└── templates/            # Dossier contenant les fichiers HTML pour l'interface utilisateur\n",
    "    ├── index.html        # Page d'accueil avec les choix d'actions\n",
    "    ├── new_abonne.html   # Formulaire pour ajouter un nouvel abonné\n",
    "    ├── new_consommation.html # Formulaire pour ajouter une consommation\n",
    "    └── new_abonnement.html   # Formulaire pour ajouter un paiement d'abonnement\n"
   ]
  }
 ],
 "metadata": {
  "kernelspec": {
   "display_name": "Master_DS_1",
   "language": "python",
   "name": "python3"
  },
  "language_info": {
   "codemirror_mode": {
    "name": "ipython",
    "version": 3
   },
   "file_extension": ".py",
   "mimetype": "text/x-python",
   "name": "python",
   "nbconvert_exporter": "python",
   "pygments_lexer": "ipython3",
   "version": "3.8.18"
  }
 },
 "nbformat": 4,
 "nbformat_minor": 2
}
