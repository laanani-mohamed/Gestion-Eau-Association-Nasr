{
 "cells": [
  {
   "cell_type": "code",
   "execution_count": 1,
   "metadata": {},
   "outputs": [],
   "source": [
    "import sqlite3\n",
    "\n",
    "# Connexion à la base de données (ou création de celle-ci)\n",
    "conn = sqlite3.connect('Gestion_eau.db')\n",
    "cursor = conn.cursor()"
   ]
  },
  {
   "cell_type": "code",
   "execution_count": 13,
   "metadata": {},
   "outputs": [
    {
     "name": "stdout",
     "output_type": "stream",
     "text": [
      "Table 'info_personne' supprimée.\n",
      "Table 'Abonnement' supprimée.\n",
      "Table 'Qte_Consommation' supprimée.\n",
      "Table 'Pay_Consommation' supprimée.\n",
      "Table 'Produit_Acheter' supprimée.\n",
      "Table 'Produit' supprimée.\n",
      "Table 'Produit_Utiliser' supprimée.\n",
      "Table 'ONEP_Payment' supprimée.\n",
      "Table 'ONEP_Credit' supprimée.\n",
      "Table 'Maintenance' supprimée.\n",
      "Table 'Maintenance_Details' supprimée.\n",
      "Table 'Blocks' supprimée.\n",
      "Table 'Achat' supprimée.\n"
     ]
    }
   ],
   "source": [
    "import sqlite3\n",
    "\n",
    "# Connexion à la base de données SQLite\n",
    "conn = sqlite3.connect('Gestion_eau.db')\n",
    "cursor = conn.cursor()\n",
    "\n",
    "# Liste des tables à supprimer\n",
    "tables = [\n",
    "    \"info_personne\",\n",
    "    \"Abonnement\",\n",
    "    \"Qte_Consommation\",\n",
    "    \"Pay_Consommation\",\n",
    "    \"Produit_Acheter\",\n",
    "    \"Produit\",\n",
    "    \"Produit_Utiliser\",\n",
    "    \"ONEP_Payment\",\n",
    "    \"ONEP_Credit\",\n",
    "    \"Maintenance\",\n",
    "    \"Maintenance_Details\",\n",
    "    \"Blocks\",\n",
    "    \"Achat\"\n",
    "]\n",
    "\n",
    "# Générer et exécuter les commandes DROP TABLE IF EXISTS\n",
    "for table in tables:\n",
    "    cursor.execute(f\"DROP TABLE IF EXISTS {table}\")\n",
    "    print(f\"Table '{table}' supprimée.\")\n",
    "\n",
    "# Valider les modifications et fermer la connexion\n",
    "conn.commit()\n",
    "conn.close()\n"
   ]
  },
  {
   "cell_type": "code",
   "execution_count": 58,
   "metadata": {},
   "outputs": [
    {
     "data": {
      "text/plain": [
       "<sqlite3.Cursor at 0x1075b76c0>"
      ]
     },
     "execution_count": 58,
     "metadata": {},
     "output_type": "execute_result"
    }
   ],
   "source": [
    "cursor.execute('''\n",
    "CREATE VIEW IF NOT EXISTS Mouvements_Caisse AS\n",
    "SELECT N_contrat AS ID, Date_payement AS Date_Mouvement, 'Adhision' AS Motif, Mnt_paye AS Montant\n",
    "FROM Abonnement\n",
    "UNION ALL\n",
    "SELECT N_contrat AS ID, Date_payement AS Date_Mouvement, 'Consommation' AS Motif, Mnt_paye AS Montant\n",
    "FROM Pay_Consommation\n",
    "UNION ALL\n",
    "SELECT ID_Payment AS ID, Date_Reglement AS Date_Mouvement, 'ONEP' AS Motif, Mnt_paye AS Montant\n",
    "FROM ONEP_Payment\n",
    "UNION ALL\n",
    "SELECT ID_Maintenance AS ID, Date_operation AS Date_Mouvement, 'Maintenance' AS Motif, Mnt_ouvrier AS Montant \n",
    "FROM Maintenance\n",
    "UNION ALL\n",
    "SELECT ID_Achat AS ID, Date_Achat AS Date_Mouvement, 'Charge Materiel' AS Motif, -Montant_total AS Montant\n",
    "FROM Produit_Acheter\n",
    "''')\n"
   ]
  },
  {
   "cell_type": "code",
   "execution_count": 55,
   "metadata": {},
   "outputs": [
    {
     "data": {
      "text/plain": [
       "<sqlite3.Cursor at 0x1075b76c0>"
      ]
     },
     "execution_count": 55,
     "metadata": {},
     "output_type": "execute_result"
    }
   ],
   "source": [
    "cursor.execute(\"DROP VIEW IF EXISTS Mouvements_Caisse\")\n"
   ]
  },
  {
   "cell_type": "code",
   "execution_count": 2,
   "metadata": {},
   "outputs": [
    {
     "name": "stdout",
     "output_type": "stream",
     "text": [
      "La clé primaire a été supprimée avec succès.\n"
     ]
    }
   ],
   "source": [
    "# Étape 1 : Créer une table temporaire sans clé primaire\n",
    "cursor.execute('''\n",
    "CREATE TABLE IF NOT EXISTS Blocks_temp (\n",
    "    Block_ID INTEGER,\n",
    "    Index_m3 REAL,\n",
    "    Date_consome DATE\n",
    ");\n",
    "''')\n",
    "\n",
    "# Étape 2 : Copier les données de l'ancienne table vers la nouvelle table\n",
    "cursor.execute('''\n",
    "INSERT INTO Blocks_temp (Block_ID, Index_m3, Date_consome)\n",
    "SELECT Block_ID, Index_m3, Date_consome FROM Blocks;\n",
    "''')\n",
    "\n",
    "# Étape 3 : Supprimer l'ancienne table\n",
    "cursor.execute('DROP TABLE Blocks;')\n",
    "\n",
    "# Étape 4 : Renommer la table temporaire\n",
    "cursor.execute('ALTER TABLE Blocks_temp RENAME TO Blocks;')\n",
    "\n",
    "# Sauvegarder les modifications\n",
    "conn.commit()\n",
    "conn.close()\n",
    "\n",
    "print(\"La clé primaire a été supprimée avec succès.\")\n",
    "\n"
   ]
  },
  {
   "cell_type": "code",
   "execution_count": null,
   "metadata": {},
   "outputs": [],
   "source": [
    "\n",
    "cursor.execute('''DELETE FROM ONEP_Payment\n",
    "WHERE Recu = 4444;''')\n"
   ]
  },
  {
   "cell_type": "code",
   "execution_count": 2,
   "metadata": {},
   "outputs": [
    {
     "data": {
      "text/plain": [
       "<sqlite3.Cursor at 0x10676d8f0>"
      ]
     },
     "execution_count": 2,
     "metadata": {},
     "output_type": "execute_result"
    }
   ],
   "source": [
    "cursor.execute('''\n",
    "INSERT INTO Produit (Nom_Produit) VALUES\n",
    "    ('Compteur'),\n",
    "    ('Pompe'),\n",
    "    ('Filtre'),\n",
    "    ('Réservoir'),\n",
    "    ('Tuyau irrigation'),\n",
    "    ('Capteur de niveau'),\n",
    "    ('Vanne à bille'),\n",
    "    ('Distributeur'),\n",
    "    ('Adoucisseur'),\n",
    "    ('Kit de traitement'),\n",
    "    ('Divers');\n",
    "''')\n"
   ]
  },
  {
   "cell_type": "markdown",
   "metadata": {},
   "source": [
    "# Table "
   ]
  },
  {
   "cell_type": "code",
   "execution_count": 14,
   "metadata": {},
   "outputs": [
    {
     "data": {
      "text/plain": [
       "<sqlite3.Cursor at 0x10ad387a0>"
      ]
     },
     "execution_count": 14,
     "metadata": {},
     "output_type": "execute_result"
    }
   ],
   "source": [
    "import sqlite3\n",
    "\n",
    "# Connexion à la base de données (ou création de celle-ci)\n",
    "conn = sqlite3.connect('Gestion_eau.db')\n",
    "cursor = conn.cursor()\n",
    "\n",
    "# Création de la table info_personne\n",
    "cursor.execute('''\n",
    "CREATE TABLE IF NOT EXISTS info_personne (\n",
    "    N_contrat TEXT PRIMARY KEY,\n",
    "    Cin TEXT,\n",
    "    N_conpteur_B TEXT,\n",
    "    N_conpteur_P TEXT,\n",
    "    Nom TEXT NOT NULL,\n",
    "    Mnt_due REAL,\n",
    "    Date_Adhesion DATE,\n",
    "    Adresse TEXT\n",
    ")\n",
    "''')\n",
    "\n",
    "# Création de la table Abonnement\n",
    "cursor.execute('''\n",
    "CREATE TABLE IF NOT EXISTS Abonnement (\n",
    "    N_contrat TEXT,\n",
    "    N_recue TEXT,\n",
    "    Mnt_paye REAL,\n",
    "    Date_payement DATE,\n",
    "    FOREIGN KEY (N_contrat) REFERENCES info_personne(N_contrat)\n",
    ")\n",
    "''')\n",
    "\n",
    "# Création de la table Qte_Consommation\n",
    "cursor.execute('''\n",
    "CREATE TABLE IF NOT EXISTS Qte_Consommation (\n",
    "    N_contrat TEXT,\n",
    "    Date_consome DATE,\n",
    "    Quantite REAL,\n",
    "    FOREIGN KEY (N_contrat) REFERENCES info_personne(N_contrat)\n",
    ")\n",
    "''')\n",
    "\n",
    "# Création de la table Pay_Consommation\n",
    "cursor.execute('''\n",
    "CREATE TABLE IF NOT EXISTS Pay_Consommation (\n",
    "    N_contrat TEXT,\n",
    "    N_recue TEXT,\n",
    "    Mnt_paye REAL,\n",
    "    Date_paye Date,\n",
    "    Date_payement DATE,\n",
    "    FOREIGN KEY (N_contrat) REFERENCES info_personne(N_contrat))\n",
    "''')\n",
    "\n",
    "\"\"\"# Table Mouvement_Stock \n",
    "cursor.execute('''\n",
    "    CREATE TABLE IF NOT EXISTS Mouvement_Stock (\n",
    "    ID_Mouvement INTEGER PRIMARY KEY AUTOINCREMENT,\n",
    "    Nom_Produit TEXT REFERENCES Produit(Nom_Produit),\n",
    "    Date_Mouvement DATE,\n",
    "    Type_Mouvement TEXT,  -- Par exemple : \"entrée\", \"sortie\", \"retour\"\n",
    "    Quantite REAL,  -- Quantité ajoutée ou retirée\n",
    "    Description TEXT  -- Détails du mouvement (par exemple : \"Sortie pour installation\")\n",
    ")\n",
    "''')\"\"\"\n",
    "\n",
    "# Table Achat \n",
    "cursor.execute('''\n",
    "CREATE TABLE IF NOT EXISTS Produit_Acheter (\n",
    "    ID_Achat INTEGER PRIMARY KEY AUTOINCREMENT,\n",
    "    Nom_Produit TEXT REFERENCES Produit(Nom_Produit),\n",
    "    Date_Achat DATE,\n",
    "    Quantite_achetee REAL,\n",
    "    Prix_unitaire REAL,\n",
    "    Montant_total REAL AS (Quantite_achetee * Prix_unitaire),\n",
    "    N_recu TEXT,\n",
    "    Fournisseur TEXT\n",
    ")\n",
    "''')\n",
    "\n",
    "# Table Produit\n",
    "cursor.execute('''\n",
    "CREATE TABLE IF NOT EXISTS Produit (\n",
    "    Nom_Produit TEXT PRIMARY KEY NOT NULL\n",
    ")\n",
    "''')\n",
    "\n",
    "# Table Produit_Utiliser\n",
    "cursor.execute('''\n",
    "CREATE TABLE IF NOT EXISTS Produit_Utiliser (\n",
    "    ID_utils INTEGER PRIMARY KEY AUTOINCREMENT,\n",
    "    Nom_Produit TEXT REFERENCES Produit(Nom_Produit),\n",
    "    Date_utils DATE,\n",
    "    Quantite_utuli REAL,\n",
    "    Description TEXT\n",
    ")\n",
    "''')\n",
    "\n",
    "#Table ONEP_Payement\n",
    "cursor.execute('''CREATE TABLE IF NOT EXISTS ONEP_Payment (\n",
    "    ID_Payment INTEGER PRIMARY KEY AUTOINCREMENT, \n",
    "    Mois_consome TEXT NOT NULL,            \n",
    "    Mnt_paye REAL NOT NULL,                \n",
    "    Recu TEXT NOT NULL,                    \n",
    "    Date_Reglement DATE NOT NULL                  \n",
    ")''')\n",
    "\n",
    "# Table ONEP_Charge\n",
    "cursor.execute('''CREATE TABLE IF NOT EXISTS ONEP_Credit (\n",
    "    ID_Charge INTEGER PRIMARY KEY AUTOINCREMENT,  \n",
    "    Mois_consome TEXT NOT NULL,  \n",
    "    Quantite_Consome REAL,\n",
    "    Mnt_a_paye REAL NOT NULL,                \n",
    "    Facture TEXT                             \n",
    ") ''')\n",
    "\n",
    "# Table Maintenance\n",
    "cursor.execute(''' CREATE TABLE IF NOT EXISTS Maintenance (\n",
    "    ID_Maintenance INTEGER PRIMARY KEY AUTOINCREMENT,\n",
    "    Date_operation DATE NOT NULL,\n",
    "    Description TEXT,\n",
    "    Nom_ouvrier TEXT,\n",
    "    Mnt_ouvrier REAL\n",
    ")\n",
    "''')\n",
    "               \n",
    "# Table Maintenance en detail\n",
    "cursor.execute(''' CREATE TABLE IF NOT EXISTS Maintenance_Details (\n",
    "    ID_Detail INTEGER PRIMARY KEY AUTOINCREMENT,\n",
    "    ID_Maintenance INTEGER REFERENCES Maintenance(ID_Maintenance) ON DELETE CASCADE,\n",
    "    Nom_produit TEXT REFERENCES Produit(Nom_Produit),\n",
    "    Quantite_produit REAL NOT NULL,\n",
    "    FOREIGN KEY (ID_Maintenance) REFERENCES Maintenance(ID_Maintenance)\n",
    ")\n",
    "''')\n",
    "\n",
    "cursor.execute('''CREATE TABLE IF NOT EXISTS Blocks (\n",
    "    Block_ID INTEGER ,\n",
    "    Index_m3 REAL NOT NULL,\n",
    "    Date_consome Date\n",
    ");\n",
    "       ''')"
   ]
  },
  {
   "cell_type": "markdown",
   "metadata": {},
   "source": [
    "# Inserion "
   ]
  },
  {
   "cell_type": "code",
   "execution_count": 15,
   "metadata": {},
   "outputs": [
    {
     "name": "stdout",
     "output_type": "stream",
     "text": [
      "Données insérées avec succès.\n"
     ]
    }
   ],
   "source": [
    "import sqlite3\n",
    "\n",
    "# Connexion à la base de données\n",
    "conn = sqlite3.connect('Gestion_eau.db')\n",
    "cursor = conn.cursor()\n",
    "\n",
    "# Données à insérer\n",
    "data_info_personne = [\n",
    "    ('01', 'Bk234', '1', 'CP001', 'John Doe', 1500.50, '2024-01-01', 'hamou'),\n",
    "    ('02', 'BK123', '2', 'CP002', 'Jane Smith', 2000.00, '2024-02-01', 'baala'),\n",
    "    ('03', 'BK45', '3', 'CP003', 'Ahmed Ali', 1750.75, '2024-03-10', '789 Boulevard Zerktouni, Fès'),\n",
    "    ('04', 'CIN004', '2', 'CP004', 'Sarah Karim', 1850.00, '2024-03-15', '321 Rue Ibn Battuta, Marrakech'),\n",
    "    ('05', 'CIN005', '3', 'CP005', 'Youssef Haddad', 1450.25, '2024-04-01', '654 Avenue Hassan II, Tanger'),\n",
    "    ('06', 'CIN006', '4', 'CP006', 'Fatima Zahra', 2100.00, '2024-04-20', '876 Rue Oqba Ibn Nafia, Agadir'),\n",
    "    ('07', 'CIN007', '4', 'CP007', 'Mohamed Chraibi', 1950.30, '2024-05-01', '543 Boulevard Moulay Youssef, Oujda'),\n",
    "    ('08', 'CIN008', '4', 'CP008', 'Hajar El Alaoui', 1800.00, '2024-05-10', '234 Rue Al Mounir, Meknès'),\n",
    "    ('09', 'CIN009', '1', 'CP009', 'Rachid Benomar', 1650.60, '2024-06-01', '123 Rue Dakhla, Tétouan'),\n",
    "    ('10', 'CIN010', '3', 'CP010', 'Samira Lahlou', 1750.80, '2024-06-15', '456 Avenue Abdelmoumen, Laâyoune')\n",
    "]\n",
    "\n",
    "# Insertion des données\n",
    "cursor.executemany('''\n",
    "INSERT INTO info_personne (N_contrat, Cin, N_conpteur_B, N_conpteur_P, Nom, Mnt_due, Date_Adhesion, Adresse)\n",
    "VALUES (?, ?, ?, ?, ?, ?, ?, ?)\n",
    "''', data_info_personne)\n",
    "\n",
    "# Validation des modifications et fermeture de la connexion\n",
    "conn.commit()\n",
    "conn.close()\n",
    "\n",
    "print(\"Données insérées avec succès.\")\n"
   ]
  },
  {
   "cell_type": "code",
   "execution_count": 16,
   "metadata": {},
   "outputs": [
    {
     "name": "stdout",
     "output_type": "stream",
     "text": [
      "Données insérées avec succès dans la table Abonnement.\n"
     ]
    }
   ],
   "source": [
    "import sqlite3\n",
    "\n",
    "# Connexion à la base de données\n",
    "conn = sqlite3.connect('Gestion_eau.db')\n",
    "cursor = conn.cursor()\n",
    "\n",
    "# Données à insérer dans la table Abonnement\n",
    "data_abonnement = [\n",
    "    ('01', '1', 500.00, '2024-01-10'),\n",
    "    ('01', '2', 500.00, '2024-02-10'),\n",
    "    ('01', '3', 500.00, '2024-03-10'),\n",
    "    ('01', '4', 0.50, '2024-04-01'),\n",
    "    ('02', '5', 1000.00, '2024-02-15'),\n",
    "    ('02', '6', 1000.00, '2024-03-15'),\n",
    "    ('03', '7', 500.00, '2024-03-15'),\n",
    "    ('03', '8', 500.00, '2024-04-05'),\n",
    "    ('04', '9', 800.00, '2024-03-20'),\n",
    "    ('04', '10', 800.00, '2024-04-05'),\n",
    "    ('05', '11', 800.00, '2024-04-10'),\n",
    "    ('06', '12', 500.00, '2024-04-25'),\n",
    "    ('06', '13', 500.00, '2024-05-05'),\n",
    "    ('07', '14', 1000.00, '2024-05-15'),\n",
    "    ('08', '15', 1800.00, '2024-05-25'),\n",
    "    ('09', '16', 1650.60, '2024-06-10'),\n",
    "    ('10', '17', 600.00, '2024-06-20'),\n",
    "    ('10', '18', 1150.80, '2024-07-01')\n",
    "]\n",
    "\n",
    "# Insertion des données dans la table Abonnement\n",
    "cursor.executemany('''\n",
    "INSERT INTO Abonnement (N_contrat, N_recue, Mnt_paye, Date_payement)\n",
    "VALUES (?, ?, ?, ?)\n",
    "''', data_abonnement)\n",
    "\n",
    "# Validation des modifications et fermeture de la connexion\n",
    "conn.commit()\n",
    "conn.close()\n",
    "\n",
    "print(\"Données insérées avec succès dans la table Abonnement.\")\n"
   ]
  },
  {
   "cell_type": "code",
   "execution_count": 8,
   "metadata": {},
   "outputs": [],
   "source": [
    "import sqlite3\n",
    "\n",
    "# Connexion à la base de données\n",
    "conn = sqlite3.connect('Gestion_eau.db')\n",
    "cursor = conn.cursor()\n",
    "\n",
    "# Données de consommation à insérer\n",
    "data_consommation = [\n",
    "    ('01', 2, '2024-06-01'),\n",
    "    ('01', 4, '2024-07-01'),\n",
    "    ('01', 5, '2024-08-01'),\n",
    "    ('01', 6, '2024-09-01'),\n",
    "    ('01', 7, '2024-10-01'),\n",
    "    ('01', 10, '2024-11-01'),\n",
    "    ('02', 3, '2024-06-01'),\n",
    "    ('02', 9, '2024-07-01'),\n",
    "    ('02', 14, '2024-08-01'),\n",
    "    ('02', 18, '2024-09-01'),\n",
    "    ('02', 19, '2024-10-01'),\n",
    "    ('02', 22, '2024-11-01'),\n",
    "    ('03', 1, '2024-06-01'),\n",
    "    ('03', 7, '2024-07-01'),\n",
    "    ('03', 10, '2024-08-01'),\n",
    "    ('03', 11, '2024-09-01'),\n",
    "    ('03', 15, '2024-10-01'),\n",
    "    ('03', 20, '2024-11-01'),\n",
    "    ('04', 10, '2024-06-01'),\n",
    "    ('04', 13, '2024-07-01'),\n",
    "    ('04', 19, '2024-08-01'),\n",
    "    ('04', 22, '2024-09-01'),\n",
    "    ('04', 26, '2024-10-01'),\n",
    "    ('04', 28, '2024-11-01'),\n",
    "    ('05', 1, '2024-06-01'),\n",
    "    ('05', 7, '2024-07-01'),\n",
    "    ('05', 9, '2024-08-01'),\n",
    "    ('05', 17, '2024-09-01'),\n",
    "    ('05', 20, '2024-10-01'),\n",
    "    ('05', 28, '2024-11-01')\n",
    "]\n",
    "\n",
    "# Insertion des données dans la table Consommation\n",
    "cursor.executemany('''\n",
    "INSERT INTO Qte_Consommation (N_contrat, Quantite, Date_consome)\n",
    "VALUES (?, ?, ?)\n",
    "''', data_consommation)\n",
    "\n",
    "# Validation des modifications et fermeture de la connexion\n",
    "conn.commit()\n",
    "conn.close()\n"
   ]
  },
  {
   "cell_type": "code",
   "execution_count": 11,
   "metadata": {},
   "outputs": [
    {
     "name": "stdout",
     "output_type": "stream",
     "text": [
      "Les données ont été insérées dans la table Pay_Consommation avec succès.\n"
     ]
    }
   ],
   "source": [
    "import sqlite3\n",
    "\n",
    "# Connexion à la base de données\n",
    "conn = sqlite3.connect('Gestion_eau.db')\n",
    "cursor = conn.cursor()\n",
    "\n",
    "# Données à insérer\n",
    "data_pay_consommation = [\n",
    "    ('01', '1', 14.00, '2024-06-15', '2024-06-16'),\n",
    "    ('01', '6', 14.00, '2024-07-01', '2024-07-02'),\n",
    "    ('01', '5', 7.00, '2024-08-15', '2024-08-16'),\n",
    "    ('01', '6', 7.00, '2024-09-01', '2024-09-02'),\n",
    "    ('01', '2', 7.00, '2024-10-15', '2024-10-16'),\n",
    "\n",
    "    ('02', '2', 21.00, '2024-06-15', '2024-06-16'),\n",
    "    ('02', '7', 42.00, '2024-07-01', '2024-07-02'),\n",
    "    ('02', '11', 35.00, '2024-08-15', '2024-08-16'),\n",
    "    ('02', '15', 28.00, '2024-09-01', '2024-09-02'),\n",
    "    \n",
    "    ('03', '9', 7.00, '2024-06-15', '2024-06-16'),\n",
    "    ('03', '16', 42.00, '2024-07-01', '2024-07-02'),\n",
    "    ('03', '15', 21.00, '2024-08-15', '2024-08-16'),\n",
    "    ('03', '16', 7.00, '2024-09-01', '2024-09-02'),\n",
    "    ('03', '12', 28.00, '2024-10-15', '2024-10-16'),\n",
    "    ('03', '10', 35.00, '2024-11-15', '2024-11-16'),\n",
    "\n",
    "    ('04', '3', 21.00, '2024-09-01', '2024-10-02'),\n",
    "    ('04', '7', 70.00, '2024-06-15', '2024-08-16'),\n",
    "    ('04', '12', 14.00, '2024-11-01', '2024-11-02'),\n",
    "\n",
    "    ('05', '12', 7.00, '2024-06-01', '2024-06-02'),\n",
    "    \n",
    "]\n",
    "\n",
    "# Insertion des données\n",
    "cursor.executemany('''\n",
    "INSERT INTO Pay_Consommation (N_contrat, N_recue, Mnt_paye, Date_paye, Date_payement)\n",
    "VALUES (?, ?, ?, ?, ?)\n",
    "''', data_pay_consommation)\n",
    "\n",
    "# Validation des changements\n",
    "conn.commit()\n",
    "\n",
    "# Fermeture de la connexion\n",
    "conn.close()\n",
    "\n",
    "print(\"Les données ont été insérées dans la table Pay_Consommation avec succès.\")\n"
   ]
  },
  {
   "cell_type": "markdown",
   "metadata": {},
   "source": [
    "# XXX"
   ]
  },
  {
   "cell_type": "code",
   "execution_count": 5,
   "metadata": {},
   "outputs": [],
   "source": [
    "cursor.execute(\"DROP VIEW IF EXISTS Mouvements_Caisse\")\n",
    "\n",
    "# Valider et fermer la connexion\n",
    "conn.commit()\n",
    "conn.close()"
   ]
  },
  {
   "cell_type": "code",
   "execution_count": null,
   "metadata": {},
   "outputs": [
    {
     "name": "stdout",
     "output_type": "stream",
     "text": [
      "('000', '2024-12', '2024-12-01', 90.0, 90.0)\n",
      "('100', '2024-11', '2024-11-01', 0.0, 0.0)\n",
      "('100', '2024-11', '2024-11-01', 0.0, 0.0)\n",
      "('11', '2024-08', '2024-08-01', 60.0, 60.0)\n",
      "('111', '2024-10', '2024-10-01', 70.0, 70.0)\n",
      "('111', '2024-11', '2024-11-01', 77.0, 7.0)\n",
      "('111', '2024-11', '2024-11-13', 129.0, 52.0)\n",
      "('111', '2024-12', '2024-12-01', 90.0, -39.0)\n",
      "('123', '2024-11', '2024-11-01', 301.0, 301.0)\n",
      "('123', '2024-12', '2024-12-01', 12345.0, 12044.0)\n",
      "('124', '2024-11', '2024-11-01', 56.0, 56.0)\n",
      "('222', '2024-11', '2024-11-07', 145.0, 145.0)\n",
      "('222', '2024-12', '2024-12-03', 160.0, 15.0)\n",
      "('222', '2025-01', '2025-01-02', 179.0, 19.0)\n",
      "('333', '2024-10', '2024-10-01', 50.0, 50.0)\n",
      "('333', '2024-11', '2024-11-02', 56.0, 6.0)\n",
      "('55', '2024-09', '2024-09-01', 5.0, 5.0)\n",
      "('55', '2024-10', '2024-10-01', 10.0, 5.0)\n",
      "('55', '2024-11', '2024-11-01', 15.0, 5.0)\n",
      "('78', '2024-08', '2024-08-01', 12.0, 12.0)\n",
      "('78', '2024-09', '2024-09-02', 18.0, 6.0)\n",
      "('78', '2024-10', '2024-10-03', 25.0, 7.0)\n",
      "('78', '2024-11', '2024-11-02', 32.0, 7.0)\n",
      "('888', '2024-10', '2024-10-01', 10.0, 10.0)\n",
      "('9090', '2024-10', '2024-10-01', 89.0, 89.0)\n",
      "('9090', '2024-11', '2024-11-02', 95.0, 6.0)\n",
      "('9090', '2024-12', '2024-12-03', 123.0, 28.0)\n",
      "('999', '2024-11', '2024-11-07', 0.0, 0.0)\n",
      "('999', '2024-12', '2024-12-01', 17.0, 17.0)\n",
      "('999', '2025-01', '2025-01-02', 12.0, -5.0)\n"
     ]
    }
   ],
   "source": [
    "import sqlite3\n",
    "\n",
    "# Connexion à la base de données (remplacez par votre connexion de base de données)\n",
    "conn = sqlite3.connect('Gestion_eau.db')\n",
    "cursor = conn.cursor()\n",
    "\n",
    "# Exécuter la requête SQL\n",
    "query = '''\n",
    "SELECT \n",
    "    q.N_contrat,\n",
    "    strftime('%Y-%m', q.Date_consome) AS Mois_Consome,\n",
    "    q.Date_consome,\n",
    "    q.Quantite AS Index_m3,\n",
    "    COALESCE(q.Quantite - LAG(q.Quantite) OVER (PARTITION BY q.N_contrat ORDER BY q.Date_consome), q.Quantite) AS Qte_Consomme_m3,\n",
    "    (COALESCE(q.Quantite - LAG(q.Quantite) OVER (PARTITION BY q.N_contrat ORDER BY q.Date_consome), q.Quantite) * 7) AS Montant_dh\n",
    "FROM \n",
    "    Qte_Consommation q;\n",
    "\n",
    "'''\n",
    "\n",
    "cursor.execute(query)\n",
    "\n",
    "# Récupérer les résultats\n",
    "results = cursor.fetchall()\n",
    "\n",
    "# Afficher les résultats\n",
    "for row in results:\n",
    "    print(row)\n",
    "\n",
    "# Fermer la connexion\n",
    "conn.close()\n"
   ]
  },
  {
   "cell_type": "code",
   "execution_count": 13,
   "metadata": {},
   "outputs": [
    {
     "name": "stdout",
     "output_type": "stream",
     "text": [
      "Tables dans la base de données Gestion_eau :\n",
      "info_personne\n",
      "Abonnement\n",
      "Qte_Consommation\n",
      "Pay_Consommation\n"
     ]
    }
   ],
   "source": [
    "import sqlite3\n",
    "\n",
    "# Connexion à la base de données\n",
    "conn = sqlite3.connect('Gestion_eau.db')\n",
    "\n",
    "# Création d'un curseur\n",
    "cursor = conn.cursor()\n",
    "\n",
    "# Exécution de la requête pour lister les tables\n",
    "cursor.execute(\"SELECT name FROM sqlite_master WHERE type='table';\")\n",
    "\n",
    "# Récupération et affichage des noms de tables\n",
    "tables = cursor.fetchall()\n",
    "print(\"Tables dans la base de données Gestion_eau :\")\n",
    "for table in tables:\n",
    "    print(table[0])\n",
    "\n",
    "# Fermeture de la connexion\n",
    "conn.close()\n"
   ]
  },
  {
   "cell_type": "code",
   "execution_count": 3,
   "metadata": {},
   "outputs": [],
   "source": [
    "# Enregistrer les modifications et fermer la connexion\n",
    "conn.commit()\n",
    "conn.close()"
   ]
  }
 ],
 "metadata": {
  "kernelspec": {
   "display_name": "Master_DS_1",
   "language": "python",
   "name": "python3"
  },
  "language_info": {
   "codemirror_mode": {
    "name": "ipython",
    "version": 3
   },
   "file_extension": ".py",
   "mimetype": "text/x-python",
   "name": "python",
   "nbconvert_exporter": "python",
   "pygments_lexer": "ipython3",
   "version": "3.8.18"
  }
 },
 "nbformat": 4,
 "nbformat_minor": 2
}
